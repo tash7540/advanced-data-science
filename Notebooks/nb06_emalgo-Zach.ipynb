{
 "cells": [
  {
   "cell_type": "markdown",
   "metadata": {},
   "source": [
    "# Notebook 6: Expectation-maximization (EM) algorithm\n",
    "***\n",
    "\n",
    "In this notebook we'll work through one iteration (maybe more!) of the EM algorithm to get a feel for how it works. We will also check out the key difference between soft-clustering methods like GMMs and hard-clustering methods like K-means: that hard-clustering approaches offer a binary (0 or 1) classification for each data point as a member of a particular cluster or not, whereas soft-clustering methods are \"fuzzier\" in the sense that they assign a *probability between 0 and 1* that a given data point is part of a particular cluster. So let's get to it!\n",
    "\n",
    "We'll need some nice packages for this notebook, so let's load them."
   ]
  },
  {
   "cell_type": "code",
   "execution_count": 1,
   "metadata": {},
   "outputs": [],
   "source": [
    "import numpy as np \n",
    "import pandas as pd\n",
    "import scipy.stats as stats\n",
    "import matplotlib.pyplot as plt\n",
    "%matplotlib inline"
   ]
  },
  {
   "cell_type": "markdown",
   "metadata": {},
   "source": [
    "<br>\n",
    "\n",
    "### Exercise 1:  We're allowed back in Chuck E. Cheese's... for now.\n",
    "\n",
    "Let's load up the Chuck E. Cheese's age data from the lecture slides."
   ]
  },
  {
   "cell_type": "code",
   "execution_count": 2,
   "metadata": {},
   "outputs": [
    {
     "data": {
      "text/html": [
       "<div>\n",
       "<style scoped>\n",
       "    .dataframe tbody tr th:only-of-type {\n",
       "        vertical-align: middle;\n",
       "    }\n",
       "\n",
       "    .dataframe tbody tr th {\n",
       "        vertical-align: top;\n",
       "    }\n",
       "\n",
       "    .dataframe thead th {\n",
       "        text-align: right;\n",
       "    }\n",
       "</style>\n",
       "<table border=\"1\" class=\"dataframe\">\n",
       "  <thead>\n",
       "    <tr style=\"text-align: right;\">\n",
       "      <th></th>\n",
       "      <th>0</th>\n",
       "    </tr>\n",
       "  </thead>\n",
       "  <tbody>\n",
       "    <tr>\n",
       "      <th>0</th>\n",
       "      <td>9.41</td>\n",
       "    </tr>\n",
       "    <tr>\n",
       "      <th>1</th>\n",
       "      <td>4.43</td>\n",
       "    </tr>\n",
       "    <tr>\n",
       "      <th>2</th>\n",
       "      <td>12.30</td>\n",
       "    </tr>\n",
       "    <tr>\n",
       "      <th>3</th>\n",
       "      <td>7.06</td>\n",
       "    </tr>\n",
       "    <tr>\n",
       "      <th>4</th>\n",
       "      <td>5.84</td>\n",
       "    </tr>\n",
       "  </tbody>\n",
       "</table>\n",
       "</div>"
      ],
      "text/plain": [
       "       0\n",
       "0   9.41\n",
       "1   4.43\n",
       "2  12.30\n",
       "3   7.06\n",
       "4   5.84"
      ]
     },
     "execution_count": 2,
     "metadata": {},
     "output_type": "execute_result"
    }
   ],
   "source": [
    "dfA = pd.read_csv(\"../data/ages.csv\", header=None)\n",
    "dfA.head()"
   ]
  },
  {
   "cell_type": "markdown",
   "metadata": {},
   "source": [
    "As seen in the last lecture slide, let's start with the following and do one iteration of the EM algorithm step by step."
   ]
  },
  {
   "cell_type": "code",
   "execution_count": 3,
   "metadata": {},
   "outputs": [],
   "source": [
    "mu1, mu2 = 10, 38\n",
    "var1, var2 = 7, 20\n",
    "pi = 0.50\n",
    "\n",
    "#if we wanted to initialize, we might:\n",
    "# pick two indices at random\n",
    "# those two indices have locations; call those mu1, mu2.\n",
    "# the overall data set has np.var(dfA[0]); call BOTH var1, var2 equal to that value.\n",
    "#initialize each cluster as a probability(cluster)=.5 \n",
    "#... enter algorithm"
   ]
  },
  {
   "cell_type": "markdown",
   "metadata": {},
   "source": [
    "To begin, let's have a look at the mixture model using those initial parameter estimates."
   ]
  },
  {
   "cell_type": "code",
   "execution_count": 4,
   "metadata": {},
   "outputs": [
    {
     "data": {
      "image/png": "[encoded data removed]",
      "text/plain": [
       "<matplotlib.figure.Figure at 0x19933d87cc0>"
      ]
     },
     "metadata": {},
     "output_type": "display_data"
    }
   ],
   "source": [
    "# Evaluate and plot the mixture model at a grid of 200 evenly spaced ages ranging from 0 to 60 years old\n",
    "xgrid = np.linspace(0,60,200)\n",
    "# evaluate the first component\n",
    "f1 = stats.norm.pdf(xgrid, loc=mu1, scale=np.sqrt(var1))\n",
    "# evaluate the second component\n",
    "f2 = stats.norm.pdf(xgrid, loc=mu2, scale=np.sqrt(var2))\n",
    "# mix them together\n",
    "fx = (1-pi)*f1+pi*f2\n",
    "\n",
    "# make a plot\n",
    "plt.hist(dfA[0], bins=20, edgecolor=\"white\", density=True)\n",
    "#plt.plot(xgrid, f1, color=\"coral\", linewidth=3)\n",
    "#plt.plot(xgrid, f2, color=\"purple\", linewidth=3)\n",
    "plt.plot(xgrid, fx, color=\"coral\", linewidth=3)\n",
    "plt.text(30, 0.11, \"$\\mu_1$={}, $\\mu_2$={}\".format(mu1,mu2), fontsize=14)\n",
    "plt.text(30, 0.10, \"$\\sigma_1^2$={}, $\\sigma_2^2$={}\".format(var1,var2), fontsize=14)\n",
    "plt.text(30, 0.09, \"$\\pi$={}\".format(pi), fontsize=14)\n",
    "plt.xlim([0,60])\n",
    "plt.ylim([0,0.13])\n",
    "plt.xlabel(\"Age\", fontsize=14)\n",
    "plt.ylabel(\"Probability density\", fontsize=14);"
   ]
  },
  {
   "cell_type": "markdown",
   "metadata": {},
   "source": [
    "Looks familiar, no?"
   ]
  },
  {
   "cell_type": "markdown",
   "metadata": {},
   "source": [
    "We start a single iteration of the EM algorithm in the **Expectation** step (2a from the slides), by computing $\\hat{p}_{m,i} = Pr(C=m \\mid x_i)$ for each data point $x_i$. This is the probability of component model $m$, given that data point:\n",
    "$$\\hat{p}_{m,i} = Pr(C=m \\mid x_i) = \\alpha Pr(x_i \\mid C=m) Pr(C=m) = \\alpha \\phi(x_i \\mid \\hat{\\mu}_m, \\hat{\\Sigma}_m) \\hat{w}_m$$\n",
    "\n",
    "The first part of the right hand side, $\\phi(x_i \\mid \\hat{\\mu}_m, \\hat{\\Sigma}_m)$, we can estimate for each data point using our current estimates for the component means and variances as:"
   ]
  },
  {
   "cell_type": "code",
   "execution_count": 8,
   "metadata": {},
   "outputs": [],
   "source": [
    "# dfA[0] # all the data\n"
   ]
  },
  {
   "cell_type": "code",
   "execution_count": 9,
   "metadata": {},
   "outputs": [],
   "source": [
    "p_data_given_class1 = stats.norm.pdf(dfA[0], loc=mu1, scale=np.sqrt(var1))\n",
    "p_data_given_class2 = stats.norm.pdf(dfA[0], loc=mu2, scale=np.sqrt(var2))"
   ]
  },
  {
   "cell_type": "markdown",
   "metadata": {},
   "source": [
    "And the probability for each model, $\\hat{w}_m$, we can get from the current estimate of the mixing parameter $\\pi$:"
   ]
  },
  {
   "cell_type": "code",
   "execution_count": 10,
   "metadata": {},
   "outputs": [],
   "source": [
    "p_class1 = 1-pi\n",
    "p_class2 = pi"
   ]
  },
  {
   "cell_type": "markdown",
   "metadata": {},
   "source": [
    "This gives for the full *unnormalized* right-hand side:"
   ]
  },
  {
   "cell_type": "code",
   "execution_count": 11,
   "metadata": {},
   "outputs": [],
   "source": [
    "p_class1_given_data = p_data_given_class1*p_class1\n",
    "p_class2_given_data = p_data_given_class2*p_class2"
   ]
  },
  {
   "cell_type": "code",
   "execution_count": 14,
   "metadata": {},
   "outputs": [
    {
     "name": "stdout",
     "output_type": "stream",
     "text": [
      "0.07354152443399424 5.952323647978307e-11\n",
      "9.41\n"
     ]
    }
   ],
   "source": [
    "#goal is to compare theses; make them probability ratios/\n",
    "print(p_class1_given_data[0], p_class2_given_data[0])\n",
    "print(dfA[0][0])\n",
    "\n",
    "#we're pretty sure a 9 year old is coming from the left-hand \"child\" mixture"
   ]
  },
  {
   "cell_type": "markdown",
   "metadata": {},
   "source": [
    "Now, to get formal probabilities, we must make sure that they sum to one. This is what that $\\alpha$ term is accomplishing above, which we haven't accounted for yet. So we normalize the probabilities by dividing each term by their sum:"
   ]
  },
  {
   "cell_type": "code",
   "execution_count": 15,
   "metadata": {},
   "outputs": [],
   "source": [
    "summ = p_class1_given_data + p_class2_given_data\n",
    "p_class1_given_data = p_class1_given_data / summ\n",
    "p_class2_given_data = p_class2_given_data / summ"
   ]
  },
  {
   "cell_type": "code",
   "execution_count": 16,
   "metadata": {},
   "outputs": [
    {
     "name": "stdout",
     "output_type": "stream",
     "text": [
      "0.9999999991906173 8.093826839968474e-10\n"
     ]
    }
   ],
   "source": [
    "print(p_class1_given_data[0], p_class2_given_data[0])"
   ]
  },
  {
   "cell_type": "markdown",
   "metadata": {},
   "source": [
    "Check below that the sum of *both* `p_class1_given_data` and `p_class2_given_data` is the number of data points (think of them as \"votes\" for the component models -- we have 54 data points, so how many votes should we have total?)."
   ]
  },
  {
   "cell_type": "code",
   "execution_count": 19,
   "metadata": {},
   "outputs": [
    {
     "name": "stdout",
     "output_type": "stream",
     "text": [
      "30.01016721379784\n",
      "23.989832786202165\n",
      "54\n"
     ]
    }
   ],
   "source": [
    "print(np.sum(p_class1_given_data))\n",
    "print(np.sum(p_class2_given_data))\n",
    "print(len(dfA))"
   ]
  },
  {
   "cell_type": "markdown",
   "metadata": {},
   "source": [
    "## We have concluded \"Step 1: loop over points\"\n",
    "(we updated the P(cluster) for each and every point)"
   ]
  },
  {
   "cell_type": "markdown",
   "metadata": {},
   "source": [
    "Following along with the lecture slides, we are now ready for the **Maximization** step, wherein we update our estimates of the number of data points from each component ($\\hat{n}_m$) and the means and variances for each component, to maximize the likelihood function. \n",
    "\n",
    "First, we need to update the model weights $\\hat{w}_m = \\dfrac{\\sum_i \\hat{p}_{mi}}{N}$, where $N=54$ is the number of data points. Note that we only really need to update our estimate `pi`, which is $\\hat{w}_2$.\n",
    "\n",
    "Compute the effective number of \"votes\" for each component, which is the numerator $\\hat{n}_m = \\sum_i \\hat{p}_{mi}$."
   ]
  },
  {
   "cell_type": "code",
   "execution_count": 21,
   "metadata": {},
   "outputs": [],
   "source": [
    "n_class1 = np.sum(p_class1_given_data) # TODO\n",
    "n_class2 = np.sum(p_class2_given_data) # TODO"
   ]
  },
  {
   "cell_type": "markdown",
   "metadata": {},
   "source": [
    "Now we can divide each of those by the total number of data points to update `pi` ($\\hat{w}_2$):"
   ]
  },
  {
   "cell_type": "code",
   "execution_count": null,
   "metadata": {},
   "outputs": [],
   "source": [
    "pi = n_class2/len(dfA) # TODO -- fill in the appropriate computation\n",
    "\n",
    "# to put into the more general variable names\n",
    "p_class1 = 1-pi\n",
    "p_class2 = pi\n",
    "\n",
    "# note that these were originally 0.5 for each model and now we have updated them\n",
    "print(p_class1, p_class2)"
   ]
  },
  {
   "cell_type": "markdown",
   "metadata": {},
   "source": [
    "Now we are at the \"Second\" step of 2b in the lecture slides: time to update the means for each component, in light of the updated component weights and probabilities $\\hat{p}_{mi}$:\n",
    "$$\\hat{\\mu}_m = \\dfrac{1}{\\hat{n}_m} \\sum_i \\hat{p}_{mi} x_i$$"
   ]
  },
  {
   "cell_type": "markdown",
   "metadata": {},
   "source": [
    "Compare this to a regular mean:\n",
    "\n",
    "\n",
    "$$\\bar{X}= \\frac{1}{n} \\cdot \\sum_{i=1}^n x_i$$"
   ]
  },
  {
   "cell_type": "code",
   "execution_count": 23,
   "metadata": {},
   "outputs": [
    {
     "name": "stdout",
     "output_type": "stream",
     "text": [
      "8.029897318051349 37.40757373231029\n"
     ]
    }
   ],
   "source": [
    "mu1 = (1/n_class1)*np.sum(dfA[0]*p_class1_given_data) # TODO\n",
    "mu2 = (1/n_class2)*np.sum(dfA[0]*p_class2_given_data) # TODO\n",
    "print(mu1, mu2)"
   ]
  },
  {
   "cell_type": "markdown",
   "metadata": {},
   "source": [
    "We complete the maximization (M) step of this first iteration of the EM algorithm by updating our estimates of the variances. The equation from the textbook and lecture slides simplifies in the 1-dimensional case as:\n",
    "$$\\hat{\\sigma}^2_m = \\dfrac{1}{\\hat{n}_m} \\sum_i \\hat{p}_{mi} (x_i-\\hat{\\mu}_m)^2$$\n",
    "\n",
    "$$s^2= \\frac{1}{n-1} \\cdot \\sum_{i=1}^n (x_i-\\bar{X})^2$$\n",
    "two changes: $n -1 \\to n$, and also probability weight"
   ]
  },
  {
   "cell_type": "code",
   "execution_count": 24,
   "metadata": {},
   "outputs": [
    {
     "name": "stdout",
     "output_type": "stream",
     "text": [
      "9.292493555740093 41.976337749776675\n"
     ]
    }
   ],
   "source": [
    "var1 = (1/n_class1)*np.sum(((dfA[0]-mu1)**2)*p_class1_given_data) # TODO # TODO\n",
    "var2 = (1/n_class2)*np.sum(((dfA[0]-mu2)**2)*p_class2_given_data) # TODO # TODO # TODO\n",
    "# Note that the variances were originally 7 and 20 -- what are they now?\n",
    "print(var1, var2)"
   ]
  },
  {
   "cell_type": "markdown",
   "metadata": {},
   "source": [
    "It's important to consider a key difference between Gaussian mixture models and K-means as methods of clustering: GMMs are *soft* assignment of a data point to a cluster, whereas K-means is *hard* assignment. That is, GMMs assign a probability to each data point that it belongs to a cluster, via the *responsibility* of component $m$, given the current parameter estimates ($\\theta$) and the data point $x_i$:\n",
    "$$\\gamma_i(\\theta) = Pr(C=m \\mid \\theta, x_i)$$\n",
    "\n",
    "Consider an 18-year-old hanging around in Chuck E. Cheese's. What are the responsibilities for each model, given our updated parameter estimates?"
   ]
  },
  {
   "cell_type": "code",
   "execution_count": 94,
   "metadata": {},
   "outputs": [],
   "source": [
    "resp_18_class1 = 0 # TODO\n",
    "resp_18_class2 = 0 # TODO"
   ]
  },
  {
   "cell_type": "markdown",
   "metadata": {},
   "source": [
    "**SOLUTION:** deferred until later! When we do a bunch of iterations and report the many-times updated values since we'll have them"
   ]
  },
  {
   "cell_type": "markdown",
   "metadata": {},
   "source": [
    "So... that's it! Now we would begin our second iteration of the EM algorithm by repeating the steps above, starting from **Expectation** step, updating $\\hat{p}_{mi}$. If you have time, trying implementing this in a loop below. Be sure to give it a stopping condition! An easy way to get things off the ground and prepare for your homework is by simply doing a `for` loop for some small number of iterations."
   ]
  },
  {
   "cell_type": "code",
   "execution_count": 25,
   "metadata": {},
   "outputs": [
    {
     "name": "stdout",
     "output_type": "stream",
     "text": [
      "8.024932234050768 9.227606892699292\n",
      "37.3987109946346 42.11862748316674\n"
     ]
    }
   ],
   "source": [
    "# SOLUTION:\n",
    "\n",
    "mu1, mu2 = 10, 38\n",
    "var1, var2 = 7, 20\n",
    "pi = 0.50\n",
    "\n",
    "for _ in range(50):\n",
    "\n",
    "    # Expectation step:\n",
    "    #density evaluations\n",
    "    p_data_given_class1 = stats.norm.pdf(dfA[0], loc=mu1, scale=np.sqrt(var1))\n",
    "    p_data_given_class2 = stats.norm.pdf(dfA[0], loc=mu2, scale=np.sqrt(var2))\n",
    "    \n",
    "    #then also multiply by P(cluster)\n",
    "    p_class1_given_data = p_data_given_class1*p_class1\n",
    "    p_class2_given_data = p_data_given_class2*p_class2\n",
    "    \n",
    "    #normalize\n",
    "    summ = p_class1_given_data + p_class2_given_data\n",
    "    p_class1_given_data = p_class1_given_data / summ\n",
    "    p_class2_given_data = p_class2_given_data / summ\n",
    "\n",
    "    # Maximization step:\n",
    "    #points per cluster, just count\n",
    "    n_class1 = np.sum(p_class1_given_data)\n",
    "    n_class2 = np.sum(p_class2_given_data)\n",
    "    #probability per cluster from points pre cluster\n",
    "    pi = n_class2/len(dfA)\n",
    "    p_class1 = 1-pi\n",
    "    p_class2 = pi\n",
    "    #update mean, var of each cluster\n",
    "    mu1 = (1/n_class1)*np.sum(p_class1_given_data*dfA[0])\n",
    "    mu2 = (1/n_class2)*np.sum(p_class2_given_data*dfA[0])\n",
    "    var1 = (1/n_class1)*np.sum(p_class1_given_data*((dfA[0]-mu1)**2))\n",
    "    var2 = (1/n_class2)*np.sum(p_class2_given_data*((dfA[0]-mu2)**2))\n",
    "\n",
    "print(mu1, var1)\n",
    "print(mu2, var2)"
   ]
  },
  {
   "cell_type": "markdown",
   "metadata": {},
   "source": [
    "**SOLUTION:**  And as for that weird 18-year-old hanging around, we can use the much-improved values for our parameters to get an estimate:"
   ]
  },
  {
   "cell_type": "code",
   "execution_count": null,
   "metadata": {},
   "outputs": [],
   "source": []
  },
  {
   "cell_type": "markdown",
   "metadata": {},
   "source": [
    "It appears that the 18-year-old is slightly more likely to be associated with the child component (51.4%) than the adult one (48.6%)."
   ]
  },
  {
   "cell_type": "code",
   "execution_count": null,
   "metadata": {},
   "outputs": [],
   "source": []
  },
  {
   "cell_type": "code",
   "execution_count": null,
   "metadata": {},
   "outputs": [],
   "source": []
  },
  {
   "cell_type": "markdown",
   "metadata": {},
   "source": [
    "To estimate covariance, we do almost the same calculations...\n",
    "write the mean as $\\hat{\\mu}_m = [\\hat{\\mu}_{m,0},\\hat{\\mu}_{m,1}]$\n",
    "variance in the first dimension:\n",
    "$$\\hat{\\sigma}^2_{m,0} = \\dfrac{1}{\\hat{n}_m} \\sum_i \\hat{p}_{mi} (x_i[0]-\\hat{\\mu}_{m,0})^2$$\n",
    "variance in the first dimension:\n",
    "$$\\hat{\\sigma}^2_{m,1} = \\dfrac{1}{\\hat{n}_m} \\sum_i \\hat{p}_{mi} (x_i[1]-\\hat{\\mu}_{m,1})^2$$\n",
    "covariance perfectly mixes these:\n",
    "$$\\hat{\\sigma}^2_{m,1} = \\dfrac{1}{\\hat{n}_m} \\sum_i \\hat{p}_{mi} (x_i[0]-\\hat{\\mu}_{m,0})\\cdot(x_i[1]-\\hat{\\mu}_{m,1})$$\n"
   ]
  },
  {
   "cell_type": "code",
   "execution_count": 2,
   "metadata": {},
   "outputs": [],
   "source": [
    "# #Brief covariance discussion:\n",
    "    \n",
    "# p_data_given_class1 = np.array([stats.multivariate_normal.pdf(x=[X[i],Y[i]], mean=mu1, cov=var1)\n",
    "\n",
    "# mu1x = (1/n_class1)*np.sum(p_class1_given_data*X)\n",
    "# mu1y = (1/n_class1)*np.sum(p_class1_given_data*Y)\n",
    "# mu1=[mu1x, mu1y]\n",
    "# var1xx = (1/n_class1)*np.sum(p_class1_given_data*((X-mu1x)**2))\n",
    "# var1yy = (1/n_class1)*np.sum(p_class1_given_data*((Y-mu1y)**2))\n",
    "# var1xy = (1/n_class1)*np.sum(p_class1_given_data*((X-mu1x)*(Y-mu1y)))\n",
    "# var1=[[var1xx, var1xy],[var1xy,var1yy]]\n",
    "\n"
   ]
  }
 ],
 "metadata": {
  "kernelspec": {
   "display_name": "Python 3",
   "language": "python",
   "name": "python3"
  },
  "language_info": {
   "codemirror_mode": {
    "name": "ipython",
    "version": 3
   },
   "file_extension": ".py",
   "mimetype": "text/x-python",
   "name": "python",
   "nbconvert_exporter": "python",
   "pygments_lexer": "ipython3",
   "version": "3.7.4"
  }
 },
 "nbformat": 4,
 "nbformat_minor": 2
}
