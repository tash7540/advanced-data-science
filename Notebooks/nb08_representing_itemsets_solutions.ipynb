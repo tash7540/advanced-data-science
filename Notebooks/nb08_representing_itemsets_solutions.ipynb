{
 "cells": [
  {
   "cell_type": "markdown",
   "metadata": {},
   "source": [
    "# Notebook 8: Representing Itemsets\n",
    "***\n",
    "\n",
    "In this notebook we'll have some practice representing itemset data as a matrix, as a triangular array, and as a list of triples. We will also take a look at how we can use a hash function and hash table to represent items in our inventory as we are discovering them, similar to how we would learn new items in the inventory as customers make new purchases.\n",
    "\n",
    "We'll need some nice packages for this notebook, so let's load them."
   ]
  },
  {
   "cell_type": "code",
   "execution_count": 1,
   "metadata": {},
   "outputs": [],
   "source": [
    "import numpy as np \n",
    "import pandas as pd\n",
    "import scipy.stats as stats\n",
    "import matplotlib.pyplot as plt\n",
    "%matplotlib inline"
   ]
  },
  {
   "cell_type": "markdown",
   "metadata": {},
   "source": [
    "<br>\n",
    "\n",
    "### Exercise 1:  A Most Triangular of Matrices\n",
    "\n",
    "Continuing to work with the PDQ data from last time, let's load up the inventory and the 8 baskets worth of buying history."
   ]
  },
  {
   "cell_type": "code",
   "execution_count": 2,
   "metadata": {},
   "outputs": [],
   "source": [
    "inventory = [\"apple\", \"banana\", \"candy\", \"fancy feast\", \"grape soda\", \"ice cream\"]\n",
    "\n",
    "baskets = {0 : set([\"apple\", \"banana\", \"candy\", \"fancy feast\"]),\n",
    "           1 : set([\"apple\", \"banana\", \"grape soda\"]),\n",
    "           2 : set([\"banana\", \"ice cream\"]),\n",
    "           3 : set([\"apple\", \"candy\", \"ice cream\"]),\n",
    "           4 : set([\"apple\", \"fancy feast\", \"banana\", \"ice cream\"]),\n",
    "           5 : set([\"apple\", \"banana\", \"candy\", \"ice cream\"]),\n",
    "           6 : set([\"candy\", \"ice cream\", \"banana\"]),\n",
    "           7 : set([\"banana\", \"fancy feast\", \"ice cream\"])}"
   ]
  },
  {
   "cell_type": "markdown",
   "metadata": {},
   "source": [
    "Write a `for` loop (or maybe some nested loops) to create and fill in an upper-triangular matrix to reprenset the pairs itemset counts for this data set. One example is done for you."
   ]
  },
  {
   "cell_type": "code",
   "execution_count": 3,
   "metadata": {},
   "outputs": [],
   "source": [
    "n = len(inventory)\n",
    "U = np.zeros((n, n))\n",
    "\n",
    "# what items are we counting up?\n",
    "item1 = \"banana\"\n",
    "item2 = \"fancy feast\"\n",
    "irow = inventory.index(item1)\n",
    "icol = inventory.index(item2)\n",
    "\n",
    "# compute and fill in the (banana, fancy feast) element\n",
    "count = np.sum([set([item1, item2]) <= baskets[k] for k in range(len(baskets))])\n",
    "U[irow,icol] = count\n",
    "\n",
    "# fill in the rest of U here!\n",
    "# TODO"
   ]
  },
  {
   "cell_type": "code",
   "execution_count": 4,
   "metadata": {},
   "outputs": [
    {
     "name": "stdout",
     "output_type": "stream",
     "text": [
      "[[0. 4. 3. 2. 1. 3.]\n",
      " [0. 0. 3. 3. 1. 5.]\n",
      " [0. 0. 0. 1. 0. 3.]\n",
      " [0. 0. 0. 0. 0. 2.]\n",
      " [0. 0. 0. 0. 0. 0.]\n",
      " [0. 0. 0. 0. 0. 0.]]\n"
     ]
    }
   ],
   "source": [
    "# SOLUTION:\n",
    "\n",
    "# fill in the rest of U here!\n",
    "for irow in range(len(inventory)):\n",
    "    for icol in range(irow+1, len(inventory)):\n",
    "        item1 = inventory[irow]\n",
    "        item2 = inventory[icol]\n",
    "        U[irow,icol] = np.sum([set([item1, item2]) <= baskets[k] for k in range(len(baskets))])\n",
    "\n",
    "print(U)"
   ]
  },
  {
   "cell_type": "markdown",
   "metadata": {},
   "source": [
    "### Exercise 2: Pruning the Nonsense\n",
    "\n",
    "The triangular matrix is good and all, but there are so many 0s! Necessarily more than half of the elements of the array are things we don't need to store (0s below the main diagonal, and on the diagonal). So we are motivated to try to trim down this wasteful representation of our data.\n",
    "\n",
    "Instead, let's represent as a *triangular array*. This is a 1-dimensional object with clever indexing to store elements in row $i$ and column $j$ of the upper-triangular matrix:\n",
    "\n",
    "$a[k]$ = count for the pair $(i,j)$, where $0 \\leq i < j \\leq n-1$ ($n$ is the number of items), and \n",
    "$k = i \\cdot \\left(n - \\frac{i+1}{2}\\right) + j - i -1,$\n",
    "\n",
    "where the above equation has been modified from the presentation in the lecture slides to fit with Python's 0-based indexing. Note that this is stored in a row-major fashion, so we know what to expect from seeing the full upper-triangular counts matrix above."
   ]
  },
  {
   "cell_type": "markdown",
   "metadata": {},
   "source": [
    "#### Exercise 2.5: A quick pit-stop\n",
    "\n",
    "If we use a triangular matrix to count pairs, and $n$, the number of items, is 20, what pair’s count is in $a[100]$? Assume indexing begins at 1."
   ]
  },
  {
   "cell_type": "markdown",
   "metadata": {},
   "source": [
    "**Solution:** \n",
    "\n",
    "The first row has $n-1= 19$ elements in it, the second row has $n-2 = 18$ elements and so on. So we can start adding up integers decreasing from 19 until the total exceeds 100. The row in which this occurs is the row corresponding to $i$. Finding the column amounts to subtracting the total number of elements in the rows above $i$ from 100:"
   ]
  },
  {
   "cell_type": "code",
   "execution_count": 8,
   "metadata": {},
   "outputs": [
    {
     "name": "stdout",
     "output_type": "stream",
     "text": [
      "7 -12\n"
     ]
    }
   ],
   "source": [
    "# find the row\n",
    "tot = 100\n",
    "row_count = 19\n",
    "i = 0\n",
    "while tot > 0:\n",
    "    tot -= row_count\n",
    "    row_count -= 1\n",
    "    i += 1\n",
    "#tot += \n",
    "print(i, tot)\n",
    "\n"
   ]
  },
  {
   "cell_type": "code",
   "execution_count": 23,
   "metadata": {},
   "outputs": [
    {
     "name": "stdout",
     "output_type": "stream",
     "text": [
      "21 -2\n"
     ]
    },
    {
     "data": {
      "text/plain": [
       "712.0"
      ]
     },
     "execution_count": 23,
     "metadata": {},
     "output_type": "execute_result"
    }
   ],
   "source": [
    "# quizlet soln!\n",
    "tot = 712\n",
    "row_count = 44\n",
    "i = 0\n",
    "while tot > 0:\n",
    "    tot -= row_count\n",
    "    row_count -= 1\n",
    "    i += 1\n",
    "print(i, tot)\n",
    "\n",
    "#soln: 2 in front the right on row 20... is (20,43) (ending with 0 is item 45)\n",
    "\n",
    "#check:\n",
    "\n",
    "#i \\cdot \\left(n - \\frac{i+1}{2}\\right) + j - i -1,\n",
    "iex=20 #zero-indexed our function.\n",
    "jex=43\n",
    "nex=45\n",
    "iex*(nex-(iex+1)/2)+jex-iex-1"
   ]
  },
  {
   "cell_type": "markdown",
   "metadata": {},
   "source": [
    "So the first 6 rows contain $19+18+17+16+15+14 = 99$ elements."
   ]
  },
  {
   "cell_type": "code",
   "execution_count": 6,
   "metadata": {},
   "outputs": [
    {
     "data": {
      "text/plain": [
       "99"
      ]
     },
     "execution_count": 6,
     "metadata": {},
     "output_type": "execute_result"
    }
   ],
   "source": [
    "19+18+17+16+15+14"
   ]
  },
  {
   "cell_type": "markdown",
   "metadata": {},
   "source": [
    "This means the first stored element of row $i=7$ is the element $a[100]$. We only store things above the main diagonal, so this corresponds to row $i=7$ and columns $j=8$.\n",
    "\n",
    "#### Back to the triangular array times!\n",
    "\n",
    "Now then. Store the matrix $U$ from Exercise 1 as a triangular array. Check a few elements to make sure things are working properly. First, it might be useful to consider how many elements we expect in the resulting triangular array? The largest row stores $n-1$ and the smallest stores just 1 element... maybe there is a fond memory from Calculus 1 or Discrete that could be useful here...?"
   ]
  },
  {
   "cell_type": "code",
   "execution_count": 7,
   "metadata": {},
   "outputs": [
    {
     "name": "stdout",
     "output_type": "stream",
     "text": [
      "We expect 15 elements\n"
     ]
    }
   ],
   "source": [
    "# SOLUTION:\n",
    "\n",
    "# need to sum up 1+2+...+(n-1).\n",
    "# fondest of memories:  sum(1+2+...+n) = n*(n+1)/2\n",
    "# so we have:\n",
    "nt = int((n-1)*n/2)\n",
    "print(\"We expect {:0.0f} elements\".format(nt))"
   ]
  },
  {
   "cell_type": "code",
   "execution_count": 8,
   "metadata": {},
   "outputs": [],
   "source": [
    "# SOLUTION:\n",
    "\n",
    "# first, defining a helper function to get the Triangular Array Indices\n",
    "def tai(i,j,n):\n",
    "    k = i*(n - (i+1)/2) + j - i - 1\n",
    "    return int(k)\n",
    "\n",
    "# now nested for loops over the tirnagular matrix\n",
    "a = [0]*nt\n",
    "k = 0\n",
    "for i in range(n):\n",
    "    for j in range(i+1, n):\n",
    "        a[k] = U[i,j]\n",
    "        k += 1"
   ]
  },
  {
   "cell_type": "code",
   "execution_count": 9,
   "metadata": {},
   "outputs": [
    {
     "name": "stdout",
     "output_type": "stream",
     "text": [
      "[[0. 4. 3. 2. 1. 3.]\n",
      " [0. 0. 3. 3. 1. 5.]\n",
      " [0. 0. 0. 1. 0. 3.]\n",
      " [0. 0. 0. 0. 0. 2.]\n",
      " [0. 0. 0. 0. 0. 0.]\n",
      " [0. 0. 0. 0. 0. 0.]]\n",
      "[4.0, 3.0, 2.0, 1.0, 3.0, 3.0, 3.0, 1.0, 5.0, 1.0, 0.0, 3.0, 0.0, 2.0, 0.0]\n"
     ]
    }
   ],
   "source": [
    "print(U)\n",
    "print(a)"
   ]
  },
  {
   "cell_type": "markdown",
   "metadata": {},
   "source": [
    "### Exercise 3: Array Triple Threat\n",
    "\n",
    "Another handy representation of our itemset counts data is as an array of triples $(i,j,c)$, where $c$ is the count for the pair $(i,j)$. Try to code up the itemset count data as an array of triples (indexed starting at 0). *Hint: go green! and recycle almost all of the code from the triangular array above.*"
   ]
  },
  {
   "cell_type": "code",
   "execution_count": 10,
   "metadata": {},
   "outputs": [
    {
     "name": "stdout",
     "output_type": "stream",
     "text": [
      "[(0, 1, 4.0), (0, 2, 3.0), (0, 3, 2.0), (0, 4, 1.0), (0, 5, 3.0), (1, 2, 3.0), (1, 3, 3.0), (1, 4, 1.0), (1, 5, 5.0), (2, 3, 1.0), (2, 4, 0.0), (2, 5, 3.0), (3, 4, 0.0), (3, 5, 2.0), (4, 5, 0.0)]\n"
     ]
    }
   ],
   "source": [
    "# SOLUTION:\n",
    "\n",
    "trips = []\n",
    "for i in range(n):\n",
    "    for j in range(i+1, n):\n",
    "        trips.append((i,j,U[i,j]))\n",
    "\n",
    "print(trips)"
   ]
  },
  {
   "cell_type": "markdown",
   "metadata": {},
   "source": [
    "### Exercise 4: Eggs with a side of Hash Brow-I mean- Functions\n",
    "\n",
    "Suppose we have upped our convenience store game and now sell the following products. (Note: yes, there may be repeated items in this inventory.)"
   ]
  },
  {
   "cell_type": "code",
   "execution_count": 11,
   "metadata": {},
   "outputs": [],
   "source": [
    "inventory = [\"puppies\", \"better candy\", \"cookie jar ice cream\", \"pizza bagels\", \\\n",
    "             \"warm slippers on a cold day\", \"coffee\", \"better candy\", \"mashed potatoes\"]"
   ]
  },
  {
   "cell_type": "markdown",
   "metadata": {},
   "source": [
    "In practical applications, using methods like `inventory.index(\"mashed potatoes\")` won't be a very efficient way to get the integer index for the counts matrix elements corresponding to mashed potatoes because the matrix will be huge. \n",
    "\n",
    "Instead, as we sequentially read new items from our list of inventory, we can use a **hash function** to convert the items into integers. Those integers, however, will almost certainly never be the sequential numbers 1, 2, ..., $n$ (where $n$ is the number of items in our inventory). Rather, we can use the hash values to look up in our hash table what is the integer value corresponding to a given item.\n",
    "\n",
    "Let's use the hash function that sums the ASCII values for each letter in an item's name, and takes the remainder when that sum is divided by a nice large prime number. Pick a nice prime number from [this list](https://www.mathsisfun.com/numbers/prime-numbers-to-10k.html). For the sake of example, we'll use $p=37$.\n",
    "\n",
    "**Reminder:** `ord(\"a\")` returns the ASCII value corresponding to the character \"a\", for example."
   ]
  },
  {
   "cell_type": "code",
   "execution_count": 12,
   "metadata": {},
   "outputs": [],
   "source": [
    "def hashfcn(itemname, p):\n",
    "    # sum up the ASCII values in the string itemname\n",
    "    #TODO\n",
    "    # mod down by the prime p\n",
    "    #TODO\n",
    "    return 0 # TODO - return the hash value"
   ]
  },
  {
   "cell_type": "code",
   "execution_count": 13,
   "metadata": {},
   "outputs": [],
   "source": [
    "# SOLUTION:\n",
    "\n",
    "def hashfcn(itemname, p):\n",
    "    # sum up the ASCII values in the string itemname\n",
    "    tot = np.sum([ord(c) for c in itemname])\n",
    "    # mod down by the prime p\n",
    "    hv = tot%p\n",
    "    return hv # TODO - return the hash value"
   ]
  },
  {
   "cell_type": "markdown",
   "metadata": {},
   "source": [
    "To hash the item \"puppies\", for example, we would do:"
   ]
  },
  {
   "cell_type": "code",
   "execution_count": 14,
   "metadata": {},
   "outputs": [
    {
     "name": "stdout",
     "output_type": "stream",
     "text": [
      "34\n"
     ]
    }
   ],
   "source": [
    "p = 37\n",
    "hv = hashfcn(\"puppies\", p)\n",
    "print(hv)"
   ]
  },
  {
   "cell_type": "markdown",
   "metadata": {},
   "source": [
    "And we need a table where we can look up the element at slot 34 to find the integer corresponding to \"puppies\". Since this is the first item, we should start it off at index 0 in our triangular matrix/array/list of triples. The second item to be hashed and stored should be assigned index 1, and so on. We will store these items and their indices as tuples (item, index) so that if there were some collisions, we could resolve them by storing a list of (item, index) tuples at that hash value and searching through to check whether the item we are hashing is already at that spot.\n",
    "\n",
    "We start by initializing our lookup table. "
   ]
  },
  {
   "cell_type": "code",
   "execution_count": 15,
   "metadata": {},
   "outputs": [],
   "source": [
    "lookup = [False]*p  # using -1 as the fill-value since 0 could be an index, or False"
   ]
  },
  {
   "cell_type": "markdown",
   "metadata": {},
   "source": [
    "Read the inventory list element-by-element, and store the (item, index) tuples in the lookup table. Yes, we could certainly use a dictionary, but let's just pretend we have a more primitive language. For fun!\n",
    "\n",
    "The code stencil below assumes no collisions. It will be up to you in your homework to generalize this code to resolve collisions, so consider playing around with what you might do in that case here."
   ]
  },
  {
   "cell_type": "code",
   "execution_count": 16,
   "metadata": {},
   "outputs": [
    {
     "name": "stdout",
     "output_type": "stream",
     "text": [
      "We have seen item [better candy] before.\n"
     ]
    }
   ],
   "source": [
    "# SOLUTION:\n",
    "\n",
    "# need to keep a running count of how many items we've seen\n",
    "cnt = 0\n",
    "\n",
    "for item in inventory:\n",
    "    # hash the item\n",
    "    hv = hashfcn(item, p)\n",
    "    if not lookup[hv]:\n",
    "        # if the slot is free, put the (item, index) pair there\n",
    "        lookup[hv] = [(item, cnt)]\n",
    "        # and increment the index counter\n",
    "        cnt += 1\n",
    "    else:\n",
    "        # if the slot is taken, check if the element there is the one we want\n",
    "        items = [lookup[hv][k][0] for k in range(len(lookup[hv]))]\n",
    "        if item in items:\n",
    "            # let the user know you've seen this item before\n",
    "            print(\"We have seen item [{}] before.\".format(item))\n",
    "            \n",
    "        else:\n",
    "            # for now, just let the user know there is a collision to resolve\n",
    "            print(\"Collision at hash value {}\".format(hv))"
   ]
  },
  {
   "cell_type": "markdown",
   "metadata": {},
   "source": [
    "#### Using our hash table: a tail of pizza bagels and puppies\n",
    "\n",
    "Suppose for the pair (puppies, pizza bagels) we need to set the itemset count equal to 16. Use the `lookup` table and `hashfcn` to determine the row $i$ and column $j$ of the upper-triangular counts matrix that corresponds to this itemset pair."
   ]
  },
  {
   "cell_type": "code",
   "execution_count": 17,
   "metadata": {},
   "outputs": [
    {
     "name": "stdout",
     "output_type": "stream",
     "text": [
      "Row 0, Column 3\n"
     ]
    }
   ],
   "source": [
    "# SOLUTION:\n",
    "\n",
    "irow = lookup[hashfcn(\"puppies\",p)][0][1]\n",
    "icol = lookup[hashfcn(\"pizza bagels\",p)][0][1]\n",
    "print(\"Row {}, Column {}\".format(irow, icol))"
   ]
  },
  {
   "cell_type": "code",
   "execution_count": null,
   "metadata": {},
   "outputs": [],
   "source": []
  }
 ],
 "metadata": {
  "kernelspec": {
   "display_name": "Python 3",
   "language": "python",
   "name": "python3"
  },
  "language_info": {
   "codemirror_mode": {
    "name": "ipython",
    "version": 3
   },
   "file_extension": ".py",
   "mimetype": "text/x-python",
   "name": "python",
   "nbconvert_exporter": "python",
   "pygments_lexer": "ipython3",
   "version": "3.7.4"
  }
 },
 "nbformat": 4,
 "nbformat_minor": 2
}
