{
 "cells": [
  {
   "cell_type": "code",
   "execution_count": 1,
   "metadata": {},
   "outputs": [],
   "source": [
    "#load\n",
    "\n",
    "import numpy as np \n",
    "import pandas as pd\n",
    "import scipy.stats as stats\n",
    "import matplotlib.pyplot as plt\n",
    "%matplotlib inline\n",
    "\n"
   ]
  },
  {
   "cell_type": "code",
   "execution_count": 2,
   "metadata": {},
   "outputs": [
    {
     "name": "stdout",
     "output_type": "stream",
     "text": [
      "8.024932234050768 37.3987109946346\n",
      "9.227606892699292 42.11862748316674\n",
      "0.4444841429315933 29.997856281693963\n"
     ]
    }
   ],
   "source": [
    "dfA = pd.read_csv(\"../data/ages.csv\", header=None)\n",
    "\n",
    "#k=2 initialize\n",
    "mu1, mu2 = 10, 38\n",
    "var1, var2 = 7, 20\n",
    "pi = 0.50\n",
    "p_class1 = 1-pi\n",
    "p_class2 = pi\n",
    "\n",
    "#k=2 EM\n",
    "for _ in range(100): #100 steps is fine; or a tolerance check.\n",
    "    # Expectation step:\n",
    "    np.random.multivariate_normal([0,0], [[1,.1],[.1,1]],10)  #sample of size j=10 rho=.1  N(0,1)\n",
    "\n",
    "    p_data_given_class1 = stats.norm.pdf(dfA[0], loc=mu1, scale=np.sqrt(var1))\n",
    "    p_data_given_class2 = stats.norm.pdf(dfA[0], loc=mu2, scale=np.sqrt(var2))\n",
    "\n",
    "    p_class1_given_data = p_data_given_class1*p_class1\n",
    "    p_class2_given_data = p_data_given_class2*p_class2\n",
    "\n",
    "    summ = p_class1_given_data + p_class2_given_data\n",
    "    p_class1_given_data = p_class1_given_data / summ\n",
    "    p_class2_given_data = p_class2_given_data / summ\n",
    "\n",
    "    # Maximization step:\n",
    "    n_class1 = np.sum(p_class1_given_data)\n",
    "    n_class2 = np.sum(p_class2_given_data)\n",
    "\n",
    "    pi = n_class2/len(dfA)\n",
    "    p_class1 = 1-pi\n",
    "    p_class2 = pi\n",
    "\n",
    "    mu1 = (1/n_class1)*np.sum(p_class1_given_data*dfA[0])\n",
    "    mu2 = (1/n_class2)*np.sum(p_class2_given_data*dfA[0])\n",
    "\n",
    "    var1 = (1/n_class1)*np.sum(p_class1_given_data*((dfA[0]-mu1)**2))\n",
    "    var2 = (1/n_class2)*np.sum(p_class2_given_data*((dfA[0]-mu2)**2))\n",
    "\n",
    "print(mu1, mu2)\n",
    "print(var1, var2)\n",
    "print(pi, n_class1)"
   ]
  }
 ],
 "metadata": {
  "kernelspec": {
   "display_name": "Python 3",
   "language": "python",
   "name": "python3"
  },
  "language_info": {
   "codemirror_mode": {
    "name": "ipython",
    "version": 3
   },
   "file_extension": ".py",
   "mimetype": "text/x-python",
   "name": "python",
   "nbconvert_exporter": "python",
   "pygments_lexer": "ipython3",
   "version": "3.7.4"
  }
 },
 "nbformat": 4,
 "nbformat_minor": 2
}
