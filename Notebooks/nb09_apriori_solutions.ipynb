{
 "cells": [
  {
   "cell_type": "markdown",
   "metadata": {},
   "source": [
    "# Notebook 9: The A Priori Algorithm\n",
    "***\n",
    "\n",
    "In this notebook we'll run through the A Priori algorithm step-by-step for a simple data set.\n",
    "\n",
    "We'll need numpy for this notebook, so let's load it."
   ]
  },
  {
   "cell_type": "code",
   "execution_count": 1,
   "metadata": {},
   "outputs": [],
   "source": [
    "import numpy as np "
   ]
  },
  {
   "cell_type": "markdown",
   "metadata": {},
   "source": [
    "<br>\n",
    "\n",
    "<img width=350px src=\"https://img.memecdn.com/walmart-probs_o_3678107.jpg\">\n",
    "\n",
    "### Exercise 1: Coding up our example from class\n",
    "\n",
    "Consider the basket data from the Walmart example in class:"
   ]
  },
  {
   "cell_type": "code",
   "execution_count": 2,
   "metadata": {},
   "outputs": [],
   "source": [
    "b = \"beer\"\n",
    "c = \"coke\"\n",
    "j = \"juice\"\n",
    "m = \"milk\"\n",
    "n = \"noodles\"\n",
    "p = \"pepsi\"\n",
    "\n",
    "inventory = [b,c,j,m,n,p]\n",
    "\n",
    "baskets = {0 : {b,c,m}, 1 : {j,m,p},   2 : {b,c,m,n}, 3 : {c,j}, \\\n",
    "           4 : {b,m,p}, 5 : {b,c,j,m}, 6 : {b,c,j},   7 : {b,c}}"
   ]
  },
  {
   "cell_type": "markdown",
   "metadata": {},
   "source": [
    "Let's use a support threshold of 3 again, and have a look at how we would go about coding up the a priori algorithm that we stepped through in class."
   ]
  },
  {
   "cell_type": "code",
   "execution_count": 3,
   "metadata": {},
   "outputs": [],
   "source": [
    "# Support threshold\n",
    "s = 3"
   ]
  },
  {
   "cell_type": "markdown",
   "metadata": {},
   "source": [
    "The first pass creates two tables:\n",
    "1. (If necessary) translates item names into integers $0, 1, 2, \\ldots, n$\n",
    "2. ... which are used to index in a table of counts for the singleton itemsets\n",
    "\n",
    "So as we read the basket data, we translate the item name into an integer, which is usually done using a hash table like we did last time. Then, we use that integer to index within a table of counts of the support of that singleton itemset. We did the whole hash table song and dance last time, so we will skip it today. Suppose our lookup table is as follows:"
   ]
  },
  {
   "cell_type": "code",
   "execution_count": 4,
   "metadata": {},
   "outputs": [],
   "source": [
    "lookup = {b : 0, c : 1, j : 2, m : 3, n : 4, p : 5}"
   ]
  },
  {
   "cell_type": "markdown",
   "metadata": {},
   "source": [
    "Now we need to fill in a table of the `counts` by counting up the support for all items in the `inventory`. The entire inventory is our first candidate set, $C_1$."
   ]
  },
  {
   "cell_type": "code",
   "execution_count": 5,
   "metadata": {},
   "outputs": [],
   "source": [
    "C1 = inventory\n",
    "n_item = len(C1)\n",
    "counts = [0]*n_item # initialize to 0 counts"
   ]
  },
  {
   "cell_type": "markdown",
   "metadata": {},
   "source": [
    "Before, we had assumed that we have all of the basket data at once. But in reality, we may be obtaining more and more basket data as it flows in. So it makes more sense to loop over the baskets and increment the `counts` table as we go."
   ]
  },
  {
   "cell_type": "code",
   "execution_count": 6,
   "metadata": {},
   "outputs": [],
   "source": [
    "#for basket in baskets.values():\n",
    "    # TODO -- loop over this basket\n",
    "        # TODO -- for each item in the basket, increment the counter\n",
    "        #         (use the lookup table to figure out which index within the counts array)"
   ]
  },
  {
   "cell_type": "code",
   "execution_count": 7,
   "metadata": {},
   "outputs": [],
   "source": [
    "# SOLUTION:\n",
    "\n",
    "for basket in baskets.values():\n",
    "    # TODO -- loop over this basket\n",
    "    for item in basket:\n",
    "        # TODO -- for each item in the basket, increment the counter\n",
    "        #         (use the lookup table to figure out which index within the counts array)\n",
    "        idx = lookup[item]\n",
    "        counts[idx] += 1"
   ]
  },
  {
   "cell_type": "markdown",
   "metadata": {},
   "source": [
    "Now we need to prune the non-frequent itemsets to find our reduced set of candidates, $L_1$. Here is where we can create our new numbering from 1 to $m$ (the number of frequent singleton itemsets), represented by a 1D array with one element for each item:\n",
    "* a 0 if the item is not frequent\n",
    "* a unique integer 1 to $m$ if the item is frequent\n",
    "* we will put a twist on the presentation in the book and slides here: since Python indexing starts at 0, we will use integers 0 through $m-1$ to represent the new numbering, and a -1 to represent elements that are not frequent."
   ]
  },
  {
   "cell_type": "code",
   "execution_count": 8,
   "metadata": {},
   "outputs": [
    {
     "data": {
      "text/plain": [
       "['beer', 'coke', 'juice', 'milk', 'noodles', 'pepsi']"
      ]
     },
     "execution_count": 8,
     "metadata": {},
     "output_type": "execute_result"
    }
   ],
   "source": [
    "C1"
   ]
  },
  {
   "cell_type": "code",
   "execution_count": 9,
   "metadata": {},
   "outputs": [
    {
     "name": "stdout",
     "output_type": "stream",
     "text": [
      "{'beer': 0, 'coke': 1, 'juice': 2, 'milk': 3, 'noodles': -1, 'pepsi': -1}\n"
     ]
    }
   ],
   "source": [
    "new_lookup = {}\n",
    "cnt = 0\n",
    "L1 = []\n",
    "for item in C1:\n",
    "    if counts[lookup[item]] >= s:\n",
    "        L1.append(item)\n",
    "        new_lookup[item] = cnt\n",
    "        cnt += 1\n",
    "    else:\n",
    "        new_lookup[item] = -1\n",
    "\n",
    "print(new_lookup)"
   ]
  },
  {
   "cell_type": "markdown",
   "metadata": {},
   "source": [
    "The next pass requires generating all possible pairs from $L_1$, and will form our candidate set for the second pass, $C_2$. We have four elements, so there are $C(4,2) = 6$ distinct pairs:"
   ]
  },
  {
   "cell_type": "markdown",
   "metadata": {},
   "source": [
    "The beauty of the renumbering in `new_lookup` is that we know which elements of $C_2$ correspond to which item pairs in, say, an upper-triangular matrix:\n",
    "$$\\begin{bmatrix}              & \\text{beer} & \\text{coke} & \\text{juice} & \\text{milk} \\\\\n",
    "                  \\text{beer}  & 0           & m_0         & m_1          & m_2         \\\\\n",
    "                  \\text{coke}  & 0           & 0           & m_3          & m_4         \\\\\n",
    "                  \\text{juice} & 0           & 0           & 0            & m_5         \\\\\n",
    "                  \\text{milk}  & 0           & 0           & 0            & 0           \\end{bmatrix}$$\n",
    "                  \n",
    "Now, when we compute the counts for each of these six pairs, we can store them in a length-6 1D array and use either our triangular array indexing or a triples array. We will use a triples array here, and initialize it with all 0s for counts:"
   ]
  },
  {
   "cell_type": "code",
   "execution_count": 10,
   "metadata": {},
   "outputs": [],
   "source": [
    "trips = []\n",
    "for idx1 in range(len(L1)):\n",
    "    for idx2 in range(idx1+1, len(L1)):\n",
    "        trips.append((new_lookup[L1[idx1]], new_lookup[L1[idx2]], 0))"
   ]
  },
  {
   "cell_type": "markdown",
   "metadata": {},
   "source": [
    "And the whole point of the renumbering in `new_lookup` is that we can use the triples/triangular array indexing function from last time to grab whatever pair of frequent items we want! Recall that the function for the index within the triples array for elements with coordinates $i$ and $j$ within the full upper-triangular array (above) is:\n",
    "$$k = i\\cdot \\left(n - \\dfrac{i+1}{2}\\right) + j - i -1$$\n",
    "\n",
    "where $i < j \\leq n$, the number of items total. Here, we only have the frequent items, so $n$ is replaced by the number of frequent singleton itemsets. $i$ and $j$ are the indices within the frequent pairs matrix (above), which we can get from `new_lookup`. Say we wanted to get the index of (coke, milk) from the triples array. We know from looking at the array above that it should be $k=4$. We turn to our triples indexing to see if we can get this:"
   ]
  },
  {
   "cell_type": "code",
   "execution_count": 11,
   "metadata": {},
   "outputs": [
    {
     "name": "stdout",
     "output_type": "stream",
     "text": [
      "4.0\n"
     ]
    }
   ],
   "source": [
    "item1 = \"coke\"\n",
    "item2 = \"milk\"\n",
    "idx1 = new_lookup[item1]\n",
    "idx2 = new_lookup[item2]\n",
    "\n",
    "k = idx1*(len(L1) - (idx1+1)/2) + idx2 - idx1 - 1\n",
    "print(k)"
   ]
  },
  {
   "cell_type": "markdown",
   "metadata": {},
   "source": [
    "Cool!  But what if we had queried for (milk, coke)?"
   ]
  },
  {
   "cell_type": "code",
   "execution_count": 12,
   "metadata": {},
   "outputs": [
    {
     "name": "stdout",
     "output_type": "stream",
     "text": [
      "3.0\n"
     ]
    }
   ],
   "source": [
    "item1 = \"milk\"\n",
    "item2 = \"coke\"\n",
    "idx1 = new_lookup[item1]\n",
    "idx2 = new_lookup[item2]\n",
    "\n",
    "k = idx1*(len(L1) - (idx1+1)/2) + idx2 - idx1 - 1\n",
    "print(k)"
   ]
  },
  {
   "cell_type": "markdown",
   "metadata": {},
   "source": [
    "Well that's certainly not right... **Consider:** why did this happen? What line(s) of code could we add to the block above to fix it? *Hint: it shouldn't be more than 1-3 lines of code.*"
   ]
  },
  {
   "cell_type": "code",
   "execution_count": 13,
   "metadata": {},
   "outputs": [
    {
     "name": "stdout",
     "output_type": "stream",
     "text": [
      "4.0\n"
     ]
    }
   ],
   "source": [
    "# SOLUTION:\n",
    "\n",
    "item1 = \"milk\"\n",
    "item2 = \"coke\"\n",
    "idx1 = new_lookup[item1]\n",
    "idx2 = new_lookup[item2]\n",
    "# swap if out of order\n",
    "if idx1 > idx2:\n",
    "    idx1, idx2 = idx2, idx1\n",
    "    \n",
    "k = idx1*(len(L1) - (idx1+1)/2) + idx2 - idx1 - 1\n",
    "print(k)"
   ]
  },
  {
   "cell_type": "markdown",
   "metadata": {},
   "source": [
    "Following along with the slides, we continue to pretend that we are streaming basket data one basket at a time. For each basket, we use a double loop to generate all pairs of frequent items in that basket. We'll use the third basket as an example."
   ]
  },
  {
   "cell_type": "code",
   "execution_count": 14,
   "metadata": {},
   "outputs": [
    {
     "name": "stdout",
     "output_type": "stream",
     "text": [
      "{'coke', 'noodles', 'milk', 'beer'}\n"
     ]
    }
   ],
   "source": [
    "basket = baskets[2]\n",
    "print(basket)"
   ]
  },
  {
   "cell_type": "markdown",
   "metadata": {},
   "source": [
    "We see beer, coke and milk are frequent items within the basket. We can identify this using the & operator for Python sets (grabbing the intersection):"
   ]
  },
  {
   "cell_type": "code",
   "execution_count": 15,
   "metadata": {},
   "outputs": [
    {
     "name": "stdout",
     "output_type": "stream",
     "text": [
      "['beer', 'milk', 'coke']\n"
     ]
    }
   ],
   "source": [
    "frequent_items = list(basket&set(L1))\n",
    "print(frequent_items)"
   ]
  },
  {
   "cell_type": "markdown",
   "metadata": {},
   "source": [
    "Now in a double loop, we generate all pairs of frequent items within this basket. We will create a triples array to keep track of the counts of each pair. We just need to be careful that the first index in the triplets is always the smallest index that we fetch out of `new_lookup`."
   ]
  },
  {
   "cell_type": "code",
   "execution_count": 16,
   "metadata": {},
   "outputs": [],
   "source": [
    "for idx1 in range(len(frequent_items)):\n",
    "    for idx2 in range(idx1+1, len(frequent_items)):\n",
    "        # get the index within the triples array\n",
    "        new_idx1 = new_lookup[frequent_items[idx1]]\n",
    "        new_idx2 = new_lookup[frequent_items[idx2]]\n",
    "        if new_idx1 > new_idx2:\n",
    "            new_idx1, new_idx2 = new_idx2, new_idx1\n",
    "        k = int(new_idx1*(len(L1) - (new_idx1+1)/2) + new_idx2 - new_idx1 - 1)\n",
    "        # update the counter in the triples array\n",
    "        # tuples are immutable, so need full reassignment\n",
    "        trips[k] = (new_idx1, new_idx2, trips[k][2]+1)"
   ]
  },
  {
   "cell_type": "markdown",
   "metadata": {},
   "source": [
    "Check the triangular matrix above against the updated triples array to verify that the pairs containing beer, milk and coke have been updated:"
   ]
  },
  {
   "cell_type": "code",
   "execution_count": 17,
   "metadata": {},
   "outputs": [
    {
     "data": {
      "text/plain": [
       "[(0, 1, 1), (0, 2, 0), (0, 3, 1), (1, 2, 0), (1, 3, 1), (2, 3, 0)]"
      ]
     },
     "execution_count": 17,
     "metadata": {},
     "output_type": "execute_result"
    }
   ],
   "source": [
    "trips"
   ]
  },
  {
   "cell_type": "markdown",
   "metadata": {},
   "source": [
    "Now, we only did that for the third basket, but to perform the entire second pass for a priori, we need to do this for *all* baskets. So, reset the triples array to all 0s and loop over all baskets to find the frequent pair itemsets. Recall from the lecture that they are:\n",
    "$$L_2 = \\{\\{b,c\\}, \\{b,m\\}, \\{c,j\\}, \\{c,m\\}\\}$$"
   ]
  },
  {
   "cell_type": "code",
   "execution_count": 18,
   "metadata": {},
   "outputs": [
    {
     "name": "stdout",
     "output_type": "stream",
     "text": [
      "Your code goes here!\n"
     ]
    }
   ],
   "source": [
    "# Reset the triples array\n",
    "trips = []\n",
    "for idx1 in range(len(L1)):\n",
    "    for idx2 in range(idx1+1, len(L1)):\n",
    "        trips.append((new_lookup[L1[idx1]], new_lookup[L1[idx2]], 0))\n",
    "        \n",
    "for basket in baskets.values():\n",
    "    print(\"Your code goes here!\"); break # TODO"
   ]
  },
  {
   "cell_type": "code",
   "execution_count": 19,
   "metadata": {},
   "outputs": [
    {
     "name": "stdout",
     "output_type": "stream",
     "text": [
      "[(0, 1, 5), (0, 2, 2), (0, 3, 4), (1, 2, 3), (1, 3, 3), (2, 3, 2)]\n",
      "(0, 3, 4)\n"
     ]
    }
   ],
   "source": [
    "# SOLUTION:\n",
    "\n",
    "for basket in baskets.values():\n",
    "    frequent_items = list(basket&set(L1))\n",
    "    for idx1 in range(len(frequent_items)):\n",
    "        for idx2 in range(idx1+1, len(frequent_items)):\n",
    "            # get the index within the triples array\n",
    "            new_idx1 = new_lookup[frequent_items[idx1]]\n",
    "            new_idx2 = new_lookup[frequent_items[idx2]]\n",
    "            if new_idx1 > new_idx2:\n",
    "                new_idx1, new_idx2 = new_idx2, new_idx1\n",
    "            k = int(new_idx1*(len(L1) - (new_idx1+1)/2) + new_idx2 - new_idx1 - 1)\n",
    "            # update the counter in the triples array\n",
    "            # tuples are immutable, so need full reassignment\n",
    "            trips[k] = (new_idx1, new_idx2, trips[k][2]+1)\n",
    "            \n",
    "print(trips)\n",
    "\n",
    "#quiz soln:\n",
    "print(trips[2])"
   ]
  },
  {
   "cell_type": "code",
   "execution_count": null,
   "metadata": {},
   "outputs": [],
   "source": []
  }
 ],
 "metadata": {
  "kernelspec": {
   "display_name": "Python 3",
   "language": "python",
   "name": "python3"
  },
  "language_info": {
   "codemirror_mode": {
    "name": "ipython",
    "version": 3
   },
   "file_extension": ".py",
   "mimetype": "text/x-python",
   "name": "python",
   "nbconvert_exporter": "python",
   "pygments_lexer": "ipython3",
   "version": "3.7.4"
  }
 },
 "nbformat": 4,
 "nbformat_minor": 2
}
