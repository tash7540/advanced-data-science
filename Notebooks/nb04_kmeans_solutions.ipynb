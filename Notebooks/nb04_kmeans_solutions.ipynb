{
 "cells": [
  {
   "cell_type": "markdown",
   "metadata": {},
   "source": [
    "# Notebook 4: Hierarchical and K-means clustering\n",
    "***\n",
    "\n",
    "In this notebook we'll practice clustering data using hierarchical clustering and K-means. Conceptually, neither is particularly difficult to get a handle on, so we will spend most of our time thinking about some of the nitty-gritty details, like computing cluster sizes and determining when to diagnose convergence and stop iterating.\n",
    "\n",
    "We'll need some nice packages for this notebook, so let's load them."
   ]
  },
  {
   "cell_type": "code",
   "execution_count": 26,
   "metadata": {},
   "outputs": [],
   "source": [
    "import numpy as np \n",
    "import pandas as pd\n",
    "import scipy.stats as stats\n",
    "import matplotlib.pyplot as plt\n",
    "%matplotlib inline"
   ]
  },
  {
   "cell_type": "markdown",
   "metadata": {},
   "source": [
    "We also will want a helper function to compute the Euclidean distance, so let's define one."
   ]
  },
  {
   "cell_type": "code",
   "execution_count": 27,
   "metadata": {},
   "outputs": [],
   "source": [
    "def dist(x1, x2):\n",
    "    return np.sqrt(np.sum((x1-x2)**2))"
   ]
  },
  {
   "cell_type": "markdown",
   "metadata": {},
   "source": [
    "<br>\n",
    "\n",
    "### Exercise 1:  Picking initial clusters\n",
    "\n",
    "Suppose we have the following set of data:"
   ]
  },
  {
   "cell_type": "code",
   "execution_count": 28,
   "metadata": {},
   "outputs": [],
   "source": [
    "np.random.seed(12345)\n",
    "x1 = stats.multivariate_normal.rvs(mean=[1,1], cov=[[.15,0],[0,.15]], size=5)\n",
    "x2 = stats.multivariate_normal.rvs(mean=[2,2], cov=[[.15,0],[0,.15]], size=6)\n",
    "X = np.concatenate([x1, x2])"
   ]
  },
  {
   "cell_type": "markdown",
   "metadata": {},
   "source": [
    "The first step should always be some form of exploration. So, let's have a look at the data to convince ourselves that there might be some kind of clustered structure."
   ]
  },
  {
   "cell_type": "code",
   "execution_count": 29,
   "metadata": {},
   "outputs": [
    {
     "data": {
      "image/png": "[encoded data removed]",
      "text/plain": [
       "<matplotlib.figure.Figure at 0x23e6aa365c0>"
      ]
     },
     "metadata": {},
     "output_type": "display_data"
    }
   ],
   "source": [
    "fig, ax = plt.subplots(1,1, figsize=(5,5))\n",
    "plt.scatter([x[0] for x in X], [x[1] for x in X])\n",
    "plt.axis([0, 3, 0, 3])\n",
    "plt.xlabel(\"x1\")\n",
    "plt.ylabel(\"x2\")\n",
    "plt.show()"
   ]
  },
  {
   "cell_type": "markdown",
   "metadata": {},
   "source": [
    "Okay, so maybe there's a cluster centered around (1.1, 1.4) and another one around (2.2, 2) (or something like that?). Whatever the case, if we have any reason to believe there are multiple clusters going on, if you squint hard enough, this figure has some evidence of clustery behavior.\n",
    "\n",
    "When we start K-means clustering off, we must pick a number of clusters. Obviously, you ran the code above so you know $K=2$ is a great choice, but let's pretend like we didn't know that and we pick $K=3$. Don't even worry though - we'll try $K=2$ as well."
   ]
  },
  {
   "cell_type": "code",
   "execution_count": 30,
   "metadata": {},
   "outputs": [],
   "source": [
    "K = 3"
   ]
  },
  {
   "cell_type": "markdown",
   "metadata": {},
   "source": [
    "We have a few different options for how to start our clustering:\n",
    "1. Pick $K$ data points at random as the initial cluster centroids\n",
    "1. Run a cheaper clustering method (or with a subset of the data) to get an estimate of where the clusters might be\n",
    "1. Pick a point for the first cluster's centroid, then pick a point for the second cluster's centroid that is as far away from the first centroid as possible, and so on up to $K$ centroids.\n",
    "\n",
    "Often, we will want to perform the clustering multiple times with different initial clusters and different numbers of clusters. So, while we want to do as well as we can with good initial conditions and a reasonable choice for $K$, we also can go back and test different choices.\n",
    "\n",
    "Anyway, let's do *none* of the above and instead use a poor man's version of Option 2. The $X_1$ coordinate seems to have the most variation (we could compute the variance to see this), so let's pick our 3 initial centroids as the data points with the most extreme high/low $X_1$ values, and the median."
   ]
  },
  {
   "cell_type": "markdown",
   "metadata": {},
   "source": [
    "To start, let's get a list of just the $X_1$ coordinates."
   ]
  },
  {
   "cell_type": "code",
   "execution_count": 31,
   "metadata": {},
   "outputs": [],
   "source": [
    "x1_coords = None  # your code goes here!"
   ]
  },
  {
   "cell_type": "code",
   "execution_count": 32,
   "metadata": {},
   "outputs": [],
   "source": [
    "# SOLUTION:\n",
    "\n",
    "x1_coords = [x[0] for x in X]"
   ]
  },
  {
   "cell_type": "markdown",
   "metadata": {},
   "source": [
    "Now we can get the min, max and median. The min is done for you, and you get to complete the others. Yippee!"
   ]
  },
  {
   "cell_type": "code",
   "execution_count": 33,
   "metadata": {},
   "outputs": [],
   "source": [
    "centroids = [[0,0], [0,0], [0,0]] # initialize\n",
    "centroids[0] = X[x1_coords.index(min(x1_coords))]\n",
    "centroids[1] = [0,0] # your code goes here!\n",
    "centroids[2] = [0,0] # your code goes here!"
   ]
  },
  {
   "cell_type": "code",
   "execution_count": 34,
   "metadata": {},
   "outputs": [
    {
     "name": "stdout",
     "output_type": "stream",
     "text": [
      "[array([0.79882225, 0.78476658]), array([2.64641072, 1.83014267]), array([1.76134354, 1.53966376])]\n"
     ]
    }
   ],
   "source": [
    "# SOLUTION:\n",
    "\n",
    "centroids = [[0,0], [0,0], [0,0]] # initialize\n",
    "centroids[0] = X[x1_coords.index(min(x1_coords))]\n",
    "centroids[1] = X[x1_coords.index(max(x1_coords))]\n",
    "centroids[2] = X[x1_coords.index(np.median(x1_coords))]\n",
    "print(centroids)"
   ]
  },
  {
   "cell_type": "markdown",
   "metadata": {},
   "source": [
    "<br>\n",
    "\n",
    "### Exercise 2: Assigning to clusters\n",
    "\n",
    "Now that we have our first estimates of the cluster centroids. Let's loop over our data just once to get a feel for how we can assign each point to a cluster. We can start with just the first data point.\n",
    "\n",
    "Compute the distances from the first data point, `X[0]`, to each centroid. Store these distances in a list called `dists`. We also want to keep track of our current estimate of which cluster each data point belongs to, so we'll start a list for that too."
   ]
  },
  {
   "cell_type": "code",
   "execution_count": 35,
   "metadata": {},
   "outputs": [],
   "source": [
    "dists = [0]*K # your code goes here!\n",
    "clusters = [-1]*len(X)"
   ]
  },
  {
   "cell_type": "code",
   "execution_count": 36,
   "metadata": {},
   "outputs": [
    {
     "name": "stdout",
     "output_type": "stream",
     "text": [
      "[0.92071706 1.18549396]\n",
      "[0.41885651188011686, 1.842170070272393, 0.9121891925310409]\n"
     ]
    }
   ],
   "source": [
    "# SOLUTION:\n",
    "\n",
    "dists = [dist(X[0], cent) for cent in centroids]\n",
    "print(X[0])\n",
    "print(dists)"
   ]
  },
  {
   "cell_type": "markdown",
   "metadata": {},
   "source": [
    "Now let's find the index of the nearest centroid, and print out its coordinates for good measure."
   ]
  },
  {
   "cell_type": "code",
   "execution_count": 37,
   "metadata": {},
   "outputs": [
    {
     "name": "stdout",
     "output_type": "stream",
     "text": [
      "0\n",
      "[0.79882225 0.78476658]\n"
     ]
    }
   ],
   "source": [
    "assignment = dists.index(min(dists))\n",
    "print(assignment)\n",
    "print(centroids[assignment])"
   ]
  },
  {
   "cell_type": "markdown",
   "metadata": {},
   "source": [
    "So the 0th cluster (with centroid near (0.80, 0.79)) is the closest to this first data point. Thus, we assign it to cluster 0."
   ]
  },
  {
   "cell_type": "code",
   "execution_count": 38,
   "metadata": {},
   "outputs": [],
   "source": [
    "clusters[0] = assignment"
   ]
  },
  {
   "cell_type": "code",
   "execution_count": 39,
   "metadata": {},
   "outputs": [
    {
     "name": "stdout",
     "output_type": "stream",
     "text": [
      "[1.8466626041994152, 0.5986062475996269, 0.6484827039527324]\n"
     ]
    }
   ],
   "source": [
    "##QUIZ BIT!!\n",
    "\n",
    "dists6 = [dist(X[6], cent) for cent in centroids]\n",
    "print(dists6)\n",
    "#slightly closer to the max, so it'll be in that cluster."
   ]
  },
  {
   "cell_type": "markdown",
   "metadata": {},
   "source": [
    "<br>\n",
    "\n",
    "### Exercise 3:  Hierarchical clustering\n",
    "\n",
    "Suppose instead we decided we would like to cluster our data using hierarchical clustering. Each data point starts out as its own cluster, and (for example) on the first iteration, we must compare each pair of data points' distances. Then, we pick the minimum pair and pool them into the same cluster. As a convention, we will always use the lower index as the pair's cluster \"name\".\n",
    "\n",
    "Let's finish off this incomplete code to make the pairwise comparison of all data points' distances. Places where we need to make changes are marked as TODO. In the end, we want `closest_points` to be a length-2 list of the indices of the two data points in X that are nearest to one another, and `min_dist` should be the Euclidean distance between them."
   ]
  },
  {
   "cell_type": "code",
   "execution_count": 91,
   "metadata": {},
   "outputs": [],
   "source": [
    "min_dist = np.inf # initialize\n",
    "closest_points = [-1, -1] # initialize\n",
    "clusters = list(range(len(X))) # initialize each point as its own cluster\n",
    "centroids = X # initialize each \"cluster\" centroid as the data point itself\n",
    "for i in range(len(X)):\n",
    "    for j in range(i+1, len(X)):\n",
    "        # compute the distance between X[i] and X[j]\n",
    "        new_dist = 0 # TODO\n",
    "        # replace min_dist and closest_points with the new pair's info if it's closer\n",
    "        if False: # TODO\n",
    "            min_dist = 0 # TODO\n",
    "            closest_points = [-1, -1] # TODO"
   ]
  },
  {
   "cell_type": "code",
   "execution_count": 93,
   "metadata": {},
   "outputs": [],
   "source": [
    "# SOLUTION:\n",
    "\n",
    "min_dist = np.inf # initialize\n",
    "closest_points = [-1, -1] # initialize\n",
    "clusters = list(range(len(X))) # initialize each point as its own cluster\n",
    "centroids = X # initialize each \"cluster\" centroid as the data point itself\n",
    "for i in range(len(X)):\n",
    "    for j in range(i+1, len(X)):\n",
    "        # compute the distance between X[i] and X[j]\n",
    "        new_dist = dist(X[i], X[j]) # TODO\n",
    "        # replace min_dist and closest_points with the new pair's info if it's closer\n",
    "        if new_dist < min_dist: # TODO\n",
    "            min_dist = new_dist # TODO\n",
    "            closest_points = [i, j] # TODO"
   ]
  },
  {
   "cell_type": "code",
   "execution_count": 90,
   "metadata": {},
   "outputs": [
    {
     "name": "stdout",
     "output_type": "stream",
     "text": [
      "[0, 3] 0.13827241442138283\n"
     ]
    }
   ],
   "source": [
    "print(closest_points, min_dist)"
   ]
  },
  {
   "cell_type": "markdown",
   "metadata": {},
   "source": [
    "At this point, `closest_points` should be [0, 3], so we want to reassign `clusters[3] = 0` (instead of its original value of 3)."
   ]
  },
  {
   "cell_type": "code",
   "execution_count": 95,
   "metadata": {},
   "outputs": [],
   "source": [
    "# reassign to the cluster\n",
    "clusters[max(closest_points)] = min(closest_points)"
   ]
  },
  {
   "cell_type": "markdown",
   "metadata": {},
   "source": [
    "Now we need to recompute the centroid of cluster 0, or in general, `min(closest_points)`.  There are many ways to do this, including of course the brute force for loop. Here's a slightly more elegant list comprehension to obtain the $X_1$ and $X_2$ coordinates from each data point that is in cluster 0."
   ]
  },
  {
   "cell_type": "code",
   "execution_count": 170,
   "metadata": {},
   "outputs": [],
   "source": [
    "x1_coords = [X[k][0] if clusters[k]==0 else 0 for k in range(len(X))]\n",
    "x2_coords = [X[k][1] if clusters[k]==0 else 0 for k in range(len(X))]"
   ]
  },
  {
   "cell_type": "markdown",
   "metadata": {},
   "source": [
    "Now to compute the means in each coordinate, we need the number of data points assigned to this cluster. Obviously, you could just write in \"2\" and go about your business, but try to come up with a more general computation to get this. Then, use the `x1_coords` and `x2_coords` from above and `n_cluster_0` from below to compute the updated centroid of cluster 0."
   ]
  },
  {
   "cell_type": "code",
   "execution_count": 171,
   "metadata": {},
   "outputs": [],
   "source": [
    "n_cluster_0 = 0 # TODO\n",
    "centroids[0] = [0, 0] # TODO"
   ]
  },
  {
   "cell_type": "code",
   "execution_count": 177,
   "metadata": {},
   "outputs": [
    {
     "name": "stdout",
     "output_type": "stream",
     "text": [
      "2 [0.97835007 1.14730689]\n"
     ]
    }
   ],
   "source": [
    "# SOLUTION:\n",
    "\n",
    "# there are many ways to do this:\n",
    "n_cluster_0 = np.sum([clusters[k]==0 for k in range(len(X))]) # TODO\n",
    "centroids[0] = [np.sum(x1_coords)/n_cluster_0, np.sum(x2_coords)/n_cluster_0] # TODO\n",
    "print(n_cluster_0, centroids[0])"
   ]
  },
  {
   "cell_type": "markdown",
   "metadata": {},
   "source": [
    "At this point, as a matter of bookkeeping, we might want to set the centroid for cluster 3 (which was just \"absorbed\" into cluster 0) to some fill-value that would alert us if we accidentally used it in a calculation when we should have used the centroid for cluster 0."
   ]
  },
  {
   "cell_type": "code",
   "execution_count": 180,
   "metadata": {},
   "outputs": [],
   "source": [
    "centroids[max(closest_points)] = np.full(shape=centroids[max(closest_points)].shape, fill_value=np.nan)"
   ]
  },
  {
   "cell_type": "markdown",
   "metadata": {},
   "source": [
    "There you have it! One complete iteration of hierarchical clustering. Now we would again do the distance calculation for each cluster (most of which are still a single data point), and merge the two closest clusters."
   ]
  },
  {
   "cell_type": "markdown",
   "metadata": {},
   "source": [
    "<br>\n",
    "\n",
    "### Bonus!\n",
    "\n",
    "As you worked through the previous exercises, it may have struck you that it would be convenient to have a `Cluster` object defined, so we can have nice attributes to cleanly keep track of things like which data points are in a given cluster, what the centroid of the cluster is, and so forth. It sure would be convenient to have member functions to update the cluster centroid when a new data point is added to the cluster.\n",
    "\n",
    "Below is a helpful template. If you're looking for some extra fun for the weekend, have a crack at filling it in! Object-oriented certainly helps keep things tidy - try completing the clustering exercises from above using your shiny new `Cluster` objects."
   ]
  },
  {
   "cell_type": "code",
   "execution_count": 97,
   "metadata": {},
   "outputs": [],
   "source": [
    "class Cluster:\n",
    "    \n",
    "    def __init__(self, dim, n=0, X=None):\n",
    "        '''\n",
    "        dim = number of dimensions for each data point\n",
    "        n = number of data points to start with\n",
    "        X = list of data points (list of lists, or other array-like objects)\n",
    "        '''\n",
    "        self.dim = dim\n",
    "        self.n = n\n",
    "        self.X = X if n != 1 else [X]\n",
    "        self.centroid = self.compute_centroid()\n",
    "        \n",
    "    def add_data_pt(self, Xnew):\n",
    "        '''\n",
    "        Add a data point Xnew to the cluster.\n",
    "        Depending on how you structure your code, this routine might want to call update_centroid(...)\n",
    "        '''\n",
    "        # TODO\n",
    "        \n",
    "    def update_centroid(self, Xnew):\n",
    "        '''\n",
    "        Use formula for online update of the mean to update each component of the centroid using n and Xnew\n",
    "            m[n] = m[n-1] + (a[n] - m[n-1])/n\n",
    "        (https://math.stackexchange.com/questions/106700/incremental-averageing)\n",
    "        '''\n",
    "        # TODO\n",
    "        \n",
    "    def compute_centroid(self):\n",
    "        '''\n",
    "        Compute the centroid the hard way, by taking the mean of all data points in the cluster (self.X)\n",
    "        '''\n",
    "        centr = [np.nan]*self.dim\n",
    "        # TODO\n",
    "\n",
    "        return centr"
   ]
  },
  {
   "cell_type": "code",
   "execution_count": 145,
   "metadata": {},
   "outputs": [],
   "source": [
    "# SOLUTION:\n",
    "\n",
    "class Cluster:\n",
    "    \n",
    "    def __init__(self, dim, n=0, X=None):\n",
    "        '''\n",
    "        dim = number of dimensions for each data point\n",
    "        n = number of data points to start with\n",
    "        X = list of data points (list of lists, or other array-like objects)\n",
    "        '''\n",
    "        self.dim = dim\n",
    "        self.n = n\n",
    "        self.X = X if n != 1 else [X]\n",
    "        self.centroid = self.compute_centroid()\n",
    "        \n",
    "    def add_data_pt(self, Xnew):\n",
    "        '''\n",
    "        Add a data point Xnew to the cluster\n",
    "        '''\n",
    "        # TODO\n",
    "        self.n += 1\n",
    "        if not self.X:\n",
    "            # this is the first data point\n",
    "            self.X = Xnew\n",
    "        else:\n",
    "            # at least one data point already\n",
    "            self.X.append(Xnew)\n",
    "        # update the centroid\n",
    "        self.update_centroid(Xnew)\n",
    "        \n",
    "    def update_centroid(self, Xnew):\n",
    "        '''\n",
    "        Use formula for online update of the mean to update each component of the centroid using n and Xnew\n",
    "            m[n] = m[n-1] + (a[n] - m[n-1])/n\n",
    "        (https://math.stackexchange.com/questions/106700/incremental-averageing)\n",
    "        '''\n",
    "        # TODO\n",
    "        if not self.X:\n",
    "            # this is first data point\n",
    "            self.centroid = Xnew\n",
    "        else:\n",
    "            for d in range(self.dim):\n",
    "                self.centroid[d] += (Xnew[d] - self.centroid[d])/self.n\n",
    "        \n",
    "    def compute_centroid(self):\n",
    "        '''\n",
    "        Compute the centroid the hard way, by taking the mean of all data points in the cluster (self.X)\n",
    "        '''\n",
    "        # TODO\n",
    "        centr = [np.nan]*self.dim\n",
    "        if self.X:\n",
    "            if len(self.X)==1:\n",
    "                # only one data point\n",
    "                centr = self.X[0].copy()\n",
    "            else:\n",
    "                for d in range(self.dim):\n",
    "                    centr[d] = np.mean([x[d] for x in X])\n",
    "        return centr"
   ]
  },
  {
   "cell_type": "code",
   "execution_count": null,
   "metadata": {},
   "outputs": [],
   "source": []
  }
 ],
 "metadata": {
  "kernelspec": {
   "display_name": "Python 3",
   "language": "python",
   "name": "python3"
  },
  "language_info": {
   "codemirror_mode": {
    "name": "ipython",
    "version": 3
   },
   "file_extension": ".py",
   "mimetype": "text/x-python",
   "name": "python",
   "nbconvert_exporter": "python",
   "pygments_lexer": "ipython3",
   "version": "3.7.4"
  }
 },
 "nbformat": 4,
 "nbformat_minor": 2
}
