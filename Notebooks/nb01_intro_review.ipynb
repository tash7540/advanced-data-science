{
 "cells": [
  {
   "cell_type": "markdown",
   "metadata": {},
   "source": [
    "# Notebook 1: Kicking the rust off the wheels\n",
    "***\n",
    "\n",
    "In this notebook we'll have a look at some topics from the classes of yore, and review topics that will be useful in our Adventures in Data Science (AKA, CSCI 4022). We will...\n",
    "* practice a few calculations by hand using our old friends Linear Algebra and Probability and Statistics,\n",
    "* use stochastic simulations to verify these results, and\n",
    "* review basic data structures and programming in Python.\n",
    "\n",
    "If you are unfamiliar with Python, then ***STOP*** and go check out the Numpy and Pandas tutorial first.\n",
    "\n",
    "We'll need Numpy for this notebook, so let's load it. "
   ]
  },
  {
   "cell_type": "code",
   "execution_count": 1,
   "metadata": {},
   "outputs": [],
   "source": [
    "import numpy as np "
   ]
  },
  {
   "cell_type": "markdown",
   "metadata": {},
   "source": [
    "<br>\n",
    "\n",
    "### Exercise 1: Linear Alge-what?\n",
    "***\n",
    "\n",
    "Suppose we want to multiply two matrices: $A = \\left[\\begin{matrix} 1 & 2 \\\\ -1 & 3 \\end{matrix}\\right]$ and $B = \\left[\\begin{matrix} -2 & 5 \\\\ 0 & -1 \\end{matrix}\\right]$\n",
    "\n",
    "First, compute the product $AB$ *by hand*. To get some practice with formatting math nicely in Markdown/MathJax in a Jupyter notebook, show all work in the cell below. \n",
    "\n",
    "*You will need to convert it from a **code** cell to a **Markdown** cell. If you do not know how to do that, use your favorite search engine, or make a new friend in class! Also, if you aren't sure how to format a matrix in Markdown/LaTeX (pronounced \"lay-tek\") if you double-click on this Markdown cell, it will show you the raw Markdown code used to generate this gorgeous masterpiece of text.*"
   ]
  },
  {
   "cell_type": "code",
   "execution_count": null,
   "metadata": {},
   "outputs": [],
   "source": []
  },
  {
   "cell_type": "markdown",
   "metadata": {},
   "source": [
    "What about the product $BA$? Without doing any calculation, do you expect it (in general) to be the same as $AB$?\n",
    "\n",
    "Okay, enough chit chat. Let's do the calculation $BA$ by hand in the cell below."
   ]
  },
  {
   "cell_type": "code",
   "execution_count": null,
   "metadata": {},
   "outputs": [],
   "source": []
  },
  {
   "cell_type": "markdown",
   "metadata": {},
   "source": [
    "The code below declares `A` and `B` as Numpy arrays, which can be multiplied by using the `np.matmul()` function. Use `matmul` to find the products $AB$ and $BA$ and verify your calculations from above."
   ]
  },
  {
   "cell_type": "code",
   "execution_count": 5,
   "metadata": {},
   "outputs": [
    {
     "name": "stdout",
     "output_type": "stream",
     "text": [
      "0\n",
      "0\n"
     ]
    }
   ],
   "source": [
    "A = np.array([[1,2],[-1,3]])\n",
    "B = np.array([[-2,5],[0,-1]])\n",
    "\n",
    "AB = 0 # this is silly. replace it with your code!\n",
    "print(AB)\n",
    "\n",
    "BA = 0 # this, too, is quite silly. replace it with your code!\n",
    "print(BA)"
   ]
  },
  {
   "cell_type": "markdown",
   "metadata": {},
   "source": [
    "Finally, let's say we want to multiply the matrices: $C = \\left[\\begin{matrix} 2 & 2 & 1 & -1 \\\\ 0 & 1 & -3 & 1 \\end{matrix}\\right]$ and $D = \\left[\\begin{matrix} 2 & 1 \\\\ 3 & 2 \\\\ 0 & 5 \\end{matrix}\\right]$.\n",
    "\n",
    "Consider the products $CD$ and $CD$. Which of these, if any, is a valid matrix product for the given matrices? Why or why not?\n",
    "\n",
    "If either of them constitutes a valid product, compute it both by hand and by using `np.matmul()`."
   ]
  },
  {
   "cell_type": "code",
   "execution_count": null,
   "metadata": {},
   "outputs": [],
   "source": []
  },
  {
   "cell_type": "markdown",
   "metadata": {},
   "source": [
    "<br>\n",
    "\n",
    "### Exercise 2: Law of Total Probability and Stochastic Simulation\n",
    "***\n",
    "\n",
    "Suppose you are playing a game wherein a player's turn involves rolling two 6-sided dice. You just rolled the dice, and if you get a total of 7, then you will win the game. However, your friend is a cheating jerk who replaced one of the dice such that half the time the die comes up 6, and the other numbers are all equally likely. The other die is fair.\n",
    "\n",
    "You and your friend both hold your breath as the dice bounce around the table... until one of them falls off and rolls under the couch. While your friend is a cheater, they are also quite helpful in that they have a PhD in Materials Science and designed the unfair die such that it is twice as likely that the unfair die falls off the table as the fair die.\n",
    "\n",
    "Suppose the die on the table comes up as a 3. What then is the probability that your total is 7 and you win?\n",
    "\n",
    "Let's break this down a bit.\n",
    "\n",
    "First, note that *given that the table die (call it $D_1$) is a 3*, you will win if the die under the couch (call it $D_2$) is a 4. This can happen in exactly two ways:\n",
    "1. $D_2 = 4$ **and** $D_2$ is fair\n",
    "2. $D_2 = 4$ **and** $D_2$ is unfair\n",
    "\n",
    "The Law of Total Probability is the tool we use for combining the probability associated with each of these **disjoint** possible ways that you can win:\n",
    "\n",
    "$\\begin{align*} P(win \\mid D_1=3) = P(D_2=4 \\mid D_1=3) &= P(D_2=4 \\cap D_2 \\text{ fair}) + P(D_2=4 \\cap D_2 \\text{ unfair}) \\\\\n",
    "                                  &= P(D_2=4 \\mid D_2 \\text{ fair})P(D_2 \\text{ fair}) + P(D_2=4 \\mid D_2 \\text{ unfair})P(D_2 \\text{ unfair}) \\\\\n",
    "\\end{align*}$\n",
    "\n",
    "Use the information given in the problem to fill in the missing probabilities below for our calculation. Note that you will need to use your CSCI 2824 and CSCI 3022 chops to figure out some of these probabilities."
   ]
  },
  {
   "cell_type": "code",
   "execution_count": null,
   "metadata": {},
   "outputs": [],
   "source": [
    "prob_4_given_fair = 0   # replace with P(D2=4|D2 fair)\n",
    "prob_4_given_unfair = 0 # replace with P(D2=4|D2 unfair)\n",
    "prob_fair = 0           # replace with P(D2 fair)\n",
    "prob_unfair = 0         # replace with P(D2 unfair)"
   ]
  },
  {
   "cell_type": "markdown",
   "metadata": {},
   "source": [
    "Put the probabilities together using the Law of Total Probability formula above to determine *analytically* (i.e., by hand) what your probability of winning is."
   ]
  },
  {
   "cell_type": "code",
   "execution_count": null,
   "metadata": {},
   "outputs": [],
   "source": []
  },
  {
   "cell_type": "markdown",
   "metadata": {},
   "source": [
    "**Part B:** Now, the LTP can be a wild ride because it can yield some counterintuitive results. So it can be useful to verify results using stochastic (random) simulation. We can set up a stochastic simulation for this situation and run it many times to see what fraction of the time you win, and check our analytical result with an empirical one. In fact, that's exactly how science works - the two go hand-in-hand!"
   ]
  },
  {
   "cell_type": "markdown",
   "metadata": {},
   "source": [
    "This might seem like overkill, but let's also review defining functions and writing modular code in Python."
   ]
  },
  {
   "cell_type": "code",
   "execution_count": 9,
   "metadata": {},
   "outputs": [],
   "source": [
    "# define a function for rolling an unfair die\n",
    "def roll_unfair():\n",
    "    # include the argument p because not all equally likely\n",
    "    outcome = np.random.choice([1,2,3,4,5,6], p=[1/10, 1/10, 1/10, 1/10, 1/10, 1/2])\n",
    "    return outcome\n",
    "\n",
    "# define a function for rolling a fair die\n",
    "def roll_fair():\n",
    "    # random draw from possible outcomes - without argument p, assumes all equally likely\n",
    "    outcome = 0 # fill this in!\n",
    "    return outcome"
   ]
  },
  {
   "cell_type": "markdown",
   "metadata": {},
   "source": [
    "Try a simple set of `niter=10000` simulations to verify that the `roll_unfair` function performs as desired. What should the `print(mystery_prob)` statement show (approximately)?"
   ]
  },
  {
   "cell_type": "code",
   "execution_count": null,
   "metadata": {},
   "outputs": [],
   "source": [
    "niter = 10000\n",
    "rolls = np.array([roll_unfair() for _ in range(niter)])\n",
    "mystery_prob = sum(rolls==6)/niter\n",
    "print(mystery_prob)"
   ]
  },
  {
   "cell_type": "markdown",
   "metadata": {},
   "source": [
    "Nota bene (NB): the line `[roll_unfair() for _ in range(niter)]` is a Python ***list comprehension***. This is essentially a handy (and efficient!) way to abbreviate a simple `for` loop. The use of the underscore character instead of an index saves the use of a precious single-character variable name, when we do not need to reference the index within the loop; it would work equally well if we said `[roll_unfair() for i in range(niter)]` (or some other index instead of `i`)."
   ]
  },
  {
   "cell_type": "markdown",
   "metadata": {},
   "source": [
    "What would `myster_prob` be if instead of `roll_unfair` we used the `roll_fair` function? Or what if we changed the `rolls==6` to `rolls==4`? Verify that your intuition is correct by copy-pasting and making the necessary modifications."
   ]
  },
  {
   "cell_type": "code",
   "execution_count": null,
   "metadata": {},
   "outputs": [],
   "source": []
  },
  {
   "cell_type": "markdown",
   "metadata": {},
   "source": [
    "Let's put our roll functions to work and actually simulate the whole process of your roll in this game. While it is totally unnecessary to do this using Pandas DataFrames, we will do so in order to have a quick review of DataFrame operations.\n",
    "\n",
    "To use Pandas, we will first import it with the usual alias of `pd`."
   ]
  },
  {
   "cell_type": "code",
   "execution_count": 15,
   "metadata": {},
   "outputs": [],
   "source": [
    "import pandas as pd"
   ]
  },
  {
   "cell_type": "code",
   "execution_count": 43,
   "metadata": {
    "collapsed": true
   },
   "outputs": [],
   "source": [
    "# number of simulations\n",
    "niter = 10000\n",
    "\n",
    "# WARNING: of course, this is not at all the most efficient way to do this!\n",
    "\n",
    "floor_die, table_rolls, floor_rolls = [], [], []\n",
    "for i in range(niter):\n",
    "    # which die is on the floor?\n",
    "    floor_die.append(np.random.choice([\"fair\",\"unfair\"], p=[1/3, 2/3]))\n",
    "    # the element at index -1 in a Python object is the last element\n",
    "    if floor_die[-1]==\"fair\":\n",
    "        # unfair die is on the table\n",
    "        table_rolls.append(roll_unfair())\n",
    "        floor_rolls.append(roll_fair())\n",
    "    else:\n",
    "        # fair die in on the table\n",
    "        table_rolls.append(roll_fair())\n",
    "        floor_rolls.append(roll_unfair())"
   ]
  },
  {
   "cell_type": "markdown",
   "metadata": {},
   "source": [
    "We can create a Pandas DataFrame object by feeding into `pd.DataFrame()` a Python **dictionary** where the keys are what we want the DataFrame column headers to be, and the values are the column values (from the random draws above)."
   ]
  },
  {
   "cell_type": "code",
   "execution_count": 44,
   "metadata": {
    "collapsed": true
   },
   "outputs": [],
   "source": [
    "# combine everything in a Pandas DataFrame\n",
    "dfRolls = pd.DataFrame({\"table\" : table_rolls, \"floor\" : floor_rolls, \"floor_die\" : floor_die})"
   ]
  },
  {
   "cell_type": "markdown",
   "metadata": {},
   "source": [
    "Inspect the first $k$ rows of a Pandas DataFrame using the `head(k)` method. By default, you see 5 rows."
   ]
  },
  {
   "cell_type": "code",
   "execution_count": 45,
   "metadata": {},
   "outputs": [
    {
     "data": {
      "text/html": [
       "<div>\n",
       "<style scoped>\n",
       "    .dataframe tbody tr th:only-of-type {\n",
       "        vertical-align: middle;\n",
       "    }\n",
       "\n",
       "    .dataframe tbody tr th {\n",
       "        vertical-align: top;\n",
       "    }\n",
       "\n",
       "    .dataframe thead th {\n",
       "        text-align: right;\n",
       "    }\n",
       "</style>\n",
       "<table border=\"1\" class=\"dataframe\">\n",
       "  <thead>\n",
       "    <tr style=\"text-align: right;\">\n",
       "      <th></th>\n",
       "      <th>table</th>\n",
       "      <th>floor</th>\n",
       "      <th>floor_die</th>\n",
       "    </tr>\n",
       "  </thead>\n",
       "  <tbody>\n",
       "    <tr>\n",
       "      <th>0</th>\n",
       "      <td>4</td>\n",
       "      <td>2</td>\n",
       "      <td>fair</td>\n",
       "    </tr>\n",
       "    <tr>\n",
       "      <th>1</th>\n",
       "      <td>1</td>\n",
       "      <td>1</td>\n",
       "      <td>unfair</td>\n",
       "    </tr>\n",
       "    <tr>\n",
       "      <th>2</th>\n",
       "      <td>5</td>\n",
       "      <td>4</td>\n",
       "      <td>fair</td>\n",
       "    </tr>\n",
       "    <tr>\n",
       "      <th>3</th>\n",
       "      <td>3</td>\n",
       "      <td>3</td>\n",
       "      <td>fair</td>\n",
       "    </tr>\n",
       "    <tr>\n",
       "      <th>4</th>\n",
       "      <td>6</td>\n",
       "      <td>6</td>\n",
       "      <td>fair</td>\n",
       "    </tr>\n",
       "  </tbody>\n",
       "</table>\n",
       "</div>"
      ],
      "text/plain": [
       "   table  floor floor_die\n",
       "0      4      2      fair\n",
       "1      1      1    unfair\n",
       "2      5      4      fair\n",
       "3      3      3      fair\n",
       "4      6      6      fair"
      ]
     },
     "execution_count": 45,
     "metadata": {},
     "output_type": "execute_result"
    }
   ],
   "source": [
    "dfRolls.head()"
   ]
  },
  {
   "cell_type": "markdown",
   "metadata": {},
   "source": [
    "Oh right, we were trying to solve a problem here!\n",
    "\n",
    "Each row in the DataFrame `dfRolls` corresponds to one trial of an experiment. We can estimate your probability of winning by directly estimating the probability $P(D_2=4 \\mid D_1=3)$. We can use the definition of conditional probability to rewrite this as:\n",
    "\n",
    "$$P(D_2=4 \\mid D_1=3) = \\dfrac{P(D_2=4 \\cap D_1=3)}{P(D_1=3)}$$\n",
    "\n",
    "Now, from the definition of probability in terms of cardinality of sets, we get:\n",
    "\n",
    "$$\\dfrac{P(D_2=4 \\cap D_1=3)}{P(D_1=3)} = \\dfrac{(\\text{number of simulations where } D_1=3 \\text{ and } D_2=4)/n_{iter}}{(\\text{number of simulations where } D_1=3)/n_{iter}} \n",
    " =\\dfrac{\\text{number of simulations where } D_1=3 \\text{ and } D_2=4}{\\text{number of simulations where } D_1=3}$$\n",
    " \n",
    "We estimate the numerator using `df.loc` as:"
   ]
  },
  {
   "cell_type": "code",
   "execution_count": 54,
   "metadata": {},
   "outputs": [],
   "source": [
    "num_table_3_floor_4 = len(dfRolls.loc[(dfRolls[\"table\"]==3) & (dfRolls[\"floor\"]==4)])"
   ]
  },
  {
   "cell_type": "markdown",
   "metadata": {},
   "source": [
    "Modify this to estimate the denominator and finally check to see if the stochastic simulation estimate matches our analytical calculation."
   ]
  },
  {
   "cell_type": "code",
   "execution_count": null,
   "metadata": {},
   "outputs": [],
   "source": [
    "num_table_3 = 1 # finish the code!\n",
    "\n",
    "print(\"Your probability of winning is {:0.4f}\".format(num_table_3_floor_4/num_table_3))"
   ]
  },
  {
   "cell_type": "markdown",
   "metadata": {},
   "source": [
    "<br>\n",
    "\n",
    "### Exercise 3: Hash functions and tables\n",
    "***\n",
    "\n",
    "Remember that time we used a Python dictionary to create a Pandas DataFrame? *Epic!*\n",
    "\n",
    "In fact, it was so much fun that it is worth revisiting what was going on there!\n",
    "\n",
    "Python dictionaries are actually stored as **hash tables**, a fun and efficient way to look up information - stored as *values* - based on a reference key. The reference key is mapped to a hash value using a **hash function**. Check out section 1.3.2 in the Mining of Massive Data Sets textbook if you need more of a refresher on hash tables/functions. \n",
    "\n",
    "Suppose we have a database of names and phone numbers, given in the table below.\n",
    "\n",
    "| Name | Phone |\n",
    "|------|-------|\n",
    "|Felix | 303-555-0123 |\n",
    "|Ioana | 616-555-7260 |\n",
    "|Maciej| 320-555-1553 |\n",
    "|Murray| 524-555-2895 |\n",
    "|Rachel| 814-555-9025 |\n",
    "|Rhonda| 720-555-7112 |\n",
    "\n",
    "If we want to create a rudimentary caller ID program, we might want to store all these phone numbers in a hash table. Then, if we receive a call and it is the year 1995, then based on the incoming phone number, our phone can check whose name (the data) is associated with the hash value computed from the phone number. One common hash function is to take the remainder of the key (possibly converted to an integer) when divided by the number of buckets, $B$. So for the $i$-th data point, with key value $k_i$, we hash into bucket $b_i$ using hash function $h(k)$\n",
    "$$b_i = h(k_i) = k_i\\bmod{B}$$\n",
    "\n",
    "Now, there are $N=6$ values we need to store in our hash table. In a perfect world, we could store each datum in its own hash bucket. But we certainly do not want to use 10-digit buckets to store our hash values, which is what we would need in order to guarantee each datum to have its own bucket (a billion buckets, anyone??). \n",
    "\n",
    "Instead, a common approach to hashing large numbers like phone numbers is to divide the number into sub-numbers, say, 2 digits long each, and sum them up. Then, the largest number we could end up with is $5\\cdot 99 = 495$. Let's use $B=11$ buckets here. There are of course many other approaches we could take, but this is sufficient to get started.\n",
    "\n",
    "For example, Felix's phone number is 303-555-0123. The hash function takes this key to:\n",
    "\n",
    "$h(k_0)= (30+35+55+1+23) \\bmod{11} = 144\\bmod{11} = 1$\n",
    "\n",
    "So in our hash table, at index 1 we should store `Felix`. Now, when our phone receives a call from 303-555-0123, we can simply plug this number into our hash function $h(k)$ and find `Felix` is calling us!"
   ]
  },
  {
   "cell_type": "code",
   "execution_count": 85,
   "metadata": {},
   "outputs": [],
   "source": [
    "# initialize an empty hash table with B=11 buckets\n",
    "B = 11\n",
    "hash_table = [None]*B\n",
    "\n",
    "# place Felix's name in bucket 1\n",
    "hash_table[1] = \"Felix\""
   ]
  },
  {
   "cell_type": "markdown",
   "metadata": {},
   "source": [
    "**Part A:** Write a function `myHash(k)` that takes as input an integer $k$, which you may assume is exactly 10 digits long, and computes the hash table index to store the datum associated with key value $k$ using the relatively simple method outlined above. For starters, you may assume that there are no hyphens or parentheses, but if you want an extra challenge, in a preliminary step, assume the input $k$ is a *string* and strip any non-numeric characters from the phone number."
   ]
  },
  {
   "cell_type": "code",
   "execution_count": 86,
   "metadata": {},
   "outputs": [],
   "source": [
    "def myHash(k):\n",
    "    # separate into the constituent 2-digit numbers\n",
    "    c = str(k)\n",
    "    tot = 0\n",
    "    for i in range(5):\n",
    "        tot += int(c[2*i:(2*i+2)])\n",
    "    return tot%11"
   ]
  },
  {
   "cell_type": "markdown",
   "metadata": {},
   "source": [
    "**Part B:** Hash the remaining phone numbers from the data table above. Place the proper names in the proper buckets, but first print to the screen (using `print()`) the appropriate bucket for each name."
   ]
  },
  {
   "cell_type": "code",
   "execution_count": null,
   "metadata": {},
   "outputs": [],
   "source": [
    "# Felix\n",
    "idx = myHash(3035550123); print(idx)\n",
    "hash_table[idx] = \"Felix\"\n",
    "\n",
    "# Ioana\n",
    "idx = myHash(6165557260); print(idx)\n",
    "hash_table[idx] = \"Ioana\"\n",
    "\n",
    "# Maciej\n",
    "idx = myHash(3205551553); print(idx)\n",
    "hash_table[idx] = \"Maciej\"\n",
    "\n",
    "# Murray\n",
    "idx = myHash(5245552895); print(idx)\n",
    "hash_table[idx] = \"Murray\"\n",
    "\n",
    "# Rachel\n",
    "idx = myHash(8145559025); print(idx)\n",
    "hash_table[idx] = \"Rachel\"\n",
    "\n",
    "# Rhonda\n",
    "idx = myHash(7205557112); print(idx)\n",
    "hash_table[idx] = \"Rhonda\""
   ]
  },
  {
   "cell_type": "code",
   "execution_count": null,
   "metadata": {
    "scrolled": true
   },
   "outputs": [],
   "source": [
    "print(hash_table)"
   ]
  },
  {
   "cell_type": "markdown",
   "metadata": {},
   "source": [
    "**Part C:** You should find that Maciej and Rhonda both hash into bucket 6. That is, there is a *collision* in storing our data in the hash table.\n",
    "\n",
    "There are many options for how to address this, but a simple one is to store a list (or linked list) of data at that index. So change the `hash_table` list to store the list `[\"Maciej\",\"Rhonda\"]` in bucket 6."
   ]
  },
  {
   "cell_type": "code",
   "execution_count": 96,
   "metadata": {},
   "outputs": [],
   "source": [
    "hash_table[6] = 0 # TODO: complete this!"
   ]
  },
  {
   "cell_type": "markdown",
   "metadata": {},
   "source": [
    "**Part D:** Complete the function below, which takes a key ($k$) and data value ($v$) to add to the old hash table (`old_table`), and outputs a new hash table (`new_table`)."
   ]
  },
  {
   "cell_type": "code",
   "execution_count": 93,
   "metadata": {},
   "outputs": [],
   "source": [
    "def myPut(k, v, old_table):\n",
    "    new_table = old_table.copy()\n",
    "    # compute the bucket for key k\n",
    "    idx = 0 # TODO: your code goes here!\n",
    "    if new_table[idx]==None:\n",
    "        new_table[idx] = [v]\n",
    "    else:\n",
    "        pass # TODO: what should we do if there is already a list here? replace this!\n",
    "    return new_table"
   ]
  },
  {
   "cell_type": "markdown",
   "metadata": {},
   "source": [
    "Execute this cell to compare the new hash table `new_table` to the old one and verify that your function is working."
   ]
  },
  {
   "cell_type": "code",
   "execution_count": null,
   "metadata": {},
   "outputs": [],
   "source": [
    "B = 11\n",
    "new_table = [None]*B\n",
    "\n",
    "new_table = myPut(3035550123, \"Felix\", new_table)\n",
    "new_table = myPut(6165557260, \"Ioana\", new_table)\n",
    "new_table = myPut(3205551553, \"Maciej\", new_table)\n",
    "new_table = myPut(5245552895, \"Murray\", new_table)\n",
    "new_table = myPut(8145559025, \"Rachel\", new_table)\n",
    "new_table = myPut(7205557112, \"Rhonda\", new_table)\n",
    "\n",
    "print(new_table)\n",
    "print(hash_table)"
   ]
  },
  {
   "cell_type": "markdown",
   "metadata": {},
   "source": [
    "<br>\n",
    "\n",
    "Of the brief exercises in this notebook, there are of course many other ways to implement the methods, many of which will be more efficient. This is meant as more of a crash course in topics that will be useful moving forward in this course. For further information and Death Star-class implementations, you are encouraged to check out your Algorithms, Data Structures and Intro. to Data Science course materials from the good ol' days, or follow the many links at the end of Chapter 1 of *Mining of Massive Data Sets* to supplemental reading."
   ]
  },
  {
   "cell_type": "code",
   "execution_count": null,
   "metadata": {},
   "outputs": [],
   "source": []
  }
 ],
 "metadata": {
  "kernelspec": {
   "display_name": "Python 3",
   "language": "python",
   "name": "python3"
  },
  "language_info": {
   "codemirror_mode": {
    "name": "ipython",
    "version": 3
   },
   "file_extension": ".py",
   "mimetype": "text/x-python",
   "name": "python",
   "nbconvert_exporter": "python",
   "pygments_lexer": "ipython3",
   "version": "3.7.4"
  }
 },
 "nbformat": 4,
 "nbformat_minor": 2
}
