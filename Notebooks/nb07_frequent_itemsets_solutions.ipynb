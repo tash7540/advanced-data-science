{
 "cells": [
  {
   "cell_type": "markdown",
   "metadata": {},
   "source": [
    "# Notebook 7: Frequent Itemsets\n",
    "***\n",
    "\n",
    "In this notebook we'll examine some of the tools of market-basket analysis that we just saw in class, like:\n",
    "* finding frequent itemsets,\n",
    "* finding association rules for those itemsets, and\n",
    "* computing confidence and interest in those association rules.\n",
    "\n",
    "We'll need some nice packages for this notebook, so let's load them."
   ]
  },
  {
   "cell_type": "code",
   "execution_count": 1,
   "metadata": {},
   "outputs": [],
   "source": [
    "import numpy as np \n",
    "import pandas as pd\n",
    "import scipy.stats as stats\n",
    "import matplotlib.pyplot as plt\n",
    "%matplotlib inline"
   ]
  },
  {
   "cell_type": "markdown",
   "metadata": {},
   "source": [
    "<br>\n",
    "\n",
    "### Exercise 1:  Computing support\n",
    "\n",
    "Suppose we operate a poorly-stocked convenience store, which for the sake of giving it a name, we'll call the PDQ at Table Mesa and Foothills. Suppose the full contents of our sad PDQ is just 6 items:"
   ]
  },
  {
   "cell_type": "code",
   "execution_count": 2,
   "metadata": {},
   "outputs": [],
   "source": [
    "inventory = [\"apple\", \"banana\", \"candy\", \"fancy feast\", \"grape soda\", \"ice cream\"]"
   ]
  },
  {
   "cell_type": "markdown",
   "metadata": {},
   "source": [
    "Consider the following data set of baskets and their contents."
   ]
  },
  {
   "cell_type": "code",
   "execution_count": 3,
   "metadata": {},
   "outputs": [],
   "source": [
    "baskets = {0 : set([\"apple\", \"banana\", \"candy\", \"fancy feast\"]),\n",
    "           1 : set([\"apple\", \"banana\", \"grape soda\"]),\n",
    "           2 : set([\"banana\", \"ice cream\"]),\n",
    "           3 : set([\"apple\", \"candy\", \"ice cream\"]),\n",
    "           4 : set([\"apple\", \"fancy feast\", \"banana\", \"ice cream\"]),\n",
    "           5 : set([\"apple\", \"banana\", \"candy\", \"ice cream\"]),\n",
    "           6 : set([\"candy\", \"ice cream\", \"banana\"]),\n",
    "           7 : set([\"banana\", \"fancy feast\", \"ice cream\"])}"
   ]
  },
  {
   "cell_type": "markdown",
   "metadata": {},
   "source": [
    "If you are not familiar with them, [set objects](https://www.geeksforgeeks.org/sets-in-python/) in Python are a handy way for us to compute some of the relevant quantities when it comes to analyzing market baskets, like support and interest, and finding frequent itemsets. Because you can't spell \"itemset\" without \"set\"!\n",
    "\n",
    "Key set methods include **union**, **intersection**, **in** and **subset**, which we can find using the following commands."
   ]
  },
  {
   "cell_type": "code",
   "execution_count": 4,
   "metadata": {},
   "outputs": [
    {
     "name": "stdout",
     "output_type": "stream",
     "text": [
      "{'fancy feast', 'apple', 'candy', 'grape soda', 'banana'}\n",
      "{'apple', 'banana'}\n",
      "True\n",
      "True\n"
     ]
    }
   ],
   "source": [
    "# union:\n",
    "print(set.union(baskets[0], baskets[1]))\n",
    "\n",
    "# intersection:\n",
    "print(set.intersection(baskets[0], baskets[1]))\n",
    "\n",
    "# in:\n",
    "print(\"apple\" in baskets[0])\n",
    "\n",
    "# subset:\n",
    "print({\"apple\", \"banana\"} <= baskets[0])"
   ]
  },
  {
   "cell_type": "markdown",
   "metadata": {},
   "source": [
    "For more information, check out the manual pages and the above tutorial link. But for now, that's enough to get us off the ground. Let's start by computing the **support** of the item `apple` in our set of baskets."
   ]
  },
  {
   "cell_type": "code",
   "execution_count": 5,
   "metadata": {},
   "outputs": [
    {
     "name": "stdout",
     "output_type": "stream",
     "text": [
      "5\n"
     ]
    }
   ],
   "source": [
    "# SOLUTION:\n",
    "\n",
    "supp_apple = np.sum([\"apple\" in baskets[k] for k in range(len(baskets))])\n",
    "print(supp_apple)"
   ]
  },
  {
   "cell_type": "markdown",
   "metadata": {},
   "source": [
    "Now, what is the support of the itemset {`apple`, `banana`} in our basket data set? *Hint: consider using a logical AND operator within your code from the previous part.*"
   ]
  },
  {
   "cell_type": "code",
   "execution_count": 6,
   "metadata": {},
   "outputs": [
    {
     "name": "stdout",
     "output_type": "stream",
     "text": [
      "4\n"
     ]
    }
   ],
   "source": [
    "# SOLUTION:\n",
    "\n",
    "supp_apple_and_banana = np.sum([\"apple\" in baskets[k] and \"banana\" in baskets[k] for k in range(len(baskets))])\n",
    "print(supp_apple_and_banana)"
   ]
  },
  {
   "cell_type": "markdown",
   "metadata": {},
   "source": [
    "<br>\n",
    "\n",
    "### Exercise 2:  Finding frequent itemsets\n",
    "\n",
    "Recall that a *frequent itemset* is one that appears in at least $s$ baskets, where $s$ is some support threshold that we choose. In order to find frequent itemsets, we need to consider subsets of items of increasing size, up to the point where no more subsets are actually contained in any baskets. For example, if no subsets of size 3 are present in any basket, then there certainly aren't any subsets of size 4 present in any basket, and at that point we could stop checking for frequent itemsets.\n",
    "\n",
    "Find and store in a variable of some kind of variable all of the subsets of our PDQ's `inventory`. Note that we can use a **recursive** approach to solve this problem, which amounts to finding the **power set** of the `inventory` set:\n",
    "* **Base case:** If $S$ has exactly one element in it (call it $a$), then $\\mathcal{P}(S) = \\{\\emptyset, \\{a\\}\\}$\n",
    "* Assume the set $S$ has more than one element in it.\n",
    "* Then the power set of $S$ is composed of:\n",
    "  * Each element of $\\mathcal{P}(S_{-0})$, the power set of all elements of $S$ except the first one.\n",
    "  * Each set that is of the form $S_{[k]} \\cup S_0$, where $S_{[k]}$ is some element of $\\mathcal{P}(S_{-0})$, including the empty set.\n",
    "  * We can ignore the empty set in the last step if we just tack on $\\{S_0\\}$"
   ]
  },
  {
   "cell_type": "code",
   "execution_count": 7,
   "metadata": {},
   "outputs": [],
   "source": [
    "def powerset(s):\n",
    "    '''\n",
    "    Assumes s is an input set as a list, and \n",
    "    outputs the power set of s (as a list).\n",
    "    --> Won't include the empty set since that isn't interesting\n",
    "    --> You can also assume there are no repeats in s\n",
    "    '''\n",
    "    if len(s)==1:\n",
    "        return 0 # TODO -- what should we return?\n",
    "    else:\n",
    "        s0 = [s[0]]  # a set containing only the first element of s\n",
    "        ps = [s0]    # initializing the power set to be a set containing \n",
    "                     #    only the set containing the first element of s\n",
    "\n",
    "        # For each element sk that is a set from the power set of the set\n",
    "        # of all elements in s besides the first one...\n",
    "        for sk in powerset(s[1:]):\n",
    "            # add to the power set each element of the slightly smaller power set\n",
    "            ps.append(0) # TODO (replace the 0 with something)\n",
    "            \n",
    "            # add to the power set the first element combined with each of the others\n",
    "            ps.append(0) # TODO (replace the 0 with something)\n",
    "            \n",
    "        return sorted(ps, key=len) # sort it by increasing length so it looks \"right\""
   ]
  },
  {
   "cell_type": "code",
   "execution_count": 8,
   "metadata": {},
   "outputs": [],
   "source": [
    "# SOLUTION:\n",
    "\n",
    "def powerset(s):\n",
    "    '''\n",
    "    Assumes s is an input set as a list, and \n",
    "    outputs the power set of s (as a list).\n",
    "    --> Won't include the empty set since that isn't interesting\n",
    "    --> You can also assume there are no repeats in s\n",
    "    '''\n",
    "    if len(s)==1:\n",
    "        return [s]\n",
    "    else:\n",
    "        s0 = [s[0]]  # a set containing only the first element of s\n",
    "        ps = [s0]    # initializing the power set to be a set containing \n",
    "                     #    only the set containing the first element of s\n",
    "\n",
    "        # For each element sk that is a set from the power set of the set\n",
    "        # of all elements in s besides the first one...\n",
    "        for sk in powerset(s[1:]):\n",
    "            # add to the power set each element of the slightly smaller power set\n",
    "            ps.append(sk) # TODO (replace the 0 with something)\n",
    "            \n",
    "            # add to the power set the first element combined with each of the others\n",
    "            ps.append(s0 + sk) # TODO (replace the 0 with something)\n",
    "            \n",
    "        return sorted(ps, key=len) # sort it by increasing length so it looks \"right\""
   ]
  },
  {
   "cell_type": "markdown",
   "metadata": {},
   "source": [
    "Let's check that we at least have the correct number of elements. There are 6 items in the inventory, and each one is either in or out of a given subset (2 choices), so the total number of elements in the power set should be $2^6 = 64$. If you left off the empty set, that means we should have 63 elements in the power set. Check that this is the case:"
   ]
  },
  {
   "cell_type": "code",
   "execution_count": 9,
   "metadata": {},
   "outputs": [
    {
     "data": {
      "text/plain": [
       "[['1'], ['2'], ['1', '2']]"
      ]
     },
     "execution_count": 9,
     "metadata": {},
     "output_type": "execute_result"
    }
   ],
   "source": [
    "powerset(['1','2'])"
   ]
  },
  {
   "cell_type": "code",
   "execution_count": 10,
   "metadata": {},
   "outputs": [
    {
     "name": "stdout",
     "output_type": "stream",
     "text": [
      "[['apple'], ['banana'], ['candy'], ['fancy feast'], ['grape soda'], ['ice cream'], ['apple', 'banana'], ['apple', 'candy'], ['apple', 'fancy feast'], ['apple', 'grape soda'], ['apple', 'ice cream'], ['banana', 'candy'], ['banana', 'fancy feast'], ['banana', 'grape soda'], ['banana', 'ice cream'], ['candy', 'fancy feast'], ['candy', 'grape soda'], ['candy', 'ice cream'], ['fancy feast', 'grape soda'], ['fancy feast', 'ice cream'], ['grape soda', 'ice cream'], ['apple', 'banana', 'candy'], ['apple', 'banana', 'fancy feast'], ['apple', 'banana', 'grape soda'], ['apple', 'banana', 'ice cream'], ['apple', 'candy', 'fancy feast'], ['apple', 'candy', 'grape soda'], ['apple', 'candy', 'ice cream'], ['apple', 'fancy feast', 'grape soda'], ['apple', 'fancy feast', 'ice cream'], ['apple', 'grape soda', 'ice cream'], ['banana', 'candy', 'fancy feast'], ['banana', 'candy', 'grape soda'], ['banana', 'candy', 'ice cream'], ['banana', 'fancy feast', 'grape soda'], ['banana', 'fancy feast', 'ice cream'], ['banana', 'grape soda', 'ice cream'], ['candy', 'fancy feast', 'grape soda'], ['candy', 'fancy feast', 'ice cream'], ['candy', 'grape soda', 'ice cream'], ['fancy feast', 'grape soda', 'ice cream'], ['apple', 'banana', 'candy', 'fancy feast'], ['apple', 'banana', 'candy', 'grape soda'], ['apple', 'banana', 'candy', 'ice cream'], ['apple', 'banana', 'fancy feast', 'grape soda'], ['apple', 'banana', 'fancy feast', 'ice cream'], ['apple', 'banana', 'grape soda', 'ice cream'], ['apple', 'candy', 'fancy feast', 'grape soda'], ['apple', 'candy', 'fancy feast', 'ice cream'], ['apple', 'candy', 'grape soda', 'ice cream'], ['apple', 'fancy feast', 'grape soda', 'ice cream'], ['banana', 'candy', 'fancy feast', 'grape soda'], ['banana', 'candy', 'fancy feast', 'ice cream'], ['banana', 'candy', 'grape soda', 'ice cream'], ['banana', 'fancy feast', 'grape soda', 'ice cream'], ['candy', 'fancy feast', 'grape soda', 'ice cream'], ['apple', 'banana', 'candy', 'fancy feast', 'grape soda'], ['apple', 'banana', 'candy', 'fancy feast', 'ice cream'], ['apple', 'banana', 'candy', 'grape soda', 'ice cream'], ['apple', 'banana', 'fancy feast', 'grape soda', 'ice cream'], ['apple', 'candy', 'fancy feast', 'grape soda', 'ice cream'], ['banana', 'candy', 'fancy feast', 'grape soda', 'ice cream'], ['apple', 'banana', 'candy', 'fancy feast', 'grape soda', 'ice cream']]\n"
     ]
    }
   ],
   "source": [
    "ps = powerset(inventory)\n",
    "len(ps)\n",
    "print(ps)"
   ]
  },
  {
   "cell_type": "markdown",
   "metadata": {},
   "source": [
    "Using a support threshold of $s=0.6$, what are all of the frequent itemsets? We can create another list whose elements are fractional values for the proportion of baskets each subset appears in. This is done for the a single element below, but you'll want to generalize this to look at all of the subsets in the power set `ps`. You can, of course, combine some of these steps into fewer commands."
   ]
  },
  {
   "cell_type": "code",
   "execution_count": 11,
   "metadata": {},
   "outputs": [
    {
     "name": "stdout",
     "output_type": "stream",
     "text": [
      "[False, False, False, False, False, False, False, False]\n"
     ]
    }
   ],
   "source": [
    "# initialize the support list\n",
    "supp = [0]*len(ps)\n",
    "\n",
    "# for the 43rd subset, check which baskets it is in\n",
    "membership = [set(ps[42]) <= baskets[k] for k in range(len(baskets))]\n",
    "\n",
    "# then compute the number of baskets the set appears in\n",
    "number_of_appearances = np.sum(membership)\n",
    "\n",
    "# and take as a ratio of the total number of baskets\n",
    "supp[42] = number_of_appearances/len(baskets)\n",
    "\n",
    "# Now, do for ALL of them! Like... with a loop.\n",
    "# TODO\n",
    "print(membership)"
   ]
  },
  {
   "cell_type": "code",
   "execution_count": 12,
   "metadata": {},
   "outputs": [],
   "source": [
    "# SOLUTION:\n",
    "\n",
    "supp = [0]*len(ps)\n",
    "for i in range(len(ps)):\n",
    "    supp[i] = np.sum([set(ps[i]) <= baskets[k] for k in range(len(baskets))])/len(baskets)"
   ]
  },
  {
   "cell_type": "markdown",
   "metadata": {},
   "source": [
    "Can you spot any frequent itemsets? It might be easiest to view the itemsets and their support all in one shot. And since there are 63 sets, we probably want to restrict to just the frequent ones."
   ]
  },
  {
   "cell_type": "code",
   "execution_count": 13,
   "metadata": {},
   "outputs": [
    {
     "name": "stdout",
     "output_type": "stream",
     "text": [
      "['apple'] 0.625\n",
      "['banana'] 0.875\n",
      "['ice cream'] 0.75\n",
      "['banana', 'ice cream'] 0.625\n"
     ]
    }
   ],
   "source": [
    "for i,s in zip(ps,supp):\n",
    "    if s >= 0.6:\n",
    "        print(i,s)"
   ]
  },
  {
   "cell_type": "markdown",
   "metadata": {},
   "source": [
    "So it appears that bananas and ice cream are a frequent itemset. Note that if we were doing this out in the wild, we would *only* check triples that contained both banana and ice cream; since there are no other frequent pairs, there can't be any frequent triples that *don't* contain those tasty treats.\n",
    "\n",
    "It appears the customers of our PDQ love a good banana split. Yum!\n",
    "\n",
    "<img width=300px src=\"https://i.pinimg.com/474x/9a/10/4b/9a104babf199c6b55d623972ad2bd243--banana-split-classroom-decor.jpg\">"
   ]
  },
  {
   "cell_type": "markdown",
   "metadata": {},
   "source": [
    "<br>\n",
    "\n",
    "### Exercise 3:  Finding interesting association rules\n",
    "\n",
    "The **confidence** in an association rule $I \\rightarrow j$ (itemset $I$ is related to appearance of item $j$) is given by:\n",
    "$$\\text{conf}(I \\rightarrow j) = \\dfrac{\\text{support}(I \\cup \\{j\\})}{\\text{support}(I)}$$\n",
    "\n",
    "We saw that bananas and ice cream appear to go together in purchase patterns for our haplessly understocked convenience store, but that didn't indicate which *direction* the relationship goes. Is it the case that customers who buy ice cream are more likely to buy bananas, or the other way around?\n",
    "\n",
    "Compute both $\\text{conf}(\\text{banana} \\rightarrow \\text{ice cream})$ and $\\text{conf}(\\text{ice cream} \\rightarrow \\text{banana})$. Compare the two and form a hypothesis about the direction of this relationship."
   ]
  },
  {
   "cell_type": "code",
   "execution_count": 14,
   "metadata": {},
   "outputs": [
    {
     "name": "stdout",
     "output_type": "stream",
     "text": [
      "conf(banana-->ice cream) = 0.7143\n",
      "conf(ice cream-->banana) = 0.8333\n"
     ]
    }
   ],
   "source": [
    "# SOLUTION:\n",
    "\n",
    "# banana --> ice cream\n",
    "numer = supp[ps.index([\"banana\",\"ice cream\"])]\n",
    "denom = supp[ps.index([\"banana\"])]\n",
    "conf_b_i = numer/denom\n",
    "\n",
    "# ice cream --> banana\n",
    "numer = supp[ps.index([\"banana\",\"ice cream\"])]\n",
    "denom = supp[ps.index([\"ice cream\"])]\n",
    "conf_i_b = numer/denom\n",
    "\n",
    "print(\"conf(banana-->ice cream) = {:0.4f}\".format(conf_b_i))\n",
    "print(\"conf(ice cream-->banana) = {:0.4f}\".format(conf_i_b))"
   ]
  },
  {
   "cell_type": "markdown",
   "metadata": {},
   "source": [
    "Looks like both have pretty high confidences, but it seems a tad more likely that someone who buys ice cream will want to buy bananas. We can also characterize this using the **interest** in an association rule, which is the difference between the confidence in the rule, and the proportion of itemsets that the \"resultant\" item ($j$) appears in:\n",
    "$$\\text{interest}(I \\rightarrow j) = \\text{conf}(I \\rightarrow j) - P(j)$$\n",
    "\n",
    "Compute the interest for both forms of the banana/ice cream relationship."
   ]
  },
  {
   "cell_type": "code",
   "execution_count": 15,
   "metadata": {},
   "outputs": [
    {
     "name": "stdout",
     "output_type": "stream",
     "text": [
      "interest(banana-->ice cream) = -0.0357\n",
      "interest(ice cream-->banana) = -0.0417\n"
     ]
    }
   ],
   "source": [
    "# SOLUTION:\n",
    "\n",
    "int_b_i = conf_b_i - np.sum([\"ice cream\" in baskets[k] for k in range(len(baskets))])/len(baskets)\n",
    "int_i_b = conf_i_b - np.sum([\"banana\" in baskets[k] for k in range(len(baskets))])/len(baskets)\n",
    "\n",
    "print(\"interest(banana-->ice cream) = {:0.4f}\".format(int_b_i))\n",
    "print(\"interest(ice cream-->banana) = {:0.4f}\".format(int_i_b))"
   ]
  },
  {
   "cell_type": "markdown",
   "metadata": {},
   "source": [
    "Alas, neither form of that rule appears to be particularly interesting. But ice cream and bananas are so delicious! **Consider:** Why was our confidence in each rule so high, but our interest in them so low?"
   ]
  },
  {
   "cell_type": "code",
   "execution_count": null,
   "metadata": {},
   "outputs": [],
   "source": []
  }
 ],
 "metadata": {
  "kernelspec": {
   "display_name": "Python 3",
   "language": "python",
   "name": "python3"
  },
  "language_info": {
   "codemirror_mode": {
    "name": "ipython",
    "version": 3
   },
   "file_extension": ".py",
   "mimetype": "text/x-python",
   "name": "python",
   "nbconvert_exporter": "python",
   "pygments_lexer": "ipython3",
   "version": "3.7.4"
  }
 },
 "nbformat": 4,
 "nbformat_minor": 2
}
