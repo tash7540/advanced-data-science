{
 "cells": [
  {
   "cell_type": "markdown",
   "metadata": {},
   "source": [
    "# CSCI4022 Homework 3; Clustering\n",
    "\n",
    "## Due Monday, February 22 at 11:59 pm to Canvas\n",
    "\n",
    "#### Submit this file as a .ipynb with *all cells compiled and run* to the associated dropbox.\n",
    "\n",
    "***\n",
    "\n",
    "Your solutions to computational questions should include any specified Python code and results as well as written commentary on your conclusions.  Remember that you are encouraged to discuss the problems with your classmates, but **you must write all code and solutions on your own**.\n",
    "\n",
    "**NOTES**: \n",
    "\n",
    "- Any relevant data sets should be available on Canvas. To make life easier on the graders if they need to run your code, do not change the relative path names here. Instead, move the files around on your computer.\n",
    "- If you're not familiar with typesetting math directly into Markdown then by all means, do your work on paper first and then typeset it later.  Here is a [reference guide](https://math.meta.stackexchange.com/questions/5020/mathjax-basic-tutorial-and-quick-reference) linked on Canvas on writing math in Markdown. **All** of your written commentary, justifications and mathematical work should be in Markdown.  I also recommend the [wikibook](https://en.wikibooks.org/wiki/LaTeX) for LaTex.\n",
    "- Because you can technically evaluate notebook cells is a non-linear order, it's a good idea to do **Kernel $\\rightarrow$ Restart & Run All** as a check before submitting your solutions.  That way if we need to run your code you will know that it will work as expected. \n",
    "- It is **bad form** to make your reader interpret numerical output from your code.  If a question asks you to compute some value from the data you should show your code output **AND** write a summary of the results in Markdown directly below your code. \n",
    "- 45 points of this assignment are in problems.  The remaining 5 are for neatness, style, and overall exposition of both code and text.\n",
    "- This probably goes without saying, but... For any question that asks you to calculate something, you **must show all work and justify your answers to receive credit**. Sparse or nonexistent work will receive sparse or nonexistent credit. \n",
    "- There is *not a prescribed API* for these problems.  You may answer coding questions with whatever syntax or object typing you deem fit.  Your evaluation will primarily live in the clarity of how well you present your final results, so don't skip over any interpretations!  Your code should still be commented and readable to ensure you followed the given course algorithm.\n",
    "\n",
    "---"
   ]
  },
  {
   "cell_type": "code",
   "execution_count": 1,
   "metadata": {},
   "outputs": [],
   "source": [
    "import matplotlib.pyplot as plt\n",
    "import scipy.stats as stats\n",
    "%matplotlib inline\n",
    "import numpy as np\n",
    "import random\n",
    "import pandas as pd\n",
    "import statsmodels.api as sm\n",
    "from scipy.stats import multivariate_normal\n"
   ]
  },
  {
   "cell_type": "markdown",
   "metadata": {},
   "source": [
    "\n",
    "***\n",
    "<a/ id='p4'></a>\n",
    "[Back to top](#top)\n",
    "# Problem 1 (Theory: GMM; 5 pts) \n",
    "In the GMM slides, we stated that the weights $w_m$ of the 1-dimensional GMM with pdf\n",
    "\n",
    "$f(x|\\theta)=w_1\\phi(x|\\mu_1, \\sigma_1^2)+w_2\\phi(x|\\mu_2, \\sigma_2^2)+\\dots+ w_m\\phi(x|\\mu_m, \\sigma_m^2)$\n",
    "\n",
    "required the weights to sum to one.  \n",
    "\n",
    "#### a) Use the following markdown cell to prove this statement.  In a sentence, describe how this proof might change in higher dimensions."
   ]
  },
  {
   "cell_type": "markdown",
   "metadata": {},
   "source": [
    "x has to belong to one of the i gaussian models with probability w_i. if the sum of the weights is not equal to 1, then it is not a valid probability( since the sum of probabilities of an event has to equal 1). This does not change much in higher dimensions, each gaussian model will have weight(probability) and the sum of probabilities has to equal 1."
   ]
  },
  {
   "cell_type": "markdown",
   "metadata": {},
   "source": [
    "#### b) Is it possible to have a valid pdf $f(x)$ above if any of the weights $w_k$ are negative?  If not, why not?  If so, what other difficulties might be associated with negative weights?"
   ]
  },
  {
   "cell_type": "markdown",
   "metadata": {},
   "source": [
    "We cannot have valid pdf with negative weights because sayying an event probability is negative is like sayying it is immposible for that event to occure. One difficulty of having a weight that is negative could be that the sum of probabilties will not equal to 1."
   ]
  },
  {
   "cell_type": "markdown",
   "metadata": {},
   "source": [
    "# Problem 2 (Simulation: GMMs and simulated data; 20 pts)"
   ]
  },
  {
   "cell_type": "markdown",
   "metadata": {},
   "source": [
    "The code below loads up a dataset tracking the eruptions of the geyser Old Faithful in Yellowstone.  It has two features:\n",
    "\n",
    "- eruptions; numeric; Eruption time in mins\n",
    "- waiting; numeric; Waiting time to next eruption (in mins)\n",
    "\n",
    "As the plot shows, these two variables are highly related, and we observe a data set that clearly has multiple distinct modes.\n",
    "\n",
    "Our goal in this problem is not only to capture the data set with the GMM, but to capture it well enough to simulate *new* eruptions from the original distribution."
   ]
  },
  {
   "cell_type": "code",
   "execution_count": 4,
   "metadata": {},
   "outputs": [
    {
     "name": "stdout",
     "output_type": "stream",
     "text": [
      "     eruptions  waiting\n",
      "0        3.600       79\n",
      "1        1.800       54\n",
      "2        3.333       74\n",
      "3        2.283       62\n",
      "4        4.533       85\n",
      "..         ...      ...\n",
      "267      4.117       81\n",
      "268      2.150       46\n",
      "269      4.417       90\n",
      "270      1.817       46\n",
      "271      4.467       74\n",
      "\n",
      "[272 rows x 2 columns]\n"
     ]
    },
    {
     "data": {
      "text/plain": [
       "<matplotlib.collections.PathCollection at 0x1c8311a0fc8>"
      ]
     },
     "execution_count": 4,
     "metadata": {},
     "output_type": "execute_result"
    },
    {
     "data": {
      "image/png": "[encoded data removed]",
      "text/plain": [
       "<Figure size 432x288 with 1 Axes>"
      ]
     },
     "metadata": {
      "needs_background": "light"
     },
     "output_type": "display_data"
    }
   ],
   "source": [
    "ff= sm.datasets.get_rdataset('faithful').data\n",
    "print(ff)\n",
    "plt.scatter(ff['waiting'], ff['eruptions'])"
   ]
  },
  {
   "cell_type": "markdown",
   "metadata": {},
   "source": [
    "## Part A: Fit Models\n",
    "\n",
    "Run 5 different 2-D Gaussian Mixture Models on the given data with $k=2, 4, 6, 8, 10$ components.  You may use any form of intialization, but I recommend randomness for ease of use/repetition.\n",
    "\n",
    "Plot their \"elbow plot\" of $k$ versus mean-distance-to-centroid.  Does it look like there is a best choice of $k$ from these options?  Does this match your intuition?  Explain."
   ]
  },
  {
   "cell_type": "code",
   "execution_count": 45,
   "metadata": {},
   "outputs": [
    {
     "name": "stdout",
     "output_type": "stream",
     "text": [
      "[[0.3678275882231658, 0.6321724117768343], [0.3247797248126434, 0.23074212158497406, 0.1407397397540076, 0.30373841384837497], [0.13777113335383379, 0.09579508474934939, 0.2271100534483844, 0.22968028761444922, 0.09789076000758778, 0.21175268082639545], [0.09576204594415334, 0.2116930409868526, 0.13472233030210073, 0.22709772476970547, 0.09788702770796133, 0.12406964990406433, 0.0543840901925811, 0.0543840901925811], [0.09785661264862029, 0.07175045401463688, 0.21122786501171245, 0.082067721691557, 0.061246547721548056, 0.0563801518296681, 0.09551451005221587, 0.026572027237723197, 0.0703862885799182, 0.22699782121239995]]\n",
      "[(2.0949236462172194, 54.75670638072414), (4.298214103172138, 80.28827362745024)]\n",
      "[(4.3746127189326325, 84.65629839770664), (2.003481378830131, 50.97677427401518), (2.276023435677386, 61.301373673888), (4.228582967253894, 75.76381534928989)]\n",
      "[(2.2457071933342885, 61.06620745298894), (3.9703536530847967, 71.88414974909598), (4.318719808545051, 82.63527181404706), (2.002901437311397, 50.95156524540041), (4.499489002544073, 89.36671315430057), (4.329291284208341, 77.35299172318645)]\n"
     ]
    }
   ],
   "source": [
    "big_means = [] # big_means is a list of 5 different lists. it is holding lists of means corrospoding for 2,4,6,8,10\n",
    "big_var =[] #same\n",
    "big_p_class = []#same\n",
    "pros = []\n",
    "model_num = [2,4,6,8,10]\n",
    "for r in model_num:\n",
    "    k = r #we assign k (number of compnent)\n",
    "    pi=1/k #pi represent probability\n",
    "    p_class = []\n",
    "    n_class = []\n",
    "    for i in range(k):\n",
    "        p_class.append(pi)\n",
    "        n_class.append(0)\n",
    "    # here means and variance are each a tuple (_,_) cause 2D\n",
    "    means = []\n",
    "    variance = []\n",
    "    #pick k random indexes(clusters) from the dataset and initilize means and variance lists with k different values.\n",
    "    for i in range(k):\n",
    "        index =random.randrange(0,272,1)\n",
    "        means.append((ff['eruptions'][index],ff['waiting'][index]))\n",
    "\n",
    "    for i in range(k):\n",
    "        variance.append(((1/len(ff['eruptions']))*np.sum((ff['eruptions'] - means[i][0])**2),(1/len(ff['waiting']))*np.sum((ff['waiting'] - means[i][1])**2)))\n",
    "\n",
    "    for _ in range(100):\n",
    "        #Expectation step\n",
    "        np.random.multivariate_normal([0,0], [[1,.1],[.1,1]],10)  #sample of size j=10 rho=.1  N(0,1)\n",
    "        p_data_given_class = []\n",
    "        p_class_given_data = []\n",
    "        summ = []\n",
    "        for i in range(k):\n",
    "            p_data_given_class.append(stats.multivariate_normal.pdf(ff,means[i],np.sqrt(variance[i])))\n",
    "\n",
    "        for i in range(k):\n",
    "            p_class_given_data.append(p_class[i] * p_data_given_class[i])\n",
    "        \n",
    "\n",
    "        for j in range(len(p_class_given_data[0])):\n",
    "            holder =0\n",
    "            for i in range(k):\n",
    "                holder+= p_class_given_data[i][j]\n",
    "            summ.append(holder)\n",
    "        for i in range(k):    \n",
    "            p_class_given_data[i] = p_class_given_data[i] / summ\n",
    "        #print(len(p_class_given_data))\n",
    "        #Maximization\n",
    "        for i in range(k):\n",
    "            n_class[i]= np.sum(p_class_given_data[i])\n",
    "\n",
    "\n",
    "        for i in range(k):\n",
    "            p_class[i] = n_class[i]/len(ff)\n",
    "\n",
    "        for i in range(k):\n",
    "            means[i] = ((1/n_class[i])*np.sum(p_class_given_data[i]*ff['eruptions']),(1/n_class[i])*np.sum(p_class_given_data[i]*ff['waiting']))\n",
    "            variance[i] = ((1/n_class[i])*(np.sum(p_class_given_data[i]*(ff['eruptions']-means[i][0])*np.transpose(ff['eruptions']-means[i][0]))), (1/n_class[i])*(np.sum(p_class_given_data[i]*(ff['waiting']-means[i][1])*np.transpose(ff['waiting']-means[i][1]))))\n",
    "            #covariance[i] = (1/n_class[i])*np.sum(p_class_given_data[i]*((ff['eruptions']-variance[i][0])**2) * (ff['waiting']-variance[i][1]))\n",
    "    pros.append(p_class_given_data)\n",
    "    big_means.append(means)\n",
    "    big_var.append(variance)\n",
    "    big_p_class.append(p_class)\n",
    "    \n",
    "print(big_p_class)\n",
    "print(big_means[0]) #k=2\n",
    "print(big_means[1]) #k=4 \n",
    "print(big_means[2]) #k=6 and so on..."
   ]
  },
  {
   "cell_type": "code",
   "execution_count": 46,
   "metadata": {},
   "outputs": [
    {
     "name": "stdout",
     "output_type": "stream",
     "text": [
      "[4.682640774776778, 2.775221117776541, 1.9791134898005103, 1.6474669289472441, 1.3186482235783026]\n"
     ]
    }
   ],
   "source": [
    "avg = [] #this will hold the avg for each of the k's\n",
    "for i in range(len(model_num)): #loop over k's\n",
    "    acc= 0\n",
    "    for k in range(len(ff)): #loop over data points\n",
    "        dist = 0\n",
    "        maximum = 0\n",
    "        index = -1\n",
    "        for j in range(model_num[i]): #loop over number of components\n",
    "            if pros[i][j][k] > maximum: #here we want to know which component the point is closest to (by looking at the probabilities)\n",
    "                maximum = pros[i][j][k]\n",
    "                index = j # hold the index of the correct component( the component thats closer to the point)\n",
    "        dist = np.sqrt((ff['eruptions'][k] - big_means[i][index][0])**2 + (ff['waiting'][k] - big_means[i][index][1])**2)\n",
    "        acc = acc + dist #acculiate distances to find their avg later\n",
    "    avg.append(acc/len(ff))\n",
    "print(avg)"
   ]
  },
  {
   "cell_type": "code",
   "execution_count": 47,
   "metadata": {},
   "outputs": [
    {
     "data": {
      "image/png": "[encoded data removed]",
      "text/plain": [
       "<Figure size 432x288 with 1 Axes>"
      ]
     },
     "metadata": {
      "needs_background": "light"
     },
     "output_type": "display_data"
    }
   ],
   "source": [
    "#plt.subplot(1,1,1);\n",
    "plt.title(\"K versus mean-distance-to-centroid\") \n",
    "plt.xlabel(\"K\") \n",
    "plt.ylabel(\"Distance\") \n",
    "plt.plot(model_num,avg,color = 'green') \n",
    "\n",
    "plt.show()"
   ]
  },
  {
   "cell_type": "markdown",
   "metadata": {},
   "source": [
    "We expect the mean distance to centroid to decrease as the number of components increase, because points will be clustered over more components. From the above example, we can see that the best k is equal to 6, because thats is where the slope become less steep. "
   ]
  },
  {
   "cell_type": "markdown",
   "metadata": {},
   "source": [
    "## Part B: Simulate from Models\n",
    "\n",
    "Because the GMM is a *generative* model, we could use our results from part $A$ to not only score models based on their mean-distance-to-centroid (or other statistical measures like AIC, BIC), we could simulate points from the models and visually ascertain whether or not they appear similar to the original distribution.\n",
    "\n",
    "For each of the 5 GMM models in part a), simulate 272 points from your estimated density function (recall: this is a two-part simulation of choosing a component **then** drawing from the normal of appropriate mean/covariance).\n",
    "\n",
    "Create a figure with 2 columns and 3 rows holding all 6 data sets: the 5 simulated ones and the original data shown above.  Label each plot appropriately.  "
   ]
  },
  {
   "cell_type": "code",
   "execution_count": 48,
   "metadata": {},
   "outputs": [],
   "source": [
    "def gmm_samples(num_samples, mu, var, p_class,comp):\n",
    "    samples = []\n",
    "    comp_num =[]\n",
    "    counter = 0\n",
    "    for i in range(comp):\n",
    "        comp_num.append(counter)\n",
    "        counter = counter+1\n",
    "    for k in range(num_samples):\n",
    "        # Sample Delta ~ Bernoulli(pi)\n",
    "        delta = np.random.choice(comp_num, p=p_class) \n",
    "        # Sample from the appropriate normal distribution\n",
    "        holder = stats.norm.rvs(loc=mu[delta], scale=np.sqrt(var[delta]))\n",
    "        samples.append([holder[0],holder[1]])\n",
    "        #samples.append(stats.norm.rvs(loc=mu1, scale=np.sqrt(var1)))\n",
    "    return samples\n",
    "\n",
    "data =[]\n",
    "tuples =[]\n",
    "X=[]\n",
    "Y=[]\n",
    "for i in range(len(model_num)):\n",
    "    data.append(gmm_samples(272,big_means[i],big_var[i],big_p_class[i],model_num[i]))\n",
    "for i in range(len(data)):\n",
    "    x =[]\n",
    "    y = []\n",
    "    for j in range(272):\n",
    "        x.append(data[i][j][0])\n",
    "        y.append(data[i][j][1])\n",
    "    X.append(x)\n",
    "    Y.append(y)\n",
    "\n",
    "    "
   ]
  },
  {
   "cell_type": "code",
   "execution_count": 52,
   "metadata": {},
   "outputs": [
    {
     "data": {
      "text/plain": [
       "<matplotlib.collections.PathCollection at 0x2af011e5a88>"
      ]
     },
     "execution_count": 52,
     "metadata": {},
     "output_type": "execute_result"
    },
    {
     "data": {
      "image/png": "[encoded data removed]",
      "text/plain": [
       "<Figure size 1440x720 with 6 Axes>"
      ]
     },
     "metadata": {
      "needs_background": "light"
     },
     "output_type": "display_data"
    }
   ],
   "source": [
    "plt.rcParams[\"figure.figsize\"] = (20,10)\n",
    "plt.subplot(3,2,1);\n",
    "plt.xlabel(\"Waiting\") \n",
    "plt.ylabel(\"Eruptions\")\n",
    "plt.scatter(Y[0],X[0],color = 'red',label=\"k=2\") \n",
    "\n",
    "plt.subplot(3,2,2);\n",
    "plt.xlabel(\"Waiting\") \n",
    "plt.ylabel(\"Eruptions\")\n",
    "plt.scatter(Y[1],X[1],label=\"k=4\")\n",
    "\n",
    "plt.subplot(3,2,3);\n",
    "plt.xlabel(\"Waiting\") \n",
    "plt.ylabel(\"Eruptions\")\n",
    "plt.scatter(Y[2],X[2],color = 'purple',label=\"k=6\") \n",
    "\n",
    "plt.subplot(3,2,4);\n",
    "plt.xlabel(\"Waiting\") \n",
    "plt.ylabel(\"Eruptions\")\n",
    "plt.scatter(Y[3],X[3],color='pink',label=\"k=8\")\n",
    "\n",
    "plt.subplot(3,2,5);\n",
    "plt.xlabel(\"Waiting\") \n",
    "plt.ylabel(\"Eruptions\") \n",
    "plt.scatter(Y[4],X[4],color = 'green',label=\"k=10\")\n",
    "\n",
    "plt.subplot(3,2,6);\n",
    "plt.xlabel(\"Waiting\") \n",
    "plt.ylabel(\"Eruptions\")\n",
    "plt.scatter(ff['waiting'],ff['eruptions'],color ='orange',label=\"original data\")"
   ]
  },
  {
   "cell_type": "markdown",
   "metadata": {},
   "source": [
    "## Part C: Discussion\n",
    "\n",
    "Which plot or plots look closest to the original data?  Depending on your interpretations of the elbow plot versus the simulated data, you may have decided that we wanted a different value of $k$ for the best model to *simulate* from rather than the best model to *cluster* or classify upon.  Do you think that this is normally the case?  Why or why not?  What properties of a data set would make one task easier or harder with more or less $k$?"
   ]
  },
  {
   "cell_type": "markdown",
   "metadata": {},
   "source": [
    "All the plots look similar to the original data. This is not normally the case because as we can see in this example the value of k is not that important (does not change much). If our data contains alot of outliers then higher value of k could help capture everything. "
   ]
  },
  {
   "cell_type": "markdown",
   "metadata": {},
   "source": [
    "\n",
    "\n",
    "# Problem 3 (Practice:k-means and clustering similarities; 20 pts)\n",
    "\n",
    "Our goal in this problem is to get a better understanding of two important facets of clustering: ways to compare between clusters and how much initialization might matter for e.g. kmeans.\n",
    "\n",
    "The code below loads up a well known dataset extracted from the 1974 Motor Trend US magazine, and comprises fuel consumption and 10 aspects of automobile design and performance for 32 automobiles (1973–74 models).  The columns are:\n",
    "\n",
    "- mpg:\tMiles/(US) gallon\n",
    "- cyl:\tNumber of cylinders\n",
    "- disp:\tDisplacement (cu.in.)\n",
    "-  hp:\tGross horsepower\n",
    "- drat:\tRear axle ratio\n",
    "- wt:\tWeight (1000 lbs)\n",
    "- qsec:\t1/4 mile time\n",
    "- vs:\tEngine (0 = V-shaped, 1 = straight)\n",
    "- am:\tTransmission (0 = automatic, 1 = manual)\n",
    "- gear:\tNumber of forward gears\n",
    "- carb:\tNumber of carburetors\n",
    "\n",
    "We're going to attempt to cluster this data using **4** of these columns: mpg, disp, wt, and qsec."
   ]
  },
  {
   "cell_type": "code",
   "execution_count": 5,
   "metadata": {},
   "outputs": [
    {
     "name": "stdout",
     "output_type": "stream",
     "text": [
      "                mpg  cyl   disp   hp  drat     wt   qsec  vs  am  gear  carb\n",
      "Mazda RX4      21.0    6  160.0  110  3.90  2.620  16.46   0   1     4     4\n",
      "Mazda RX4 Wag  21.0    6  160.0  110  3.90  2.875  17.02   0   1     4     4\n",
      "Datsun 710     22.8    4  108.0   93  3.85  2.320  18.61   1   1     4     1\n"
     ]
    },
    {
     "data": {
      "image/png": "[encoded data removed]",
      "text/plain": [
       "<Figure size 864x432 with 1 Axes>"
      ]
     },
     "metadata": {
      "needs_background": "light"
     },
     "output_type": "display_data"
    }
   ],
   "source": [
    "cars= sm.datasets.get_rdataset('mtcars').data\n",
    "print(cars.head(3))\n",
    "\n",
    "#example plot of mpg x hp\n",
    "fig, ax= plt.subplots(figsize=(12,6))\n",
    "plt.scatter(cars['mpg'], cars['hp'])\n",
    "ax.set_xlabel('mpg')\n",
    "ax.set_ylabel('hp');"
   ]
  },
  {
   "cell_type": "markdown",
   "metadata": {},
   "source": [
    "## Part A) K-means and Normalization: Intuition\n",
    "\n",
    "The first question we should ask is whether or not to normalize our data.  Use the pandas methods `describe` on the data frame.  What do you expect to happen if we cluster without normalizing the data?  Why?\n",
    "\n"
   ]
  },
  {
   "cell_type": "code",
   "execution_count": 6,
   "metadata": {},
   "outputs": [
    {
     "data": {
      "text/html": [
       "<div>\n",
       "<style scoped>\n",
       "    .dataframe tbody tr th:only-of-type {\n",
       "        vertical-align: middle;\n",
       "    }\n",
       "\n",
       "    .dataframe tbody tr th {\n",
       "        vertical-align: top;\n",
       "    }\n",
       "\n",
       "    .dataframe thead th {\n",
       "        text-align: right;\n",
       "    }\n",
       "</style>\n",
       "<table border=\"1\" class=\"dataframe\">\n",
       "  <thead>\n",
       "    <tr style=\"text-align: right;\">\n",
       "      <th></th>\n",
       "      <th>mpg</th>\n",
       "      <th>cyl</th>\n",
       "      <th>disp</th>\n",
       "      <th>hp</th>\n",
       "      <th>drat</th>\n",
       "      <th>wt</th>\n",
       "      <th>qsec</th>\n",
       "      <th>vs</th>\n",
       "      <th>am</th>\n",
       "      <th>gear</th>\n",
       "      <th>carb</th>\n",
       "    </tr>\n",
       "  </thead>\n",
       "  <tbody>\n",
       "    <tr>\n",
       "      <td>count</td>\n",
       "      <td>32.000000</td>\n",
       "      <td>32.000000</td>\n",
       "      <td>32.000000</td>\n",
       "      <td>32.000000</td>\n",
       "      <td>32.000000</td>\n",
       "      <td>32.000000</td>\n",
       "      <td>32.000000</td>\n",
       "      <td>32.000000</td>\n",
       "      <td>32.000000</td>\n",
       "      <td>32.000000</td>\n",
       "      <td>32.0000</td>\n",
       "    </tr>\n",
       "    <tr>\n",
       "      <td>mean</td>\n",
       "      <td>20.090625</td>\n",
       "      <td>6.187500</td>\n",
       "      <td>230.721875</td>\n",
       "      <td>146.687500</td>\n",
       "      <td>3.596563</td>\n",
       "      <td>3.217250</td>\n",
       "      <td>17.848750</td>\n",
       "      <td>0.437500</td>\n",
       "      <td>0.406250</td>\n",
       "      <td>3.687500</td>\n",
       "      <td>2.8125</td>\n",
       "    </tr>\n",
       "    <tr>\n",
       "      <td>std</td>\n",
       "      <td>6.026948</td>\n",
       "      <td>1.785922</td>\n",
       "      <td>123.938694</td>\n",
       "      <td>68.562868</td>\n",
       "      <td>0.534679</td>\n",
       "      <td>0.978457</td>\n",
       "      <td>1.786943</td>\n",
       "      <td>0.504016</td>\n",
       "      <td>0.498991</td>\n",
       "      <td>0.737804</td>\n",
       "      <td>1.6152</td>\n",
       "    </tr>\n",
       "    <tr>\n",
       "      <td>min</td>\n",
       "      <td>10.400000</td>\n",
       "      <td>4.000000</td>\n",
       "      <td>71.100000</td>\n",
       "      <td>52.000000</td>\n",
       "      <td>2.760000</td>\n",
       "      <td>1.513000</td>\n",
       "      <td>14.500000</td>\n",
       "      <td>0.000000</td>\n",
       "      <td>0.000000</td>\n",
       "      <td>3.000000</td>\n",
       "      <td>1.0000</td>\n",
       "    </tr>\n",
       "    <tr>\n",
       "      <td>25%</td>\n",
       "      <td>15.425000</td>\n",
       "      <td>4.000000</td>\n",
       "      <td>120.825000</td>\n",
       "      <td>96.500000</td>\n",
       "      <td>3.080000</td>\n",
       "      <td>2.581250</td>\n",
       "      <td>16.892500</td>\n",
       "      <td>0.000000</td>\n",
       "      <td>0.000000</td>\n",
       "      <td>3.000000</td>\n",
       "      <td>2.0000</td>\n",
       "    </tr>\n",
       "    <tr>\n",
       "      <td>50%</td>\n",
       "      <td>19.200000</td>\n",
       "      <td>6.000000</td>\n",
       "      <td>196.300000</td>\n",
       "      <td>123.000000</td>\n",
       "      <td>3.695000</td>\n",
       "      <td>3.325000</td>\n",
       "      <td>17.710000</td>\n",
       "      <td>0.000000</td>\n",
       "      <td>0.000000</td>\n",
       "      <td>4.000000</td>\n",
       "      <td>2.0000</td>\n",
       "    </tr>\n",
       "    <tr>\n",
       "      <td>75%</td>\n",
       "      <td>22.800000</td>\n",
       "      <td>8.000000</td>\n",
       "      <td>326.000000</td>\n",
       "      <td>180.000000</td>\n",
       "      <td>3.920000</td>\n",
       "      <td>3.610000</td>\n",
       "      <td>18.900000</td>\n",
       "      <td>1.000000</td>\n",
       "      <td>1.000000</td>\n",
       "      <td>4.000000</td>\n",
       "      <td>4.0000</td>\n",
       "    </tr>\n",
       "    <tr>\n",
       "      <td>max</td>\n",
       "      <td>33.900000</td>\n",
       "      <td>8.000000</td>\n",
       "      <td>472.000000</td>\n",
       "      <td>335.000000</td>\n",
       "      <td>4.930000</td>\n",
       "      <td>5.424000</td>\n",
       "      <td>22.900000</td>\n",
       "      <td>1.000000</td>\n",
       "      <td>1.000000</td>\n",
       "      <td>5.000000</td>\n",
       "      <td>8.0000</td>\n",
       "    </tr>\n",
       "  </tbody>\n",
       "</table>\n",
       "</div>"
      ],
      "text/plain": [
       "             mpg        cyl        disp          hp       drat         wt  \\\n",
       "count  32.000000  32.000000   32.000000   32.000000  32.000000  32.000000   \n",
       "mean   20.090625   6.187500  230.721875  146.687500   3.596563   3.217250   \n",
       "std     6.026948   1.785922  123.938694   68.562868   0.534679   0.978457   \n",
       "min    10.400000   4.000000   71.100000   52.000000   2.760000   1.513000   \n",
       "25%    15.425000   4.000000  120.825000   96.500000   3.080000   2.581250   \n",
       "50%    19.200000   6.000000  196.300000  123.000000   3.695000   3.325000   \n",
       "75%    22.800000   8.000000  326.000000  180.000000   3.920000   3.610000   \n",
       "max    33.900000   8.000000  472.000000  335.000000   4.930000   5.424000   \n",
       "\n",
       "            qsec         vs         am       gear     carb  \n",
       "count  32.000000  32.000000  32.000000  32.000000  32.0000  \n",
       "mean   17.848750   0.437500   0.406250   3.687500   2.8125  \n",
       "std     1.786943   0.504016   0.498991   0.737804   1.6152  \n",
       "min    14.500000   0.000000   0.000000   3.000000   1.0000  \n",
       "25%    16.892500   0.000000   0.000000   3.000000   2.0000  \n",
       "50%    17.710000   0.000000   0.000000   4.000000   2.0000  \n",
       "75%    18.900000   1.000000   1.000000   4.000000   4.0000  \n",
       "max    22.900000   1.000000   1.000000   5.000000   8.0000  "
      ]
     },
     "execution_count": 6,
     "metadata": {},
     "output_type": "execute_result"
    }
   ],
   "source": [
    "cars.describe()"
   ]
  },
  {
   "cell_type": "code",
   "execution_count": 7,
   "metadata": {},
   "outputs": [
    {
     "data": {
      "text/html": [
       "<div>\n",
       "<style scoped>\n",
       "    .dataframe tbody tr th:only-of-type {\n",
       "        vertical-align: middle;\n",
       "    }\n",
       "\n",
       "    .dataframe tbody tr th {\n",
       "        vertical-align: top;\n",
       "    }\n",
       "\n",
       "    .dataframe thead th {\n",
       "        text-align: right;\n",
       "    }\n",
       "</style>\n",
       "<table border=\"1\" class=\"dataframe\">\n",
       "  <thead>\n",
       "    <tr style=\"text-align: right;\">\n",
       "      <th></th>\n",
       "      <th>mpg</th>\n",
       "      <th>cyl</th>\n",
       "      <th>disp</th>\n",
       "      <th>hp</th>\n",
       "      <th>drat</th>\n",
       "      <th>wt</th>\n",
       "      <th>qsec</th>\n",
       "      <th>vs</th>\n",
       "      <th>am</th>\n",
       "      <th>gear</th>\n",
       "      <th>carb</th>\n",
       "    </tr>\n",
       "  </thead>\n",
       "  <tbody>\n",
       "    <tr>\n",
       "      <td>Mazda RX4</td>\n",
       "      <td>21.0</td>\n",
       "      <td>6</td>\n",
       "      <td>160.0</td>\n",
       "      <td>110</td>\n",
       "      <td>3.90</td>\n",
       "      <td>2.620</td>\n",
       "      <td>16.46</td>\n",
       "      <td>0</td>\n",
       "      <td>1</td>\n",
       "      <td>4</td>\n",
       "      <td>4</td>\n",
       "    </tr>\n",
       "    <tr>\n",
       "      <td>Mazda RX4 Wag</td>\n",
       "      <td>21.0</td>\n",
       "      <td>6</td>\n",
       "      <td>160.0</td>\n",
       "      <td>110</td>\n",
       "      <td>3.90</td>\n",
       "      <td>2.875</td>\n",
       "      <td>17.02</td>\n",
       "      <td>0</td>\n",
       "      <td>1</td>\n",
       "      <td>4</td>\n",
       "      <td>4</td>\n",
       "    </tr>\n",
       "    <tr>\n",
       "      <td>Datsun 710</td>\n",
       "      <td>22.8</td>\n",
       "      <td>4</td>\n",
       "      <td>108.0</td>\n",
       "      <td>93</td>\n",
       "      <td>3.85</td>\n",
       "      <td>2.320</td>\n",
       "      <td>18.61</td>\n",
       "      <td>1</td>\n",
       "      <td>1</td>\n",
       "      <td>4</td>\n",
       "      <td>1</td>\n",
       "    </tr>\n",
       "    <tr>\n",
       "      <td>Hornet 4 Drive</td>\n",
       "      <td>21.4</td>\n",
       "      <td>6</td>\n",
       "      <td>258.0</td>\n",
       "      <td>110</td>\n",
       "      <td>3.08</td>\n",
       "      <td>3.215</td>\n",
       "      <td>19.44</td>\n",
       "      <td>1</td>\n",
       "      <td>0</td>\n",
       "      <td>3</td>\n",
       "      <td>1</td>\n",
       "    </tr>\n",
       "    <tr>\n",
       "      <td>Hornet Sportabout</td>\n",
       "      <td>18.7</td>\n",
       "      <td>8</td>\n",
       "      <td>360.0</td>\n",
       "      <td>175</td>\n",
       "      <td>3.15</td>\n",
       "      <td>3.440</td>\n",
       "      <td>17.02</td>\n",
       "      <td>0</td>\n",
       "      <td>0</td>\n",
       "      <td>3</td>\n",
       "      <td>2</td>\n",
       "    </tr>\n",
       "    <tr>\n",
       "      <td>Valiant</td>\n",
       "      <td>18.1</td>\n",
       "      <td>6</td>\n",
       "      <td>225.0</td>\n",
       "      <td>105</td>\n",
       "      <td>2.76</td>\n",
       "      <td>3.460</td>\n",
       "      <td>20.22</td>\n",
       "      <td>1</td>\n",
       "      <td>0</td>\n",
       "      <td>3</td>\n",
       "      <td>1</td>\n",
       "    </tr>\n",
       "    <tr>\n",
       "      <td>Duster 360</td>\n",
       "      <td>14.3</td>\n",
       "      <td>8</td>\n",
       "      <td>360.0</td>\n",
       "      <td>245</td>\n",
       "      <td>3.21</td>\n",
       "      <td>3.570</td>\n",
       "      <td>15.84</td>\n",
       "      <td>0</td>\n",
       "      <td>0</td>\n",
       "      <td>3</td>\n",
       "      <td>4</td>\n",
       "    </tr>\n",
       "    <tr>\n",
       "      <td>Merc 240D</td>\n",
       "      <td>24.4</td>\n",
       "      <td>4</td>\n",
       "      <td>146.7</td>\n",
       "      <td>62</td>\n",
       "      <td>3.69</td>\n",
       "      <td>3.190</td>\n",
       "      <td>20.00</td>\n",
       "      <td>1</td>\n",
       "      <td>0</td>\n",
       "      <td>4</td>\n",
       "      <td>2</td>\n",
       "    </tr>\n",
       "    <tr>\n",
       "      <td>Merc 230</td>\n",
       "      <td>22.8</td>\n",
       "      <td>4</td>\n",
       "      <td>140.8</td>\n",
       "      <td>95</td>\n",
       "      <td>3.92</td>\n",
       "      <td>3.150</td>\n",
       "      <td>22.90</td>\n",
       "      <td>1</td>\n",
       "      <td>0</td>\n",
       "      <td>4</td>\n",
       "      <td>2</td>\n",
       "    </tr>\n",
       "    <tr>\n",
       "      <td>Merc 280</td>\n",
       "      <td>19.2</td>\n",
       "      <td>6</td>\n",
       "      <td>167.6</td>\n",
       "      <td>123</td>\n",
       "      <td>3.92</td>\n",
       "      <td>3.440</td>\n",
       "      <td>18.30</td>\n",
       "      <td>1</td>\n",
       "      <td>0</td>\n",
       "      <td>4</td>\n",
       "      <td>4</td>\n",
       "    </tr>\n",
       "  </tbody>\n",
       "</table>\n",
       "</div>"
      ],
      "text/plain": [
       "                    mpg  cyl   disp   hp  drat     wt   qsec  vs  am  gear  \\\n",
       "Mazda RX4          21.0    6  160.0  110  3.90  2.620  16.46   0   1     4   \n",
       "Mazda RX4 Wag      21.0    6  160.0  110  3.90  2.875  17.02   0   1     4   \n",
       "Datsun 710         22.8    4  108.0   93  3.85  2.320  18.61   1   1     4   \n",
       "Hornet 4 Drive     21.4    6  258.0  110  3.08  3.215  19.44   1   0     3   \n",
       "Hornet Sportabout  18.7    8  360.0  175  3.15  3.440  17.02   0   0     3   \n",
       "Valiant            18.1    6  225.0  105  2.76  3.460  20.22   1   0     3   \n",
       "Duster 360         14.3    8  360.0  245  3.21  3.570  15.84   0   0     3   \n",
       "Merc 240D          24.4    4  146.7   62  3.69  3.190  20.00   1   0     4   \n",
       "Merc 230           22.8    4  140.8   95  3.92  3.150  22.90   1   0     4   \n",
       "Merc 280           19.2    6  167.6  123  3.92  3.440  18.30   1   0     4   \n",
       "\n",
       "                   carb  \n",
       "Mazda RX4             4  \n",
       "Mazda RX4 Wag         4  \n",
       "Datsun 710            1  \n",
       "Hornet 4 Drive        1  \n",
       "Hornet Sportabout     2  \n",
       "Valiant               1  \n",
       "Duster 360            4  \n",
       "Merc 240D             2  \n",
       "Merc 230              2  \n",
       "Merc 280              4  "
      ]
     },
     "execution_count": 7,
     "metadata": {},
     "output_type": "execute_result"
    }
   ],
   "source": [
    "cars.head(10)"
   ]
  },
  {
   "cell_type": "markdown",
   "metadata": {},
   "source": [
    " We need to normalize sincne the four columns have different units. Thus making the difference between some columns look small (example: mpg and cyl) and some other columns to be big( mpg and disp) which is not accurate and does not account for units. When we nomalize our data, we make them unitless."
   ]
  },
  {
   "cell_type": "markdown",
   "metadata": {},
   "source": [
    "## Part B) K-means and Normalization: First Clusters \n",
    "\n",
    "Now do initial, unnormalized clustering for $k=3$.  Save the final cluster for each point.  Plot the final clusters on an `mpg` versus `disp` axis."
   ]
  },
  {
   "cell_type": "code",
   "execution_count": 4,
   "metadata": {},
   "outputs": [],
   "source": [
    "#return distance between points.\n",
    "def dist(x1, x2):\n",
    "    return np.sqrt(np.sum((x1-x2)**2)) #2-d euclidean distance\n"
   ]
  },
  {
   "cell_type": "code",
   "execution_count": 5,
   "metadata": {},
   "outputs": [],
   "source": [
    "#most of this is borrowed from class notebooks\n",
    "#Initialize\n",
    "K = 3\n",
    "X = np.array(cars[['mpg','disp']])\n",
    "x1_coords = [x[0] for x in X]\n",
    "centroids = np.array([X[x1_coords.index(min(x1_coords))], \\\n",
    "                      X[x1_coords.index(max(x1_coords))], \\\n",
    "                     X[x1_coords.index(np.median(x1_coords))]])\n",
    "dists = [0]*K\n",
    "unnorm_clusters = np.array([-1]*len(X))\n"
   ]
  },
  {
   "cell_type": "code",
   "execution_count": 6,
   "metadata": {},
   "outputs": [],
   "source": [
    "for _ in range(100): #100 steps is fine; or a tolerance/change check.\n",
    "    #update classifications\n",
    "    for j in range(len(X)):\n",
    "        dists = [dist(X[j], cent) for cent in centroids]\n",
    "        assignment = dists.index(min(dists))\n",
    "        unnorm_clusters[j] = assignment\n",
    "    #update centroids\n",
    "    for j in range(K):\n",
    "        centroids[j]=[np.sum(X[unnorm_clusters==j,0])/len(X[unnorm_clusters==j,0]),np.sum(X[unnorm_clusters==j,1])/len(X[unnorm_clusters==j,1])]\n"
   ]
  },
  {
   "cell_type": "code",
   "execution_count": 8,
   "metadata": {},
   "outputs": [
    {
     "data": {
      "image/png": "[encoded data removed]",
      "text/plain": [
       "<Figure size 360x360 with 1 Axes>"
      ]
     },
     "metadata": {
      "needs_background": "light"
     },
     "output_type": "display_data"
    }
   ],
   "source": [
    "#final cluster plot\n",
    "fig, ax = plt.subplots(1,1, figsize=(5,5))\n",
    "plt.scatter([x[0] for x in X], [x[1] for x in X], c=unnorm_clusters)\n",
    "plt.scatter([x[0] for x in centroids], [x[1] for x in centroids], c='red', marker='+')\n",
    "\n",
    "plt.axis([5, 50, 10, 500])\n",
    "plt.xlabel(\"mpg\")\n",
    "plt.ylabel(\"dist\")\n",
    "plt.show()\n"
   ]
  },
  {
   "cell_type": "markdown",
   "metadata": {},
   "source": [
    "## Part C) K-means and Normalization: An Alternative\n",
    "\n",
    "Normalize the 4 columns being used by replacing each with their Box-Muller transformation (for each column, subtract the mean of that column then divide by its standard deviation).  Repeat your clustering for $k=3$, again saving the final cluster for each point.  Plot the final clusters on an `mpg` versus `disp` axis.\n",
    "\n",
    "Then answer: do the clusterings look different?"
   ]
  },
  {
   "cell_type": "code",
   "execution_count": 9,
   "metadata": {},
   "outputs": [
    {
     "data": {
      "text/html": [
       "<div>\n",
       "<style scoped>\n",
       "    .dataframe tbody tr th:only-of-type {\n",
       "        vertical-align: middle;\n",
       "    }\n",
       "\n",
       "    .dataframe tbody tr th {\n",
       "        vertical-align: top;\n",
       "    }\n",
       "\n",
       "    .dataframe thead th {\n",
       "        text-align: right;\n",
       "    }\n",
       "</style>\n",
       "<table border=\"1\" class=\"dataframe\">\n",
       "  <thead>\n",
       "    <tr style=\"text-align: right;\">\n",
       "      <th></th>\n",
       "      <th>norm_mpg</th>\n",
       "      <th>norm_disp</th>\n",
       "      <th>norm_wt</th>\n",
       "      <th>norm_qsec</th>\n",
       "    </tr>\n",
       "  </thead>\n",
       "  <tbody>\n",
       "    <tr>\n",
       "      <td>Mazda RX4</td>\n",
       "      <td>0.150885</td>\n",
       "      <td>0.570620</td>\n",
       "      <td>0.610400</td>\n",
       "      <td>0.777165</td>\n",
       "    </tr>\n",
       "    <tr>\n",
       "      <td>Mazda RX4 Wag</td>\n",
       "      <td>0.150885</td>\n",
       "      <td>0.570620</td>\n",
       "      <td>0.349785</td>\n",
       "      <td>0.463781</td>\n",
       "    </tr>\n",
       "    <tr>\n",
       "      <td>Datsun 710</td>\n",
       "      <td>0.449543</td>\n",
       "      <td>0.990182</td>\n",
       "      <td>0.917005</td>\n",
       "      <td>0.426007</td>\n",
       "    </tr>\n",
       "    <tr>\n",
       "      <td>Hornet 4 Drive</td>\n",
       "      <td>0.217253</td>\n",
       "      <td>0.220094</td>\n",
       "      <td>0.002300</td>\n",
       "      <td>0.890487</td>\n",
       "    </tr>\n",
       "    <tr>\n",
       "      <td>Hornet Sportabout</td>\n",
       "      <td>0.230735</td>\n",
       "      <td>1.043081</td>\n",
       "      <td>0.227654</td>\n",
       "      <td>0.463781</td>\n",
       "    </tr>\n",
       "  </tbody>\n",
       "</table>\n",
       "</div>"
      ],
      "text/plain": [
       "                   norm_mpg  norm_disp   norm_wt  norm_qsec\n",
       "Mazda RX4          0.150885   0.570620  0.610400   0.777165\n",
       "Mazda RX4 Wag      0.150885   0.570620  0.349785   0.463781\n",
       "Datsun 710         0.449543   0.990182  0.917005   0.426007\n",
       "Hornet 4 Drive     0.217253   0.220094  0.002300   0.890487\n",
       "Hornet Sportabout  0.230735   1.043081  0.227654   0.463781"
      ]
     },
     "execution_count": 9,
     "metadata": {},
     "output_type": "execute_result"
    }
   ],
   "source": [
    "norm_cars =pd.DataFrame()\n",
    "for x in range(len(cars)):\n",
    "    norm_cars['norm_mpg'] = (abs(cars['mpg'] - cars['mpg'].mean())/cars['mpg'].std())\n",
    "    norm_cars['norm_disp'] = (abs(cars['disp'] - cars['disp'].mean())/cars['disp'].std())\n",
    "    norm_cars['norm_wt'] = (abs(cars['wt'] - cars['wt'].mean())/cars['wt'].std())\n",
    "    norm_cars['norm_qsec'] = (abs(cars['qsec'] - cars['qsec'].mean())/cars['qsec'].std())\n",
    "norm_cars.head()"
   ]
  },
  {
   "cell_type": "code",
   "execution_count": 11,
   "metadata": {},
   "outputs": [],
   "source": [
    "K = 3\n",
    "#however...\n",
    "X = np.array(norm_cars[['norm_mpg','norm_disp']])\n",
    "x1_coords = [x[0] for x in X]\n",
    "med=[np.median(x1_coords) , np.median(norm_cars['norm_disp'])]\n",
    "#print( med)\n",
    "#print(X['norm_disp'][x1_coords.index(min(x1_coords))])\n",
    "#centroids = np.array(min(x1_coords))\n",
    "centroids = np.array([X[x1_coords.index(min(x1_coords))], X[x1_coords.index(max(x1_coords))], med])\n",
    "#print(centroids)\n",
    "dists = [0]*K\n",
    "norm_clusters = np.array([-1]*len(X))\n"
   ]
  },
  {
   "cell_type": "code",
   "execution_count": 12,
   "metadata": {},
   "outputs": [
    {
     "name": "stdout",
     "output_type": "stream",
     "text": [
      "[0 0 0 0 0 0 2 2 0 0 0 0 0 2 1 1 2 1 1 1 0 2 2 2 0 2 2 1 2 0 2 0]\n"
     ]
    }
   ],
   "source": [
    "for _ in range(100): #100 steps is fine; or a tolerance/change check.\n",
    "    #update classifications\n",
    "    for j in range(len(X)):\n",
    "        dists = [dist(X[j], cent) for cent in centroids]\n",
    "        assignment = dists.index(min(dists))\n",
    "        norm_clusters[j] = assignment\n",
    "    #update centroids\n",
    "    for j in range(K):\n",
    "        centroids[j]=[np.sum(X[norm_clusters==j,0])/len(X[norm_clusters==j,0]),np.sum(X[norm_clusters==j,1])/len(X[norm_clusters==j,1])]\n",
    "\n",
    "print(norm_clusters)"
   ]
  },
  {
   "cell_type": "code",
   "execution_count": 13,
   "metadata": {},
   "outputs": [
    {
     "data": {
      "image/png": "[encoded data removed]",
      "text/plain": [
       "<Figure size 360x360 with 1 Axes>"
      ]
     },
     "metadata": {
      "needs_background": "light"
     },
     "output_type": "display_data"
    }
   ],
   "source": [
    "#final cluster plot\n",
    "fig, ax = plt.subplots(1,1, figsize=(5,5))\n",
    "plt.scatter([x[0] for x in X], [x[1] for x in X], c=norm_clusters)\n",
    "plt.scatter([x[0] for x in centroids], [x[1] for x in centroids], c='red', marker='+')\n",
    "\n",
    "plt.axis([0, 2, 0, 2])\n",
    "plt.xlabel(\"mpg\")\n",
    "plt.ylabel(\"dist\")\n",
    "plt.show()"
   ]
  },
  {
   "cell_type": "markdown",
   "metadata": {},
   "source": [
    "\n",
    "\n",
    "## Part D) The Rand Statistic\n",
    "We need to formalize wheter or not normalizing actually mattered, which requires a measurement of whether or not two clusterings are actually different from one another! \n",
    "\n",
    "To do this we are going to use the Rand statistic, with documentation here: \n",
    "\n",
    "https://scikit-learn.org/stable/modules/generated/sklearn.metrics.adjusted_rand_score.html\n",
    "\n",
    "Use the `adjusted_rand_score` metric loaded below and compare the two clusterings from parts A and B."
   ]
  },
  {
   "cell_type": "code",
   "execution_count": 14,
   "metadata": {},
   "outputs": [
    {
     "name": "stdout",
     "output_type": "stream",
     "text": [
      "1.0\n",
      "-0.49999999999999994\n",
      "0.025600910254586853\n"
     ]
    }
   ],
   "source": [
    "from sklearn.metrics.cluster import adjusted_rand_score\n",
    "print(adjusted_rand_score([1, 0, 1], [0,1,0])) #example that's actually the same assignments!\n",
    "print(adjusted_rand_score([1, 0, 1], [0,0,1])) #example: Rand score is negative if very different\n",
    "\n",
    "#How do your clusters compare?\n",
    "print(adjusted_rand_score(unnorm_clusters,norm_clusters))"
   ]
  },
  {
   "cell_type": "markdown",
   "metadata": {},
   "source": [
    " I got 0.0256 which is a small number, so my normalized and unnormalized clusters do not like the same! "
   ]
  },
  {
   "cell_type": "markdown",
   "metadata": {},
   "source": [
    "\n",
    "\n",
    "## Part E) ...and then repeat.\n",
    "\n",
    "Of course, it turns out that kmeans might *also* depend on initializations, and we want to make sure that random initializations aren't affecting your clusters in parts A and B.  One way to ensure that we don't get \"unlucky\" results is to repeat our experiment with many different initializations, and then choose the \"best\" one.  A Rand statistic gives us a mechanism to do this!\n",
    "\n",
    "\n",
    "### E. i) \n",
    "Run k-means 100 times for $k=3$ on the *unnormalized* data, each with a different random initialization.\n",
    "\n",
    "In other words, perform the following operations 100 times:\n",
    "\n",
    "    1) Initialize k-means by randomly selecting `k' of your data points\n",
    "    2) Run k-means until convergence\n",
    "    3) Save the final cluster for each point\n",
    "    \n",
    "    \n",
    "A few rows of your final k=3 output might be:\n",
    "\n",
    "`dfk3.head(3)'\n",
    "\n",
    "| Point # | Run1 | Run2 | Run3 | ... | Run 100 |\n",
    "| --- | --- |\n",
    "| 1 | 1 | 2 | 1| ... | 1 |\n",
    "| 2 | 3 | 1 | 3 | ... | 3|\n",
    "| 3 | 1 | 2 | 1 | ... | 1|\n",
    "\n",
    "(so in this example, points 1 & 3 were always in the same cluster, but point 2 was elsewhere)\n",
    "\n"
   ]
  },
  {
   "cell_type": "code",
   "execution_count": 15,
   "metadata": {},
   "outputs": [
    {
     "name": "stderr",
     "output_type": "stream",
     "text": [
      "C:\\Users\\Tamer\\Anaconda3\\lib\\site-packages\\ipykernel_launcher.py:25: RuntimeWarning: invalid value encountered in double_scalars\n"
     ]
    },
    {
     "name": "stdout",
     "output_type": "stream",
     "text": [
      "[2 2 2 1 0 1 0 2 2 2 2 1 1 1 0 0 0 2 2 2 2 1 1 0 0 2 2 2 0 2 1 2]\n"
     ]
    }
   ],
   "source": [
    "#Initialize\n",
    "K = 3\n",
    "X = np.array(cars[['mpg','disp']])\n",
    "x1_coords = [x[0] for x in X]\n",
    "unnorm_result = []\n",
    "for i in range(100):\n",
    "    #choose k random values from x1 coords\n",
    "    random_k = random.sample(x1_coords,K)\n",
    "\n",
    "    #match the k random values with their y values in order to get k centroids\n",
    "    centroids = np.array([X[x1_coords.index(random_k[0])], \\\n",
    "                          X[x1_coords.index(random_k[1])], \\\n",
    "                         X[x1_coords.index(random_k[2])]])\n",
    "    dists = [0]*K\n",
    "    unnorm_clusters = np.array([-1]*len(X))\n",
    "\n",
    "    for _ in range(100): #100 steps is fine; or a tolerance/change check.\n",
    "        #update classifications\n",
    "        for j in range(len(X)):\n",
    "            dists = [dist(X[j], cent) for cent in centroids]\n",
    "            assignment = dists.index(min(dists))\n",
    "            unnorm_clusters[j] = assignment\n",
    "        #update centroids\n",
    "        for j in range(K):\n",
    "            centroids[j]=[np.sum(X[unnorm_clusters==j,0])/len(X[unnorm_clusters==j,0]),np.sum(X[unnorm_clusters==j,1])/len(X[unnorm_clusters==j,1])]\n",
    "    unnorm_result.append(unnorm_clusters)\n",
    "print(unnorm_result[0])"
   ]
  },
  {
   "cell_type": "markdown",
   "metadata": {},
   "source": [
    "### E. ii) \n",
    "Run k-means 100 times for $k=3$ on the *normalized* data, each with a different random initialization.  Save the results in another data frame."
   ]
  },
  {
   "cell_type": "code",
   "execution_count": 16,
   "metadata": {},
   "outputs": [
    {
     "name": "stdout",
     "output_type": "stream",
     "text": [
      "(array([0, 0, 2, 0, 0, 0, 2, 2, 0, 0, 0, 0, 0, 0, 1, 1, 2, 1, 1, 1, 0, 2,\n",
      "       2, 2, 0, 1, 2, 1, 2, 0, 2, 0]), array([[0.34735091, 0.63362751],\n",
      "       [1.56674792, 1.17898511],\n",
      "       [0.78733188, 0.93625422]]))\n"
     ]
    }
   ],
   "source": [
    "#Initialize\n",
    "K = 3\n",
    "X = np.array(norm_cars[['norm_mpg','norm_disp']])\n",
    "x1_coords = [x[0] for x in X]\n",
    "norm_result = []\n",
    "for i in range(100):\n",
    "    #choose k random values from x1 coords\n",
    "    random_k = random.sample(x1_coords,K)\n",
    "\n",
    "    #match the k random values with their y values in order to get k centroids\n",
    "    centroids = np.array([X[x1_coords.index(random_k[0])], \\\n",
    "                          X[x1_coords.index(random_k[1])], \\\n",
    "                         X[x1_coords.index(random_k[2])]])\n",
    "    dists = [0]*K\n",
    "    norm_clusters = np.array([-1]*len(X))\n",
    "\n",
    "    for _ in range(100): #100 steps is fine; or a tolerance/change check.\n",
    "        #update classifications\n",
    "        for j in range(len(X)):\n",
    "            dists = [dist(X[j], cent) for cent in centroids]\n",
    "            assignment = dists.index(min(dists))\n",
    "            norm_clusters[j] = assignment\n",
    "        #update centroids\n",
    "        for j in range(K):\n",
    "            centroids[j]=[np.sum(X[unnorm_clusters==j,0])/len(X[unnorm_clusters==j,0]),np.sum(X[unnorm_clusters==j,1])/len(X[unnorm_clusters==j,1])]\n",
    "    norm_result.append((norm_clusters,centroids))\n",
    "print(norm_result[0])"
   ]
  },
  {
   "cell_type": "markdown",
   "metadata": {},
   "source": [
    "### E. iii) \n",
    "\n",
    "For the 100 runs on the unnormalized data, create a similarity matrix of all-pairwise Rand scores.  Select the run with the highest overall summed Rand scores as the \"most indicative run\" (note: this is actually the clustroid of the clusters, if we consider Rand similarity an approximate distance!).\n"
   ]
  },
  {
   "cell_type": "code",
   "execution_count": 18,
   "metadata": {},
   "outputs": [
    {
     "name": "stdout",
     "output_type": "stream",
     "text": [
      "[0 0 0 1 1 0 1 0 0 0 0 1 1 1 1 1 1 0 0 0 0 1 1 1 1 0 0 0 1 0 1 0]\n"
     ]
    }
   ],
   "source": [
    "scores =[] \n",
    "for i in range(len(unnorm_result)):\n",
    "    val = 0\n",
    "    for j in range(len(unnorm_result)):\n",
    "        val += adjusted_rand_score(unnorm_result[i],unnorm_result[j])\n",
    "    scores.append(val)\n",
    "most= unnorm_result[scores.index(max(scores))]\n",
    "print(most)"
   ]
  },
  {
   "cell_type": "markdown",
   "metadata": {},
   "source": [
    "\n",
    "### E. iv) \n",
    "\n",
    "For the 100 runs on the normalized data, create a similarity matrix of all-pairwise Rand scores.  Select the run with the highest overall summed Rand scores as the \"most indicative run\" (note: this is actually the clustroid of the clusters, if we consider Rand similarity an approximate distance!).\n",
    "\n"
   ]
  },
  {
   "cell_type": "code",
   "execution_count": 23,
   "metadata": {},
   "outputs": [
    {
     "name": "stdout",
     "output_type": "stream",
     "text": [
      "[0 0 2 0 0 0 2 2 0 0 0 0 0 0 1 1 2 1 1 1 0 2 2 2 0 1 2 1 2 0 2 0]\n"
     ]
    }
   ],
   "source": [
    "scores =[] \n",
    "for i in range(len(norm_result)):\n",
    "    val = 0\n",
    "    for j in range(len(norm_result)):\n",
    "        val += adjusted_rand_score(norm_result[i][0],norm_result[j][0])\n",
    "    scores.append(val)\n",
    "most1= norm_result[scores.index(max(scores))]\n",
    "print(most1[0])"
   ]
  },
  {
   "cell_type": "markdown",
   "metadata": {},
   "source": [
    "### E. v)  \n",
    "\n",
    "Compare the two runs selected by parts E.iii and E.iv.  Are they identical, or can we definititely say that normalization effects the clustering in this problem?\n"
   ]
  },
  {
   "cell_type": "code",
   "execution_count": 24,
   "metadata": {},
   "outputs": [
    {
     "name": "stdout",
     "output_type": "stream",
     "text": [
      "0.02370212416960546\n"
     ]
    }
   ],
   "source": [
    "print(adjusted_rand_score(most,most1[0]))"
   ]
  },
  {
   "cell_type": "markdown",
   "metadata": {},
   "source": [
    "They are not identical, beucase their rand scores is kind of low. "
   ]
  },
  {
   "cell_type": "markdown",
   "metadata": {},
   "source": [
    "## Part F) Visualize\n",
    "Plot the best $k=3$ cluster resulting from clustering the *normalized* data, but use the original data scale in the plot.  Use mpg versus displacement for the axes.  Color the clusters, and label each point with the car name."
   ]
  },
  {
   "cell_type": "code",
   "execution_count": 29,
   "metadata": {},
   "outputs": [
    {
     "data": {
      "image/png": "[encoded data removed]",
      "text/plain": [
       "<Figure size 360x360 with 1 Axes>"
      ]
     },
     "metadata": {
      "needs_background": "light"
     },
     "output_type": "display_data"
    }
   ],
   "source": [
    "#final cluster plot\n",
    "fig, ax = plt.subplots(1,1, figsize=(5,5))\n",
    "plt.scatter([x[0] for x in X], [x[1] for x in X], c=most1[0])\n",
    "#plt.scatter([x[0] for x in most1[0]], [x[1] for x in most1[1]], c='red', marker='+')\n",
    "\n",
    "plt.axis([0, 3, 0, 3])\n",
    "plt.xlabel(\"x1\")\n",
    "plt.ylabel(\"x2\")\n",
    "plt.show()"
   ]
  },
  {
   "cell_type": "code",
   "execution_count": null,
   "metadata": {},
   "outputs": [],
   "source": []
  }
 ],
 "metadata": {
  "kernelspec": {
   "display_name": "Python 3",
   "language": "python",
   "name": "python3"
  },
  "language_info": {
   "codemirror_mode": {
    "name": "ipython",
    "version": 3
   },
   "file_extension": ".py",
   "mimetype": "text/x-python",
   "name": "python",
   "nbconvert_exporter": "python",
   "pygments_lexer": "ipython3",
   "version": "3.7.4"
  }
 },
 "nbformat": 4,
 "nbformat_minor": 2
}
