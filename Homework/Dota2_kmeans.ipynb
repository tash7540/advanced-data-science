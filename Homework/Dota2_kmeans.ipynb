{
 "cells": [
  {
   "cell_type": "markdown",
   "metadata": {},
   "source": [
    "# Dota2 Heroes KMeans Clustering\n",
    "***\n",
    "\n",
    "\n",
    "\n",
    "\n",
    "The purpose of this project is to cluster Dota2 heroes into two groups, core heroes and support heroes. In a Dota2 match, it is expected from the cores heroes to have a higher rate of growths than the support heroes. I will be clustering Dota2 heroes into cores and supports based on the amount of gold and experience they earn per minute. "
   ]
  },
  {
   "cell_type": "code",
   "execution_count": 1,
   "metadata": {},
   "outputs": [],
   "source": [
    "import matplotlib.pyplot as plt\n",
    "%matplotlib inline\n",
    "import numpy as np\n",
    "import pandas as pd"
   ]
  },
  {
   "cell_type": "markdown",
   "metadata": {},
   "source": [
    "**The Data**\n",
    "\n",
    "\n",
    "The first data frame (df) contains imformation about Dota2 matches, which includes stuff like match id,hero id, gold per minute and experience per minute. The second data frame (df_hero) simply links each hero id to their actual hero name (i will merge the two dataframes at some point). "
   ]
  },
  {
   "cell_type": "code",
   "execution_count": 2,
   "metadata": {},
   "outputs": [],
   "source": [
    "df = pd.read_csv('/users/tamer/desktop/advanced_ds/data/players.csv')\n",
    "df_hero = pd.read_csv('/users/tamer/desktop/advanced_ds/data/hero_names.csv')"
   ]
  },
  {
   "cell_type": "raw",
   "metadata": {},
   "source": [
    "The dataset contains many unneeded columns that we should drop"
   ]
  },
  {
   "cell_type": "code",
   "execution_count": 3,
   "metadata": {},
   "outputs": [
    {
     "data": {
      "text/html": [
       "<div>\n",
       "<style scoped>\n",
       "    .dataframe tbody tr th:only-of-type {\n",
       "        vertical-align: middle;\n",
       "    }\n",
       "\n",
       "    .dataframe tbody tr th {\n",
       "        vertical-align: top;\n",
       "    }\n",
       "\n",
       "    .dataframe thead th {\n",
       "        text-align: right;\n",
       "    }\n",
       "</style>\n",
       "<table border=\"1\" class=\"dataframe\">\n",
       "  <thead>\n",
       "    <tr style=\"text-align: right;\">\n",
       "      <th></th>\n",
       "      <th>match_id</th>\n",
       "      <th>account_id</th>\n",
       "      <th>hero_id</th>\n",
       "      <th>player_slot</th>\n",
       "      <th>gold_per_min</th>\n",
       "      <th>xp_per_min</th>\n",
       "    </tr>\n",
       "  </thead>\n",
       "  <tbody>\n",
       "    <tr>\n",
       "      <td>0</td>\n",
       "      <td>0</td>\n",
       "      <td>0</td>\n",
       "      <td>86</td>\n",
       "      <td>0</td>\n",
       "      <td>347</td>\n",
       "      <td>362</td>\n",
       "    </tr>\n",
       "    <tr>\n",
       "      <td>1</td>\n",
       "      <td>0</td>\n",
       "      <td>1</td>\n",
       "      <td>51</td>\n",
       "      <td>1</td>\n",
       "      <td>494</td>\n",
       "      <td>659</td>\n",
       "    </tr>\n",
       "    <tr>\n",
       "      <td>2</td>\n",
       "      <td>0</td>\n",
       "      <td>0</td>\n",
       "      <td>83</td>\n",
       "      <td>2</td>\n",
       "      <td>350</td>\n",
       "      <td>385</td>\n",
       "    </tr>\n",
       "    <tr>\n",
       "      <td>3</td>\n",
       "      <td>0</td>\n",
       "      <td>2</td>\n",
       "      <td>11</td>\n",
       "      <td>3</td>\n",
       "      <td>599</td>\n",
       "      <td>605</td>\n",
       "    </tr>\n",
       "    <tr>\n",
       "      <td>4</td>\n",
       "      <td>0</td>\n",
       "      <td>3</td>\n",
       "      <td>67</td>\n",
       "      <td>4</td>\n",
       "      <td>613</td>\n",
       "      <td>762</td>\n",
       "    </tr>\n",
       "    <tr>\n",
       "      <td>5</td>\n",
       "      <td>0</td>\n",
       "      <td>4</td>\n",
       "      <td>106</td>\n",
       "      <td>128</td>\n",
       "      <td>397</td>\n",
       "      <td>524</td>\n",
       "    </tr>\n",
       "    <tr>\n",
       "      <td>6</td>\n",
       "      <td>0</td>\n",
       "      <td>0</td>\n",
       "      <td>102</td>\n",
       "      <td>129</td>\n",
       "      <td>303</td>\n",
       "      <td>369</td>\n",
       "    </tr>\n",
       "    <tr>\n",
       "      <td>7</td>\n",
       "      <td>0</td>\n",
       "      <td>5</td>\n",
       "      <td>46</td>\n",
       "      <td>130</td>\n",
       "      <td>452</td>\n",
       "      <td>517</td>\n",
       "    </tr>\n",
       "    <tr>\n",
       "      <td>8</td>\n",
       "      <td>0</td>\n",
       "      <td>0</td>\n",
       "      <td>7</td>\n",
       "      <td>131</td>\n",
       "      <td>189</td>\n",
       "      <td>223</td>\n",
       "    </tr>\n",
       "    <tr>\n",
       "      <td>9</td>\n",
       "      <td>0</td>\n",
       "      <td>6</td>\n",
       "      <td>73</td>\n",
       "      <td>132</td>\n",
       "      <td>496</td>\n",
       "      <td>456</td>\n",
       "    </tr>\n",
       "  </tbody>\n",
       "</table>\n",
       "</div>"
      ],
      "text/plain": [
       "   match_id  account_id  hero_id  player_slot  gold_per_min  xp_per_min\n",
       "0         0           0       86            0           347         362\n",
       "1         0           1       51            1           494         659\n",
       "2         0           0       83            2           350         385\n",
       "3         0           2       11            3           599         605\n",
       "4         0           3       67            4           613         762\n",
       "5         0           4      106          128           397         524\n",
       "6         0           0      102          129           303         369\n",
       "7         0           5       46          130           452         517\n",
       "8         0           0        7          131           189         223\n",
       "9         0           6       73          132           496         456"
      ]
     },
     "execution_count": 3,
     "metadata": {},
     "output_type": "execute_result"
    }
   ],
   "source": [
    "col_names = df.columns.tolist()\n",
    "#need to drop unnecessary columns\n",
    "df.drop(columns = col_names[8:],axis = 0,inplace = True)\n",
    "df.drop(columns = col_names[4:6],axis = 0,inplace = True)\n",
    "df.head(10)"
   ]
  },
  {
   "cell_type": "markdown",
   "metadata": {},
   "source": [
    "It is time to prepare the data. First, I want to link each hero name to each hero_id. Second, we need to find the mean gold and experience per minute earned by each hero (grouped by heroes)"
   ]
  },
  {
   "cell_type": "code",
   "execution_count": 4,
   "metadata": {},
   "outputs": [
    {
     "data": {
      "text/html": [
       "<div>\n",
       "<style scoped>\n",
       "    .dataframe tbody tr th:only-of-type {\n",
       "        vertical-align: middle;\n",
       "    }\n",
       "\n",
       "    .dataframe tbody tr th {\n",
       "        vertical-align: top;\n",
       "    }\n",
       "\n",
       "    .dataframe thead th {\n",
       "        text-align: right;\n",
       "    }\n",
       "</style>\n",
       "<table border=\"1\" class=\"dataframe\">\n",
       "  <thead>\n",
       "    <tr style=\"text-align: right;\">\n",
       "      <th></th>\n",
       "      <th>gold_per_min</th>\n",
       "      <th>xp_per_min</th>\n",
       "    </tr>\n",
       "    <tr>\n",
       "      <th>hero</th>\n",
       "      <th></th>\n",
       "      <th></th>\n",
       "    </tr>\n",
       "  </thead>\n",
       "  <tbody>\n",
       "    <tr>\n",
       "      <td>Abaddon</td>\n",
       "      <td>363.055287</td>\n",
       "      <td>417.260725</td>\n",
       "    </tr>\n",
       "    <tr>\n",
       "      <td>Alchemist</td>\n",
       "      <td>709.545455</td>\n",
       "      <td>577.001832</td>\n",
       "    </tr>\n",
       "    <tr>\n",
       "      <td>Ancient Apparition</td>\n",
       "      <td>313.147046</td>\n",
       "      <td>324.378054</td>\n",
       "    </tr>\n",
       "    <tr>\n",
       "      <td>Anti-Mage</td>\n",
       "      <td>554.192742</td>\n",
       "      <td>580.392827</td>\n",
       "    </tr>\n",
       "    <tr>\n",
       "      <td>Axe</td>\n",
       "      <td>400.109107</td>\n",
       "      <td>442.938274</td>\n",
       "    </tr>\n",
       "  </tbody>\n",
       "</table>\n",
       "</div>"
      ],
      "text/plain": [
       "                    gold_per_min  xp_per_min\n",
       "hero                                        \n",
       "Abaddon               363.055287  417.260725\n",
       "Alchemist             709.545455  577.001832\n",
       "Ancient Apparition    313.147046  324.378054\n",
       "Anti-Mage             554.192742  580.392827\n",
       "Axe                   400.109107  442.938274"
      ]
     },
     "execution_count": 4,
     "metadata": {},
     "output_type": "execute_result"
    }
   ],
   "source": [
    "hero_lookup = dict(zip(df_hero['hero_id'],df_hero['localized_name']))\n",
    "hero_lookup[0] = 'unknown'\n",
    "name =[]\n",
    "\n",
    "for index in df['hero_id']:\n",
    "    name.append(hero_lookup[index])\n",
    "    \n",
    "df['hero']=name\n",
    "clean_df = df.groupby('hero').agg({'gold_per_min': 'mean', 'xp_per_min':'mean'})\n",
    "clean_df.head(5)"
   ]
  },
  {
   "cell_type": "markdown",
   "metadata": {},
   "source": [
    "Lets plot the data."
   ]
  },
  {
   "cell_type": "code",
   "execution_count": 6,
   "metadata": {},
   "outputs": [
    {
     "data": {
      "image/png": "[encoded data removed]",
      "text/plain": [
       "<Figure size 864x432 with 1 Axes>"
      ]
     },
     "metadata": {
      "needs_background": "light"
     },
     "output_type": "display_data"
    }
   ],
   "source": [
    "#example plot of mpg x hp\n",
    "fig, ax= plt.subplots(figsize=(12,6))\n",
    "plt.scatter(clean_df['gold_per_min'], clean_df['xp_per_min'])\n",
    "plt.axis([250, 600, 250, 700])\n",
    "ax.set_xlabel('Gold Per Minute')\n",
    "ax.set_ylabel('Exp Per minute');"
   ]
  },
  {
   "cell_type": "markdown",
   "metadata": {},
   "source": [
    "So lets start out Kmean! We are clustering into two groups so k =2. We need a distance measure, here we use euclidean distance. We pick the smallest and biggest x values as our initial centroids"
   ]
  },
  {
   "cell_type": "code",
   "execution_count": 7,
   "metadata": {},
   "outputs": [],
   "source": [
    "#return distance between points.\n",
    "def dist(x1, x2):\n",
    "    return np.sqrt(np.sum((x1-x2)**2)) #2-d euclidean distance\n"
   ]
  },
  {
   "cell_type": "code",
   "execution_count": 8,
   "metadata": {},
   "outputs": [
    {
     "name": "stdout",
     "output_type": "stream",
     "text": [
      "\n"
     ]
    }
   ],
   "source": [
    "#most of this is borrowed from class notebooks\n",
    "#Initialize\n",
    "K = 2\n",
    "print()\n",
    "X = np.array(clean_df[['gold_per_min','xp_per_min']])\n",
    "x1_coords = [x[0] for x in X]\n",
    "centroids = np.array([X[x1_coords.index(min(x1_coords))], \\\n",
    "                      X[x1_coords.index(max(x1_coords))]])\n",
    "dists = [0]*K\n",
    "unnorm_clusters = np.array([-1]*len(X))\n"
   ]
  },
  {
   "cell_type": "markdown",
   "metadata": {},
   "source": [
    "Run Kmeans until convergence. Here we decided that 100 steps are enough"
   ]
  },
  {
   "cell_type": "code",
   "execution_count": 9,
   "metadata": {},
   "outputs": [],
   "source": [
    "for _ in range(100): #100 steps is fine; or a tolerance/change check.\n",
    "    #update classifications\n",
    "    for j in range(len(X)):\n",
    "        dists = [dist(X[j], cent) for cent in centroids]\n",
    "        assignment = dists.index(min(dists))\n",
    "        unnorm_clusters[j] = assignment\n",
    "    #update centroids\n",
    "    for j in range(K):\n",
    "        centroids[j]=[np.sum(X[unnorm_clusters==j,0])/len(X[unnorm_clusters==j,0]),np.sum(X[unnorm_clusters==j,1])/len(X[unnorm_clusters==j,1])]\n"
   ]
  },
  {
   "cell_type": "markdown",
   "metadata": {},
   "source": [
    "Finally lets assign heroes to their clusters. if the return cluster by the algorithm is 1 then it is a Core and if it is a 0 then the hero is a support."
   ]
  },
  {
   "cell_type": "code",
   "execution_count": 14,
   "metadata": {},
   "outputs": [
    {
     "data": {
      "text/html": [
       "<div>\n",
       "<style scoped>\n",
       "    .dataframe tbody tr th:only-of-type {\n",
       "        vertical-align: middle;\n",
       "    }\n",
       "\n",
       "    .dataframe tbody tr th {\n",
       "        vertical-align: top;\n",
       "    }\n",
       "\n",
       "    .dataframe thead th {\n",
       "        text-align: right;\n",
       "    }\n",
       "</style>\n",
       "<table border=\"1\" class=\"dataframe\">\n",
       "  <thead>\n",
       "    <tr style=\"text-align: right;\">\n",
       "      <th></th>\n",
       "      <th>gold_per_min</th>\n",
       "      <th>xp_per_min</th>\n",
       "      <th>clusters</th>\n",
       "      <th>cluster_num</th>\n",
       "    </tr>\n",
       "    <tr>\n",
       "      <th>hero</th>\n",
       "      <th></th>\n",
       "      <th></th>\n",
       "      <th></th>\n",
       "      <th></th>\n",
       "    </tr>\n",
       "  </thead>\n",
       "  <tbody>\n",
       "    <tr>\n",
       "      <td>Abaddon</td>\n",
       "      <td>363.055287</td>\n",
       "      <td>417.260725</td>\n",
       "      <td>Support</td>\n",
       "      <td>0</td>\n",
       "    </tr>\n",
       "    <tr>\n",
       "      <td>Alchemist</td>\n",
       "      <td>709.545455</td>\n",
       "      <td>577.001832</td>\n",
       "      <td>Core</td>\n",
       "      <td>1</td>\n",
       "    </tr>\n",
       "    <tr>\n",
       "      <td>Ancient Apparition</td>\n",
       "      <td>313.147046</td>\n",
       "      <td>324.378054</td>\n",
       "      <td>Support</td>\n",
       "      <td>0</td>\n",
       "    </tr>\n",
       "    <tr>\n",
       "      <td>Anti-Mage</td>\n",
       "      <td>554.192742</td>\n",
       "      <td>580.392827</td>\n",
       "      <td>Core</td>\n",
       "      <td>1</td>\n",
       "    </tr>\n",
       "    <tr>\n",
       "      <td>Axe</td>\n",
       "      <td>400.109107</td>\n",
       "      <td>442.938274</td>\n",
       "      <td>Core</td>\n",
       "      <td>1</td>\n",
       "    </tr>\n",
       "    <tr>\n",
       "      <td>Bane</td>\n",
       "      <td>295.293380</td>\n",
       "      <td>336.720329</td>\n",
       "      <td>Support</td>\n",
       "      <td>0</td>\n",
       "    </tr>\n",
       "    <tr>\n",
       "      <td>Batrider</td>\n",
       "      <td>362.856736</td>\n",
       "      <td>418.428843</td>\n",
       "      <td>Support</td>\n",
       "      <td>0</td>\n",
       "    </tr>\n",
       "    <tr>\n",
       "      <td>Beastmaster</td>\n",
       "      <td>384.134814</td>\n",
       "      <td>426.685170</td>\n",
       "      <td>Support</td>\n",
       "      <td>0</td>\n",
       "    </tr>\n",
       "    <tr>\n",
       "      <td>Bloodseeker</td>\n",
       "      <td>447.641746</td>\n",
       "      <td>494.835927</td>\n",
       "      <td>Core</td>\n",
       "      <td>1</td>\n",
       "    </tr>\n",
       "    <tr>\n",
       "      <td>Bounty Hunter</td>\n",
       "      <td>412.049610</td>\n",
       "      <td>367.763727</td>\n",
       "      <td>Support</td>\n",
       "      <td>0</td>\n",
       "    </tr>\n",
       "    <tr>\n",
       "      <td>Brewmaster</td>\n",
       "      <td>398.559613</td>\n",
       "      <td>464.077336</td>\n",
       "      <td>Core</td>\n",
       "      <td>1</td>\n",
       "    </tr>\n",
       "    <tr>\n",
       "      <td>Bristleback</td>\n",
       "      <td>413.542597</td>\n",
       "      <td>471.585073</td>\n",
       "      <td>Core</td>\n",
       "      <td>1</td>\n",
       "    </tr>\n",
       "    <tr>\n",
       "      <td>Broodmother</td>\n",
       "      <td>441.521534</td>\n",
       "      <td>495.042396</td>\n",
       "      <td>Core</td>\n",
       "      <td>1</td>\n",
       "    </tr>\n",
       "    <tr>\n",
       "      <td>Centaur Warrunner</td>\n",
       "      <td>387.332795</td>\n",
       "      <td>442.988691</td>\n",
       "      <td>Core</td>\n",
       "      <td>1</td>\n",
       "    </tr>\n",
       "    <tr>\n",
       "      <td>Chaos Knight</td>\n",
       "      <td>443.296928</td>\n",
       "      <td>479.189846</td>\n",
       "      <td>Core</td>\n",
       "      <td>1</td>\n",
       "    </tr>\n",
       "    <tr>\n",
       "      <td>Chen</td>\n",
       "      <td>321.965458</td>\n",
       "      <td>316.015544</td>\n",
       "      <td>Support</td>\n",
       "      <td>0</td>\n",
       "    </tr>\n",
       "    <tr>\n",
       "      <td>Clinkz</td>\n",
       "      <td>462.727309</td>\n",
       "      <td>507.654699</td>\n",
       "      <td>Core</td>\n",
       "      <td>1</td>\n",
       "    </tr>\n",
       "    <tr>\n",
       "      <td>Clockwerk</td>\n",
       "      <td>356.846547</td>\n",
       "      <td>394.757498</td>\n",
       "      <td>Support</td>\n",
       "      <td>0</td>\n",
       "    </tr>\n",
       "    <tr>\n",
       "      <td>Crystal Maiden</td>\n",
       "      <td>314.668876</td>\n",
       "      <td>346.943411</td>\n",
       "      <td>Support</td>\n",
       "      <td>0</td>\n",
       "    </tr>\n",
       "    <tr>\n",
       "      <td>Dark Seer</td>\n",
       "      <td>400.823181</td>\n",
       "      <td>429.100498</td>\n",
       "      <td>Core</td>\n",
       "      <td>1</td>\n",
       "    </tr>\n",
       "  </tbody>\n",
       "</table>\n",
       "</div>"
      ],
      "text/plain": [
       "                    gold_per_min  xp_per_min clusters  cluster_num\n",
       "hero                                                              \n",
       "Abaddon               363.055287  417.260725  Support            0\n",
       "Alchemist             709.545455  577.001832     Core            1\n",
       "Ancient Apparition    313.147046  324.378054  Support            0\n",
       "Anti-Mage             554.192742  580.392827     Core            1\n",
       "Axe                   400.109107  442.938274     Core            1\n",
       "Bane                  295.293380  336.720329  Support            0\n",
       "Batrider              362.856736  418.428843  Support            0\n",
       "Beastmaster           384.134814  426.685170  Support            0\n",
       "Bloodseeker           447.641746  494.835927     Core            1\n",
       "Bounty Hunter         412.049610  367.763727  Support            0\n",
       "Brewmaster            398.559613  464.077336     Core            1\n",
       "Bristleback           413.542597  471.585073     Core            1\n",
       "Broodmother           441.521534  495.042396     Core            1\n",
       "Centaur Warrunner     387.332795  442.988691     Core            1\n",
       "Chaos Knight          443.296928  479.189846     Core            1\n",
       "Chen                  321.965458  316.015544  Support            0\n",
       "Clinkz                462.727309  507.654699     Core            1\n",
       "Clockwerk             356.846547  394.757498  Support            0\n",
       "Crystal Maiden        314.668876  346.943411  Support            0\n",
       "Dark Seer             400.823181  429.100498     Core            1"
      ]
     },
     "execution_count": 14,
     "metadata": {},
     "output_type": "execute_result"
    }
   ],
   "source": [
    "cluster_num = []\n",
    "for i in range(len(clean_df)):\n",
    "    cluster_num.append(unnorm_clusters[i])\n",
    "cluster =[]\n",
    "for i in cluster_num:\n",
    "    if i == 1:\n",
    "        cluster.append('Core')\n",
    "    elif i == 0:\n",
    "        cluster.append(\"Support\")\n",
    "clean_df['cluster_num'] = cluster_num\n",
    "clean_df['clusters'] = cluster\n",
    "clean_df.head(20)"
   ]
  },
  {
   "cell_type": "markdown",
   "metadata": {},
   "source": [
    "The above results pass sanity check. We expect heroes like Alchemist anti-mage to be core since they have high rate of growth and we expect heros like Bane and Chen to be support heroes since they have lower rate of growth."
   ]
  },
  {
   "cell_type": "code",
   "execution_count": 255,
   "metadata": {},
   "outputs": [
    {
     "data": {
      "image/png": "[encoded data removed]",
      "text/plain": [
       "<Figure size 360x360 with 1 Axes>"
      ]
     },
     "metadata": {
      "needs_background": "light"
     },
     "output_type": "display_data"
    }
   ],
   "source": [
    "#final cluster plot\n",
    "fig, ax = plt.subplots(1,1, figsize=(5,5))\n",
    "plt.scatter([x[0] for x in X], [x[1] for x in X], c=unnorm_clusters)\n",
    "plt.scatter([x[0] for x in centroids], [x[1] for x in centroids], c='red', marker='+')\n",
    "\n",
    "plt.axis([250, 600, 300, 700])\n",
    "plt.xlabel(\"Gold/Min\")\n",
    "plt.ylabel(\"Exp/Min\")\n",
    "plt.show()\n"
   ]
  },
  {
   "cell_type": "code",
   "execution_count": 23,
   "metadata": {},
   "outputs": [
    {
     "data": {
      "image/png": "[encoded data removed]",
      "text/plain": [
       "<Figure size 576x288 with 1 Axes>"
      ]
     },
     "metadata": {
      "needs_background": "light"
     },
     "output_type": "display_data"
    }
   ],
   "source": [
    "fig, ax = plt.subplots(figsize=(8,4))\n",
    "\n",
    "# Plot histogram \n",
    "clean_df.hist(column=\"cluster_num\", ax=ax,bins = range(-1,4));\n",
    "ax.grid(alpha=0.25)\n",
    "# Add a title\n",
    "ax.set_title(\"Dota2 Hero clusters\", fontsize=20)\n",
    "# Add xis labels \n",
    "ax.set_xlabel(\"Hero cluster\", fontsize=16)\n",
    "ax.set_ylabel(\"Frequency\", fontsize=16)\n",
    "ax.set_axisbelow(True)\n"
   ]
  }
 ],
 "metadata": {
  "kernelspec": {
   "display_name": "Python 3",
   "language": "python",
   "name": "python3"
  },
  "language_info": {
   "codemirror_mode": {
    "name": "ipython",
    "version": 3
   },
   "file_extension": ".py",
   "mimetype": "text/x-python",
   "name": "python",
   "nbconvert_exporter": "python",
   "pygments_lexer": "ipython3",
   "version": "3.7.4"
  }
 },
 "nbformat": 4,
 "nbformat_minor": 2
}
