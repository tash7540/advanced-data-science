{
 "cells": [
  {
   "cell_type": "markdown",
   "metadata": {},
   "source": [
    "# CSCI4022 Homework 1; Review\n",
    "\n",
    "## Due Monday, February 1 at 11:59 pm to Canvas\n",
    "\n",
    "#### Submit this file as a .ipynb with *all cells compiled and run* to the associated dropbox.\n",
    "\n",
    "***\n",
    "\n",
    "Your solutions to computational questions should include any specified Python code and results as well as written commentary on your conclusions.  Remember that you are encouraged to discuss the problems with your classmates, but **you must write all code and solutions on your own**.\n",
    "\n",
    "**NOTES**: \n",
    "\n",
    "- Any relevant data sets should be available on Canvas. To make life easier on the graders if they need to run your code, do not change the relative path names here. Instead, move the files around on your computer.\n",
    "- If you're not familiar with typesetting math directly into Markdown then by all means, do your work on paper first and then typeset it later.  Here is a [reference guide](https://math.meta.stackexchange.com/questions/5020/mathjax-basic-tutorial-and-quick-reference) linked on Canvas on writing math in Markdown. **All** of your written commentary, justifications and mathematical work should be in Markdown.  I also recommend the [wikibook](https://en.wikibooks.org/wiki/LaTeX) for LaTex.\n",
    "- Because you can technically evaluate notebook cells is a non-linear order, it's a good idea to do **Kernel $\\rightarrow$ Restart & Run All** as a check before submitting your solutions.  That way if we need to run your code you will know that it will work as expected. \n",
    "- It is **bad form** to make your reader interpret numerical output from your code.  If a question asks you to compute some value from the data you should show your code output **AND** write a summary of the results in Markdown directly below your code. \n",
    "- 45 points of this assignment are in problems.  The remaining 5 are for neatness, style, and overall exposition of both code and text.\n",
    "- This probably goes without saying, but... For any question that asks you to calculate something, you **must show all work and justify your answers to receive credit**. Sparse or nonexistent work will receive sparse or nonexistent credit. \n",
    "- There is *not a prescribed API* for these problems.  You may answer coding questions with whatever syntax or object typing you deem fit.  Your evaluation will primarily live in the clarity of how well you present your final results, so don't skip over any interpretations!  Your code should still be commented and readable to ensure you followed the given course algorithm.\n",
    "\n",
    "---"
   ]
  },
  {
   "cell_type": "code",
   "execution_count": 11,
   "metadata": {},
   "outputs": [],
   "source": [
    "import matplotlib.pyplot as plt\n",
    "import numpy as np\n",
    "import pandas as pd\n",
    "import random\n",
    "import seaborn as sns\n",
    "import math"
   ]
  },
  {
   "cell_type": "markdown",
   "metadata": {},
   "source": [
    "## Problem 1 (Numerics... kind of; 15 points)\n",
    "\n",
    "####  a) Solve for $b$ in the matrix-vector product $$\\begin{bmatrix}a_1 & a_2 \\\\ a_3 & a_4\\end{bmatrix} \\cdot \\begin{bmatrix}x_1\\\\ x_2\\end{bmatrix}=b.$$\n",
    "\n",
    "####  How many computations does this take, if each multiplication and addition is counted as a separate computation?  \n",
    "\n",
    " #### What about for\n",
    "\n",
    "$$\\begin{bmatrix}a_1 & a_2 &a_3 \\\\ a_4 & a_5 &a_6 \\\\ a_7&a_8&a_9 \\end{bmatrix} \\cdot \\begin{bmatrix}x_1\\\\ x_2\\\\x_3\\end{bmatrix}=b?$$\n",
    "\n",
    "Use the following markdown cell to show all work in computing the exact answer.\n"
   ]
  },
  {
   "cell_type": "markdown",
   "metadata": {},
   "source": [
    "The following solution takes 6 computations:\n",
    "\\begin{bmatrix}a_1 \\cdot x_1 + a_2\\cdot x_2 \\\\ a_3\\cdot x_1 + a_4 \\cdot x_2\\end{bmatrix}\n",
    "\n",
    "The follow solution takes 15 computations:\n",
    "\\begin{bmatrix}a_1 \\cdot x_1 + a_2\\cdot x_2 + a_3\\cdot x_3 \\\\ a_4\\cdot x_1 + a_5 \\cdot x_2 + a_6\\cdot x_3  \\\\ a_7\\cdot x_1 + a_8 \\cdot x_2 + a_9\\cdot x_3  \\end{bmatrix}\n"
   ]
  },
  {
   "cell_type": "markdown",
   "metadata": {},
   "source": [
    "\n",
    "####  b) How many computations does matrix-vector computation take if the matrix $A$ is a square $n \\times n$ matrix and the vector $x$ is $n \\times 1$? \n",
    "\n",
    "Visually:\n",
    "\n",
    "$$\\begin{bmatrix} \n",
    "    a_{11} & a_{12} & \\dots \\\\\n",
    "    \\vdots & \\ddots & \\\\\n",
    "    a_{n1} &        & a_{nn} \n",
    "    \\end{bmatrix}  \\cdot \\begin{bmatrix}x_1\\\\ \\vdots \\\\x_n\\end{bmatrix}=b$$\n",
    "\n",
    "Use the following markdown cell to show all work in computing the exact answer.\n"
   ]
  },
  {
   "cell_type": "markdown",
   "metadata": {},
   "source": [
    "Solution: Multiplications took n x n computations, and additions took (n-1) x n computations, so the following solution took n x n + (n-1)x n computations in total\n",
    "$$\\begin{bmatrix} \n",
    "    a_{11} \\cdot x_1 & a_{12} \\cdot x_2 & \\dots \\\\\n",
    "    \\vdots & \\ddots & \\\\\n",
    "    a_{n1} \\cdot x_1 &        & a_{nn} \\cdot x_n \n",
    "    \\end{bmatrix}$$"
   ]
  },
  {
   "cell_type": "markdown",
   "metadata": {},
   "source": [
    "#### c) How many computations does square matrix-matrix multiplication take if each matrix is $n \\times n$? \n",
    "\n",
    "For example:\n",
    "\n",
    "$$\\begin{bmatrix} \n",
    "    a_{11} & a_{12} & \\dots \\\\\n",
    "    \\vdots & \\ddots & \\\\\n",
    "    a_{n1} &        & a_{nn} \n",
    "    \\end{bmatrix} \\cdot \n",
    "    \\begin{bmatrix} \n",
    "    b_{11} & b_{12} & \\dots \\\\\n",
    "    \\vdots & \\ddots & \\\\\n",
    "    b_{n1} &        & b_{nn} \n",
    "    \\end{bmatrix}=C$$\n",
    "    \n",
    "Hint: how many computations for the entry $c_{ij}$ in row $i$, column $j$?\n",
    "\n",
    "If $n=10^4$, what number is this?"
   ]
  },
  {
   "cell_type": "markdown",
   "metadata": {},
   "source": [
    "Solution: each entry in C will take n multiplications and (n-1) additions, so n + (n-1) computations. There are n x n of them, so $n \\cdot n \\cdot ( n +(n-1)) = n^3 +n^3 - n^2$. "
   ]
  },
  {
   "cell_type": "markdown",
   "metadata": {},
   "source": [
    "## Problem 3 (Distances and Plots; 15 points)\n",
    "\n",
    "In this problem we will create what's known as a [*variogram*](https://en.wikipedia.org/wiki/Variogram), a plot that describes how much \"distance between inputs matters\" on a function that inputs locations and outputs some other variable of interest.  Click on the link to see what a variogram often looks like.\n",
    "\n",
    "Variograms involve similar groupings to histograms, but instead of grouping data points by their actual values, they group *distances* (Euclidean, $L_2$ norm) between data points together on the $x$ axis.\n",
    "\n",
    "We consider 4 functions.  f1 and f2 below are smooth, well defined trig functions, although one has a shorter period and larger amplitude than the other.  f3 and f4 add random noise - uniform and normal, respectively - to those first functions.\n",
    "\n",
    "Note also the given code includes a way to plot 3D data (input $x_1$, $x_2$, output $f(x_1,x_2)$) in python as a heat map."
   ]
  },
  {
   "cell_type": "code",
   "execution_count": 96,
   "metadata": {},
   "outputs": [],
   "source": [
    "x = np.linspace(0, 1, 20)\n",
    "y = np.linspace(0, 1, 20)\n",
    "X, Y = np.meshgrid(x, y)\n",
    "\n",
    "def f1(x, y):\n",
    "    return np.sin(7*x+7)+3*np.sin(6*y)\n",
    "Z1 = f1(X, Y)\n",
    "\n",
    "def f2(x, y):\n",
    "    return np.sin(10*x)+np.cos(10*y)\n",
    "Z2 = f2(X, Y)\n",
    "random.seed(4022)\n",
    "Z3=Z1+(np.random.rand(20, 20))\n",
    "Z4=Z2+(np.random.normal(0, 1, size=(20,20)))\n"
   ]
  },
  {
   "cell_type": "code",
   "execution_count": 97,
   "metadata": {
    "scrolled": true
   },
   "outputs": [
    {
     "data": {
      "text/plain": [
       "Text(0.5, 1, 'Function 4: 2 plus normals')"
      ]
     },
     "execution_count": 97,
     "metadata": {},
     "output_type": "execute_result"
    },
    {
     "data": {
      "image/png": "[encoded data removed]",
      "text/plain": [
       "<Figure size 1080x720 with 8 Axes>"
      ]
     },
     "metadata": {
      "needs_background": "light"
     },
     "output_type": "display_data"
    }
   ],
   "source": [
    "fig, axs = plt.subplots(2, 2,figsize=(15,10))\n",
    "sns.heatmap(Z1, ax=axs[0,0])\n",
    "axs[0,0].set_title('Function 1: long period')\n",
    "sns.heatmap(Z2, ax=axs[0,1])\n",
    "axs[0,1].set_title('Function 2: shorter period')\n",
    "sns.heatmap(Z3, ax=axs[1,0])\n",
    "axs[1,0].set_title('Function 3: 1 plus uniforms')\n",
    "sns.heatmap(Z4, ax=axs[1,1])\n",
    "axs[1,1].set_title('Function 4: 2 plus normals')"
   ]
  },
  {
   "cell_type": "markdown",
   "metadata": {},
   "source": [
    "### Creating your own Variogram\n",
    "\n",
    "For each of the 4 data sets, perform the following calculations, then create a 2x2 plot corresponding to the figure above where you depict the *variograms* of the 4 data sets.\n",
    "\n",
    "##### a) Calculate all pairwise distances\n",
    "\n",
    "Suppose we have a function $f$.  To create a variogram of $f$ given a set of observations,\n",
    "\n",
    "- Take each and every pair of distinct data values $x=(x_1,x_2)$ and $y=(y_1,y_2)$, and computes the distance between those inputs $d((x_1, x_2), (y_1, y_2))$ and the squared distance between their outputs, $(f(x)-f(y))^2$.  If we had $n$ total data points there are $\\binom{n}{2}$ such pairs.\n",
    "\n",
    "Starting with the given code, you can get this by creating tuples out of the `X` and `Y` arrays.\n",
    "\n",
    "Note that your distance matrix might be as large as $400\\times 400$ for the given problem, although you may only need to fill around half of it due to its symmetry.\n",
    "\n",
    "NB: You may also choose to create a numpy array of distances instead of a matrix if you prefer!\n",
    "\n",
    "You should also calculate all pairwise squared deviations $(f(x)-f(y))^2$ in the same or a similar structure to your distance object."
   ]
  },
  {
   "cell_type": "code",
   "execution_count": 98,
   "metadata": {},
   "outputs": [],
   "source": [
    "#this cell computes deviations and put them in list deviation\n",
    "def calc_deviation(Z):\n",
    "    holder = []\n",
    "    deviation = []\n",
    "    for i in range(20):\n",
    "    \n",
    "        for j in range(20):\n",
    "        \n",
    "            holder.append(Z[i][j])\n",
    "        \n",
    "    for i in range(len(holder)):\n",
    "    #print(h[i])\n",
    "        for j in range(i +1 , len(holder)):\n",
    "        \n",
    "            deviation.append((holder[i] - holder[j])**2)\n",
    "    return deviation\n",
    "\n",
    "Z1_deviation = calc_deviation(Z1)\n",
    "Z2_deviation = calc_deviation(Z2)\n",
    "Z3_deviation = calc_deviation(Z3)\n",
    "Z4_deviation = calc_deviation(Z4)"
   ]
  },
  {
   "cell_type": "code",
   "execution_count": 99,
   "metadata": {},
   "outputs": [],
   "source": [
    "#cell computes distances\n",
    "def calc_distance(X,Y):\n",
    "    holder = []\n",
    "    distance = []\n",
    "    for i in range(20):\n",
    "        for j in range(20):\n",
    "            \n",
    "            holder.append((X[i][j],Y[i][j]))\n",
    "\n",
    "    for i in range(400):\n",
    "    \n",
    "        for j in range(i+1,400):\n",
    "            \n",
    "            distance.append(math.sqrt(((holder[i][0] - holder[j][0])**2 )+ (holder[i][1] - holder[j][1])**2))\n",
    "    \n",
    "    return distance\n",
    "\n",
    "distance  = calc_distance(X,Y)"
   ]
  },
  {
   "cell_type": "markdown",
   "metadata": {},
   "source": [
    "##### b) bin your data by distance\n",
    "\n",
    "You should now have two lists/objects/matrices of total entires equal to $\\binom{400}{2}$.  One holds distances, the other squared differences of $f$.\n",
    "\n",
    "- Create \"bins\" as in a histogram.  Starting at $d=0$ and ending at the maximum observed distance, group each of the $(d(x,y), (f(x)-f(y))^2))$ pair into 20 total bins according to their distance.  So some points will go into the interval from $$[0, \\frac{\\max_{x,y} d(x,y)}{20}),$$ some into $$[\\frac{\\max_{x,y} d(x,y)}{20},2 \\frac{\\max_{x,y} d(x,y)}{20}),$$, and so forth."
   ]
  },
  {
   "cell_type": "code",
   "execution_count": 100,
   "metadata": {},
   "outputs": [],
   "source": [
    "bins = np.arange(0, max(distance), max(distance)/20) # this creates a list conntaining 20 bin sizes of the desired length.\n",
    "distance_bins =[[],[],[],[],[],[],[],[],[],[],[],[],[],[],[],[],[],[],[],[]] #silly way to get this done\n",
    "Z1_dev_bins = [[],[],[],[],[],[],[],[],[],[],[],[],[],[],[],[],[],[],[],[]]\n",
    "Z2_dev_bins = [[],[],[],[],[],[],[],[],[],[],[],[],[],[],[],[],[],[],[],[]]\n",
    "Z3_dev_bins = [[],[],[],[],[],[],[],[],[],[],[],[],[],[],[],[],[],[],[],[]]\n",
    "Z4_dev_bins = [[],[],[],[],[],[],[],[],[],[],[],[],[],[],[],[],[],[],[],[]]\n",
    "for i in range(len(distance)):\n",
    "    \n",
    "    counter = 0\n",
    "    for j in range(1,21):\n",
    "        \n",
    "        if (j == 20):\n",
    "            j = 19 # makes sure i dont access bins[20] (which dont exist)\n",
    "            \n",
    "        if ( distance[i] < bins[j]):\n",
    "            distance_bins[counter].append(distance[i])\n",
    "            Z1_dev_bins[counter].append(Z1_deviation[i])\n",
    "            Z2_dev_bins[counter].append(Z2_deviation[i])\n",
    "            Z3_dev_bins[counter].append(Z3_deviation[i])\n",
    "            Z4_dev_bins[counter].append(Z4_deviation[i])\n",
    "\n",
    "            break\n",
    "            \n",
    "        if( counter == 19 and distance[i] >= bins[j]):\n",
    "            distance_bins[counter].append(distance[i])\n",
    "            Z1_dev_bins[counter].append(Z1_deviation[i])\n",
    "            Z2_dev_bins[counter].append(Z2_deviation[i])\n",
    "            Z3_dev_bins[counter].append(Z3_deviation[i])\n",
    "            Z4_dev_bins[counter].append(Z4_deviation[i])\n",
    "\n",
    "            break\n",
    "            \n",
    "        counter = counter + 1\n",
    "        \n"
   ]
  },
  {
   "cell_type": "markdown",
   "metadata": {},
   "source": [
    "##### c) Create local averages\n",
    "\n",
    "For each of the (hundreds!) of points within each bin, take the mean value of the $(f(x)-f(y))^2))$ deviations in that bin.\n",
    "\n",
    "You should have a list of 20 average values.\n"
   ]
  },
  {
   "cell_type": "code",
   "execution_count": 101,
   "metadata": {},
   "outputs": [],
   "source": [
    "avg_dist = []\n",
    "Z1_avg_dev = []\n",
    "Z2_avg_dev = []\n",
    "Z3_avg_dev = []\n",
    "Z4_avg_dev = []\n",
    "\n",
    "for i in range(20):\n",
    "    avg_dist.append(np.mean(distance_bins[i]))\n",
    "    Z1_avg_dev.append(np.mean(Z1_dev_bins[i]))\n",
    "    Z2_avg_dev.append(np.mean(Z2_dev_bins[i]))\n",
    "    Z3_avg_dev.append(np.mean(Z3_dev_bins[i]))\n",
    "    Z4_avg_dev.append(np.mean(Z4_dev_bins[i]))\n"
   ]
  },
  {
   "cell_type": "markdown",
   "metadata": {},
   "source": [
    "##### d) Create variograms\n",
    "\n",
    "A variogram is a line plot with the center of each bin (the bins in part b) on the $x$-axis and the average squared deviation of points within that bin (found in part c) on the $y$-axis.\n",
    "\n",
    "In the same 2x2 structure as the given code at the start of the problem, plot the 4 variograms for $F1, F2, F3,$ and $F4).\n"
   ]
  },
  {
   "cell_type": "code",
   "execution_count": 102,
   "metadata": {},
   "outputs": [
    {
     "data": {
      "image/png": "[encoded data removed]",
      "text/plain": [
       "<Figure size 432x288 with 4 Axes>"
      ]
     },
     "metadata": {
      "needs_background": "light"
     },
     "output_type": "display_data"
    }
   ],
   "source": [
    "plt.subplot(2,2,1);\n",
    "plt.title(\"Variogram(Long period)\") \n",
    "plt.xlabel(\"Distance\") \n",
    "plt.ylabel(\"Deviation\") \n",
    "plt.plot(avg_dist,Z1_avg_dev,color = 'red',label=\"without noise\") \n",
    "\n",
    "plt.subplot(2,2,2);\n",
    "plt.title(\"Variogram2(Short Period)\") \n",
    "plt.xlabel(\"Distance\") \n",
    "plt.ylabel(\"Deviation\")\n",
    "plt.plot(avg_dist,Z2_avg_dev,label=\"without noise\") \n",
    "\n",
    "\n",
    "plt.subplot(2,2,3);\n",
    "plt.xlabel(\"Distance\") \n",
    "plt.ylabel(\"Deviation\")\n",
    "plt.plot(avg_dist,Z3_avg_dev,color = 'red',label=\"with noise\") \n",
    "\n",
    "plt.subplot(2,2,4);\n",
    "plt.xlabel(\"Distance\") \n",
    "plt.ylabel(\"Deviation\") \n",
    "plt.plot(avg_dist,Z4_avg_dev,label=\"with noise\") \n",
    "plt.show()"
   ]
  },
  {
   "cell_type": "markdown",
   "metadata": {},
   "source": [
    "##### e) Interpret the variograms.  What do different values or features on the variograms appear to correspond to in terms of the shapes of the functions and added randomness of the 4 data sets?\n"
   ]
  },
  {
   "cell_type": "markdown",
   "metadata": {},
   "source": [
    "The long Period function and long period with uniform noise (red graphs) looks exactly the same. While the short period function and short period with normal noise (blue graphs) looks almost identical but the later changed its behavior towards the end. This kinda behavior seems to be related to normal noise. "
   ]
  },
  {
   "cell_type": "markdown",
   "metadata": {},
   "source": [
    "## Problem 3 (Hypothesis Simulation; 15 points)\n"
   ]
  },
  {
   "cell_type": "markdown",
   "metadata": {},
   "source": [
    "One question we will often be tasked with in the semester is asking what \"random\" looks like.  In hypothesis testing, we typically ask \"what is the probability of observing *this* test statistic if everything is fair/random.\"  We can then do so for a variety of test statistics (`Z`, `T`, proportions, sample variances, etc.) to draw conclusions like \"That doesn't look random!  It's extremely unlikely to happen under the **null hypothesis**, so we reject that hypothesis.\"\n",
    "\n",
    "As we develop new tools this semester, simulation can help us determine what our tools do if everything is random, which helps provide context to the answers we get on real data - which ideally includes a real signal in it that we want to discover."
   ]
  },
  {
   "cell_type": "markdown",
   "metadata": {},
   "source": [
    "### How correlated is really correlated?\n",
    "\n",
    "The code below simulates from the bivariate normal distribution, which we'll use later this semester.  In brief, it simulates a list of points (called `rnorms` below) as an $j \\times 2$ array where each of the `j` rows is an $(x,y)$ point.  We can either simulate these two column vectors $X$ and $Y$ so they're actually independent and the true correlation coefficient $\\rho_{xy}=0$ OR we can simulate them with actual correlations included.\n",
    "\n",
    "We want to know how much correlation is required for us to be able to meaningfully detect it.  Note that our simulated \"*sample*\" correlation coefficients never actually match the true value!\n",
    "\n",
    "Example code:"
   ]
  },
  {
   "cell_type": "code",
   "execution_count": 140,
   "metadata": {},
   "outputs": [
    {
     "name": "stdout",
     "output_type": "stream",
     "text": [
      "Blue correlation coefficient: [[1.00000e+00 8.88224e-04]\n",
      " [8.88224e-04 1.00000e+00]]\n",
      "Red correlation coefficient: [[1.         0.77250756]\n",
      " [0.77250756 1.        ]]\n"
     ]
    },
    {
     "data": {
      "text/plain": [
       "<matplotlib.collections.PathCollection at 0x1f504a36088>"
      ]
     },
     "execution_count": 140,
     "metadata": {},
     "output_type": "execute_result"
    },
    {
     "data": {
      "image/png": "[encoded data removed]",
      "text/plain": [
       "<Figure size 432x288 with 1 Axes>"
      ]
     },
     "metadata": {
      "needs_background": "light"
     },
     "output_type": "display_data"
    }
   ],
   "source": [
    "rho=0\n",
    "rnorms=np.random.multivariate_normal([0,0], [[1,rho],[rho,1]],50)  #sample of size j=50 indepenent N(0,1)\n",
    "print('Blue correlation coefficient:', np.corrcoef(rnorms[:,0],y=rnorms[:,1]))\n",
    "plt.scatter(rnorms[:,0],y=rnorms[:,1]) #sanity check... do they look uncorrelated?\n",
    "\n",
    "\n",
    "rho=.8\n",
    "rnorms=np.random.multivariate_normal([0,0], [[1,rho],[rho,1]],50)  #sample of size j=50 rho=.8 N(0,1)\n",
    "print('Red correlation coefficient:', np.corrcoef(rnorms[:,0],y=rnorms[:,1]))\n",
    "plt.scatter(rnorms[:,0],y=rnorms[:,1]) #sanity check... do they look correlated?\n"
   ]
  },
  {
   "cell_type": "markdown",
   "metadata": {},
   "source": [
    "##### a) Our goal is to understand at what point we can actually tell whether or not things are correlated. To this end, let the example code above guide you to code that allows you to:\n",
    "\n",
    " - i) Generate a sample of `j=10` bivariate normals (of mean 0, variance 1) that are uncorrelated.  Calculate the correlation of this sample.\n",
    " - ii) Repeat step `i` 1000 times.  Save all 1000 correlation coefficients.\n",
    " - iii) Repeat steps `i` and `ii` for `j=100` and `j=1000`.  We now have 3000 correlation coefficients across 3 values of `j`.\n",
    " \n"
   ]
  },
  {
   "cell_type": "code",
   "execution_count": 141,
   "metadata": {},
   "outputs": [
    {
     "name": "stdout",
     "output_type": "stream",
     "text": [
      "correlation coefficient for sample of size 10: [[ 1.         -0.41967899]\n",
      " [-0.41967899  1.        ]]\n",
      "correlation coefficient for sample of size 100: [[ 1.         -0.00690269]\n",
      " [-0.00690269  1.        ]]\n",
      "correlation coefficient for sample of size 1000: [[ 1.         -0.07475866]\n",
      " [-0.07475866  1.        ]]\n"
     ]
    }
   ],
   "source": [
    "rho=0 #  means uncorrelated\n",
    "\n",
    "rnorms=np.random.multivariate_normal([0,0], [[1,rho],[rho,1]],10)  #sample of size j=10 indepenent N(0,1)\n",
    "print('correlation coefficient for sample of size 10:', np.corrcoef(rnorms[:,0],y=rnorms[:,1]))\n",
    "\n",
    "cor_cof_10 = []\n",
    "cor_cof_100 = []\n",
    "cor_cof_1000 = []\n",
    "\n",
    "for i in range(1000):\n",
    "\n",
    "    rnorms=np.random.multivariate_normal([0,0], [[1,rho],[rho,1]],10)  #sample of size j=10 indepenent N(0,1)\n",
    "    cor_cof_10.append((np.corrcoef(rnorms[:,0],y=rnorms[:,1]))[0][1])\n",
    "    \n",
    "    \n",
    "rnorms=np.random.multivariate_normal([0,0], [[1,rho],[rho,1]],100)  #sample of size j=100 indepenent N(0,1)\n",
    "print('correlation coefficient for sample of size 100:', np.corrcoef(rnorms[:,0],y=rnorms[:,1]))\n",
    "for i in range(1000):\n",
    "\n",
    "    rnorms=np.random.multivariate_normal([0,0], [[1,rho],[rho,1]],100)\n",
    "    cor_cof_100.append((np.corrcoef(rnorms[:,0],y=rnorms[:,1]))[0][1])\n",
    "    \n",
    "rnorms=np.random.multivariate_normal([0,0], [[1,rho],[rho,1]],1000)  #sample of size j=1000 indepenent N(0,1)\n",
    "print('correlation coefficient for sample of size 1000:', np.corrcoef(rnorms[:,0],y=rnorms[:,1]))\n",
    "for i in range(1000):\n",
    "\n",
    "    rnorms=np.random.multivariate_normal([0,0], [[1,rho],[rho,1]],1000)  \n",
    "    cor_cof_1000.append((np.corrcoef(rnorms[:,0],y=rnorms[:,1]))[0][1])\n",
    "\n",
    "sorted_10 = sorted(cor_cof_10)\n",
    "sorted_100 = sorted(cor_cof_100)\n",
    "sorted_1000 = sorted(cor_cof_1000)\n",
    "\n"
   ]
  },
  {
   "cell_type": "markdown",
   "metadata": {},
   "source": [
    "Consider testing the null hypothesis:\n",
    "  - $H_0:$ These samples are uncorrelated\n",
    "  \n",
    "  against the alternative\n",
    "  \n",
    "  - $H_a:$ These samples have $\\rho_{xy} \\ne 0$.\n",
    "  \n",
    "#### b) At what sample correlations do we reject the null hypothesis if we set a probability of Type I error equal to .05?\n",
    "\n",
    "This defines the *rejection region* for a statistical test of whether correlation is nonzero!"
   ]
  },
  {
   "cell_type": "code",
   "execution_count": 142,
   "metadata": {},
   "outputs": [
    {
     "name": "stdout",
     "output_type": "stream",
     "text": [
      "rejection region for sample 10 is anything below  -0.6561620338528428 and anything higher than 0.623717561771556\n",
      "rejection region for sample 100 is anything below  -0.20804870582655352 and anything higher than 0.20387347409918571\n",
      "rejection region for sample 1000 is anything below  -0.06347490860053541 and anything higher than 0.0610881904923884\n"
     ]
    }
   ],
   "source": [
    "# rejection region here is anything below the .25 percentile and anything higher than .975 percentile. we have 1000 data values.\n",
    "#we reject the null hypo if our sample correlation is between the following:\n",
    "\n",
    "print('rejection region for sample 10 is anything below ', sorted_10[25], \"and anything higher than\", sorted_10[975])\n",
    "print('rejection region for sample 100 is anything below ', sorted_100[25], \"and anything higher than\", sorted_100[975])\n",
    "print('rejection region for sample 1000 is anything below ', sorted_1000[25], \"and anything higher than\", sorted_1000[975])"
   ]
  },
  {
   "cell_type": "markdown",
   "metadata": {},
   "source": [
    "#### c) Use additional simulations as in part a) to determine the power of our test in b) when `j=10`, `j=100`, and `j=1000` if the true correlation coefficient is $\\rho=.1$.\n",
    "\n",
    "Recall: power is defined as the probability of rejecting the null hypothesis - or being in the rejection region from part b) - when the true correlation was nonzero.  "
   ]
  },
  {
   "cell_type": "code",
   "execution_count": 143,
   "metadata": {},
   "outputs": [
    {
     "name": "stdout",
     "output_type": "stream",
     "text": [
      "0.065\n",
      "0.16\n",
      "0.893\n"
     ]
    }
   ],
   "source": [
    "rho=.1 #  means correlated\n",
    "\n",
    "cor_cof_10 = []\n",
    "cor_cof_100 = []\n",
    "cor_cof_1000 = []\n",
    "\n",
    "for i in range(1000):\n",
    "\n",
    "    rnorms=np.random.multivariate_normal([0,0], [[1,rho],[rho,1]],10)  #sample of size j=10 indepenent N(0,1)\n",
    "    cor_cof_10.append((np.corrcoef(rnorms[:,0],y=rnorms[:,1]))[0][1])\n",
    "    \n",
    "    \n",
    "for i in range(1000):\n",
    "\n",
    "    rnorms=np.random.multivariate_normal([0,0], [[1,rho],[rho,1]],100)\n",
    "    cor_cof_100.append((np.corrcoef(rnorms[:,0],y=rnorms[:,1]))[0][1])\n",
    "    \n",
    "for i in range(1000):\n",
    "\n",
    "    rnorms=np.random.multivariate_normal([0,0], [[1,rho],[rho,1]],1000)  \n",
    "    cor_cof_1000.append((np.corrcoef(rnorms[:,0],y=rnorms[:,1]))[0][1])\n",
    "\n",
    "#sorted_10 = sorted(cor_cof_10)\n",
    "#sorted_100 = sorted(cor_cof_100)\n",
    "#sorted_1000 = sorted(cor_cof_1000)\n",
    "\n",
    "counter_10 = 0\n",
    "counter_100 = 0\n",
    "counter_1000 = 0\n",
    "\n",
    "for i in range(1000):\n",
    "    if cor_cof_10[i] < sorted_10[25] or cor_cof_10[i] > sorted_10[975]:\n",
    "        counter_10 = counter_10 + 1\n",
    "    if cor_cof_100[i] < sorted_100[25] or cor_cof_100[i] > sorted_100[975]:\n",
    "        counter_100 = counter_100 + 1\n",
    "    if cor_cof_1000[i] < sorted_1000[25] or cor_cof_1000[i] > sorted_1000[975]:\n",
    "        counter_1000 = counter_1000 + 1\n",
    "print( counter_10/1000)\n",
    "print(counter_100/1000)\n",
    "print(counter_1000/1000)\n",
    "\n"
   ]
  },
  {
   "cell_type": "markdown",
   "metadata": {},
   "source": [
    "#### d) Use additional simulations as in part a) to determine the power of our test in b) when `j=10`, `j=100`, and `j=1000` if the true correlation coefficient is $\\rho=-.1$.  Should this differ from part c)?"
   ]
  },
  {
   "cell_type": "code",
   "execution_count": 144,
   "metadata": {},
   "outputs": [
    {
     "name": "stdout",
     "output_type": "stream",
     "text": [
      "0.054\n",
      "0.131\n",
      "0.888\n"
     ]
    }
   ],
   "source": [
    "# this should be symmetric to part c\n",
    "rho=-.1\n",
    "\n",
    "cor_cof_10 = []\n",
    "cor_cof_100 = []\n",
    "cor_cof_1000 = []\n",
    "\n",
    "for i in range(1000):\n",
    "\n",
    "    rnorms=np.random.multivariate_normal([0,0], [[1,rho],[rho,1]],10)  #sample of size j=10 indepenent N(0,1)\n",
    "    cor_cof_10.append((np.corrcoef(rnorms[:,0],y=rnorms[:,1]))[0][1])\n",
    "    \n",
    "    \n",
    "for i in range(1000):\n",
    "\n",
    "    rnorms=np.random.multivariate_normal([0,0], [[1,rho],[rho,1]],100)\n",
    "    cor_cof_100.append((np.corrcoef(rnorms[:,0],y=rnorms[:,1]))[0][1])\n",
    "    \n",
    "for i in range(1000):\n",
    "\n",
    "    rnorms=np.random.multivariate_normal([0,0], [[1,rho],[rho,1]],1000)  \n",
    "    cor_cof_1000.append((np.corrcoef(rnorms[:,0],y=rnorms[:,1]))[0][1])\n",
    "\n",
    "#sorted_10 = sorted(cor_cof_10)\n",
    "#sorted_100 = sorted(cor_cof_100)\n",
    "#sorted_1000 = sorted(cor_cof_1000)\n",
    "\n",
    "counter_10 = 0\n",
    "counter_100 = 0\n",
    "counter_1000 = 0\n",
    "\n",
    "for i in range(1000):\n",
    "    if cor_cof_10[i] < sorted_10[25] or cor_cof_10[i] > sorted_10[975]:\n",
    "        counter_10 = counter_10 + 1\n",
    "    if cor_cof_100[i] < sorted_100[25] or cor_cof_100[i] > sorted_100[975]:\n",
    "        counter_100 = counter_100 + 1\n",
    "    if cor_cof_1000[i] < sorted_1000[25] or cor_cof_1000[i] > sorted_1000[975]:\n",
    "        counter_1000 = counter_1000 + 1\n",
    "print(counter_10/1000)\n",
    "print( counter_100/1000)\n",
    "print(counter_1000/1000)\n",
    "\n"
   ]
  },
  {
   "cell_type": "code",
   "execution_count": null,
   "metadata": {},
   "outputs": [],
   "source": []
  }
 ],
 "metadata": {
  "kernelspec": {
   "display_name": "Python 3",
   "language": "python",
   "name": "python3"
  },
  "language_info": {
   "codemirror_mode": {
    "name": "ipython",
    "version": 3
   },
   "file_extension": ".py",
   "mimetype": "text/x-python",
   "name": "python",
   "nbconvert_exporter": "python",
   "pygments_lexer": "ipython3",
   "version": "3.7.4"
  }
 },
 "nbformat": 4,
 "nbformat_minor": 2
}
